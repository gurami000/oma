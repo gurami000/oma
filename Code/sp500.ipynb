{
 "nbformat": 4,
 "nbformat_minor": 2,
 "metadata": {
  "language_info": {
   "name": "python",
   "codemirror_mode": {
    "name": "ipython",
    "version": 3
   },
   "version": "3.7.4-final"
  },
  "orig_nbformat": 2,
  "file_extension": ".py",
  "mimetype": "text/x-python",
  "name": "python",
  "npconvert_exporter": "python",
  "pygments_lexer": "ipython3",
  "version": 3,
  "kernelspec": {
   "name": "python37464bitbasecondafc973df1ce424b17b41caafa44b5e9ca",
   "display_name": "Python 3.7.4 64-bit ('base': conda)"
  }
 },
 "cells": [
  {
   "source": [
    "#import os\n",
    "import pandas as pd\n",
    "#import numpy as np\n",
    "import datetime\n",
    "from pandas_datareader import data as pdr\n",
    "import fix_yahoo_finance as yf\n",
    "#from functions import calculateTWR\n",
    "from pathlib import Path"
   ],
   "cell_type": "code",
   "outputs": [],
   "metadata": {},
   "execution_count": 9
  },
  {
   "source": [
    "cwd =  Path.cwd()\n",
    "\n",
    "folder = cwd.parent /'Data'/'IBActivity'\n",
    "\n",
    "tables = cwd.parent /'Data'/ 'Tables'\n",
    "#cwd.parent / 'Data'\n",
    "folder"
   ],
   "cell_type": "code",
   "outputs": [
    {
     "output_type": "execute_result",
     "data": {
      "text/plain": "WindowsPath('d:/Javier/SynologyDrive/Portfolio Python 2/Data/IBActivity')"
     },
     "metadata": {},
     "execution_count": 10
    }
   ],
   "metadata": {},
   "execution_count": 10
  },
  {
   "source": [
    "# Date Ranges for SP 500\n",
    "\n",
    "start_sp = datetime.datetime(2016, 12, 31)\n",
    "end_sp =  datetime.datetime(2020, 2, 7)\n",
    "# The below will pull back stock SP500 Total Return.\n",
    "\n",
    "yf.pdr_override() # <== that's all it takes :-)\n",
    "sp500 = pdr.get_data_yahoo('^SP500TR', start_sp, end_sp)\n",
    "#Resample by month, quarter, year ...:\n",
    "sp500resample = sp500.resample('BM').last() #Uncoment one\n",
    "#No resample eg daily:\n",
    "#sp500resample = sp500.copy() #Uncoment one\n",
    "start_sp, end_sp\n",
    "                            "
   ],
   "cell_type": "code",
   "outputs": [
    {
     "output_type": "stream",
     "name": "stdout",
     "text": "[*********************100%***********************]  1 of 1 downloaded\n"
    },
    {
     "output_type": "execute_result",
     "data": {
      "text/plain": "(datetime.datetime(2016, 12, 31, 0, 0), datetime.datetime(2020, 2, 7, 0, 0))"
     },
     "metadata": {},
     "execution_count": 3
    }
   ],
   "metadata": {},
   "execution_count": 3
  },
  {
   "source": [
    "df = sp500resample['Adj Close'].reset_index().copy()"
   ],
   "cell_type": "code",
   "outputs": [],
   "metadata": {},
   "execution_count": 4
  },
  {
   "source": [
    "def calculateTWR(amounts, *args):\n",
    "    ###Returns TWR of amount series\n",
    "    ##Period return = amount - amount previous period / amount previous period\n",
    "    #TWR = (Cummulative product of Period returns +1 ) - 1\n",
    "    # Times 100 as a percentage\n",
    "    # #df['TWR'] = ((df['PeriodReturn']+1).cumprod()-1)*100\n",
    "    #amount (series)\n",
    "    ###\n",
    "    twr = ((( ((amounts- amounts.shift() + args)/amounts.shift() + args))+1).cumprod()-1)*100\n",
    "    return twr\n",
    ""
   ],
   "cell_type": "code",
   "outputs": [],
   "metadata": {},
   "execution_count": 63
  },
  {
   "source": [
    "df['TWR'] = calculateTWR(df['Adj Close'])"
   ],
   "cell_type": "code",
   "outputs": [],
   "metadata": {},
   "execution_count": 39
  },
  {
   "source": [
    "pv = pd.read_csv(tables/'tables_portfolio_value.csv')\n",
    "pv['Current Total'] = pv['Current Total'].astype(float)\n",
    "#pv.set_index('Date')\n",
    ""
   ],
   "cell_type": "code",
   "outputs": [],
   "metadata": {},
   "execution_count": 64
  },
  {
   "source": [
    "dw = pd.read_csv(tables/'tables_deposits_and_withdrawals.csv')\n",
    "dw['In Base'] = dw['In Base'].astype(float)\n",
    "#dw.set_index('Date', inplace=True)\n",
    "dw.drop(columns= ['Currency','Settle Date','Description','Amount'], inplace=True)\n",
    "dw\n",
    ""
   ],
   "cell_type": "code",
   "outputs": [
    {
     "output_type": "execute_result",
     "data": {
      "text/plain": "          Date     In Base\n0   2016-12-13 -12000.0000\n1   2017-03-20  -9980.4500\n2   2017-04-21  -2145.4000\n3   2017-05-04  -4883.0000\n4   2017-09-29  -3840.6000\n5   2017-12-22  -3837.3000\n6   2018-02-26 -19173.0000\n7   2018-08-31 -27391.0000\n8   2018-10-29 -21180.9375\n9   2018-10-29  22746.0000\n10  2018-11-13 -22478.0094\n11  2018-11-13  22580.0000\n12  2018-12-19 -15000.0000\n13  2018-12-28  -5000.0000\n14  2019-02-19 -31852.5000\n15  2019-02-19  31990.0800\n16  2019-03-28 -25930.2000\n17  2019-03-28  22450.0000\n18  2019-03-28         NaN\n19  2019-04-29    559.3500\n20  2019-08-16 -12747.0000\n21  2019-09-30 -15308.4000\n22  2019-09-30  10899.0000",
      "text/html": "<div>\n<style scoped>\n    .dataframe tbody tr th:only-of-type {\n        vertical-align: middle;\n    }\n\n    .dataframe tbody tr th {\n        vertical-align: top;\n    }\n\n    .dataframe thead th {\n        text-align: right;\n    }\n</style>\n<table border=\"1\" class=\"dataframe\">\n  <thead>\n    <tr style=\"text-align: right;\">\n      <th></th>\n      <th>Date</th>\n      <th>In Base</th>\n    </tr>\n  </thead>\n  <tbody>\n    <tr>\n      <td>0</td>\n      <td>2016-12-13</td>\n      <td>-12000.0000</td>\n    </tr>\n    <tr>\n      <td>1</td>\n      <td>2017-03-20</td>\n      <td>-9980.4500</td>\n    </tr>\n    <tr>\n      <td>2</td>\n      <td>2017-04-21</td>\n      <td>-2145.4000</td>\n    </tr>\n    <tr>\n      <td>3</td>\n      <td>2017-05-04</td>\n      <td>-4883.0000</td>\n    </tr>\n    <tr>\n      <td>4</td>\n      <td>2017-09-29</td>\n      <td>-3840.6000</td>\n    </tr>\n    <tr>\n      <td>5</td>\n      <td>2017-12-22</td>\n      <td>-3837.3000</td>\n    </tr>\n    <tr>\n      <td>6</td>\n      <td>2018-02-26</td>\n      <td>-19173.0000</td>\n    </tr>\n    <tr>\n      <td>7</td>\n      <td>2018-08-31</td>\n      <td>-27391.0000</td>\n    </tr>\n    <tr>\n      <td>8</td>\n      <td>2018-10-29</td>\n      <td>-21180.9375</td>\n    </tr>\n    <tr>\n      <td>9</td>\n      <td>2018-10-29</td>\n      <td>22746.0000</td>\n    </tr>\n    <tr>\n      <td>10</td>\n      <td>2018-11-13</td>\n      <td>-22478.0094</td>\n    </tr>\n    <tr>\n      <td>11</td>\n      <td>2018-11-13</td>\n      <td>22580.0000</td>\n    </tr>\n    <tr>\n      <td>12</td>\n      <td>2018-12-19</td>\n      <td>-15000.0000</td>\n    </tr>\n    <tr>\n      <td>13</td>\n      <td>2018-12-28</td>\n      <td>-5000.0000</td>\n    </tr>\n    <tr>\n      <td>14</td>\n      <td>2019-02-19</td>\n      <td>-31852.5000</td>\n    </tr>\n    <tr>\n      <td>15</td>\n      <td>2019-02-19</td>\n      <td>31990.0800</td>\n    </tr>\n    <tr>\n      <td>16</td>\n      <td>2019-03-28</td>\n      <td>-25930.2000</td>\n    </tr>\n    <tr>\n      <td>17</td>\n      <td>2019-03-28</td>\n      <td>22450.0000</td>\n    </tr>\n    <tr>\n      <td>18</td>\n      <td>2019-03-28</td>\n      <td>NaN</td>\n    </tr>\n    <tr>\n      <td>19</td>\n      <td>2019-04-29</td>\n      <td>559.3500</td>\n    </tr>\n    <tr>\n      <td>20</td>\n      <td>2019-08-16</td>\n      <td>-12747.0000</td>\n    </tr>\n    <tr>\n      <td>21</td>\n      <td>2019-09-30</td>\n      <td>-15308.4000</td>\n    </tr>\n    <tr>\n      <td>22</td>\n      <td>2019-09-30</td>\n      <td>10899.0000</td>\n    </tr>\n  </tbody>\n</table>\n</div>"
     },
     "metadata": {},
     "execution_count": 67
    }
   ],
   "metadata": {},
   "execution_count": 67
  },
  {
   "source": [
    "pv = pv.merge(dw, left_on='Date', right_on='Date', how='left')\n",
    "pv.fillna(0, inplace=True)\n",
    ""
   ],
   "cell_type": "code",
   "outputs": [],
   "metadata": {},
   "execution_count": 66
  },
  {
   "source": [
    "pv['TWR'] = calculateTWR(pv['Current Total'],pv['In Base'])\n",
    "pv.head(50)"
   ],
   "cell_type": "code",
   "outputs": [
    {
     "output_type": "execute_result",
     "data": {
      "text/plain": "          Date  Current Total  In Base  TWR\n0   2016-11-25         0.0000      0.0  NaN\n1   2016-11-28         0.0000      0.0  NaN\n2   2016-11-29         0.0000      0.0  NaN\n3   2016-11-30         0.0000      0.0  NaN\n4   2016-12-01         0.0000      0.0  NaN\n5   2016-12-02         0.0000      0.0  NaN\n6   2016-12-05         0.0000      0.0  NaN\n7   2016-12-06         0.0000      0.0  NaN\n8   2016-12-07         0.0000      0.0  NaN\n9   2016-12-08         0.0000      0.0  NaN\n10  2016-12-09         0.0000      0.0  NaN\n11  2016-12-12         0.0000      0.0  NaN\n12  2016-12-13     12000.0000 -12000.0  inf\n13  2016-12-14     12000.0000      0.0  inf\n14  2016-12-15     12000.0000      0.0  inf\n15  2016-12-16     12000.0000      0.0  inf\n16  2016-12-19     12000.0000      0.0  inf\n17  2016-12-20     12000.0000      0.0  inf\n18  2016-12-21     12000.0000      0.0  inf\n19  2016-12-22     12000.0000      0.0  inf\n20  2016-12-23     12000.0000      0.0  inf\n21  2016-12-26     12000.0000      0.0  inf\n22  2016-12-27     12000.0000      0.0  inf\n23  2016-12-28     12000.0000      0.0  inf\n24  2016-12-29     12000.0000      0.0  inf\n25  2016-12-30     12000.0000      0.0  inf\n26  2017-01-02     12000.0000      0.0  inf\n27  2017-01-03     12000.0000      0.0  inf\n28  2017-01-04     12000.0000      0.0  inf\n29  2017-01-05     12000.0000      0.0  inf\n30  2017-01-06     12000.0000      0.0  inf\n31  2017-01-09     12000.0000      0.0  inf\n32  2017-01-10     12000.0000      0.0  inf\n33  2017-01-11     12000.0000      0.0  inf\n34  2017-01-12     12000.0000      0.0  inf\n35  2017-01-13     12000.0000      0.0  inf\n36  2017-01-16     12000.0000      0.0  inf\n37  2017-01-17     12000.0000      0.0  inf\n38  2017-01-18     12000.0000      0.0  inf\n39  2017-01-19     12011.6000      0.0  inf\n40  2017-01-20     12019.6806      0.0  inf\n41  2017-01-23     12038.9206      0.0  inf\n42  2017-01-24     12025.4006      0.0  inf\n43  2017-01-25     12000.7006      0.0  inf\n44  2017-01-26     11973.1406      0.0  inf\n45  2017-01-27     11979.1206      0.0  inf\n46  2017-01-30     11991.6006      0.0  inf\n47  2017-01-31     12032.6806      0.0  inf\n48  2017-02-01     12023.5806      0.0  inf\n49  2017-02-02     12040.2206      0.0  inf",
      "text/html": "<div>\n<style scoped>\n    .dataframe tbody tr th:only-of-type {\n        vertical-align: middle;\n    }\n\n    .dataframe tbody tr th {\n        vertical-align: top;\n    }\n\n    .dataframe thead th {\n        text-align: right;\n    }\n</style>\n<table border=\"1\" class=\"dataframe\">\n  <thead>\n    <tr style=\"text-align: right;\">\n      <th></th>\n      <th>Date</th>\n      <th>Current Total</th>\n      <th>In Base</th>\n      <th>TWR</th>\n    </tr>\n  </thead>\n  <tbody>\n    <tr>\n      <td>0</td>\n      <td>2016-11-25</td>\n      <td>0.0000</td>\n      <td>0.0</td>\n      <td>NaN</td>\n    </tr>\n    <tr>\n      <td>1</td>\n      <td>2016-11-28</td>\n      <td>0.0000</td>\n      <td>0.0</td>\n      <td>NaN</td>\n    </tr>\n    <tr>\n      <td>2</td>\n      <td>2016-11-29</td>\n      <td>0.0000</td>\n      <td>0.0</td>\n      <td>NaN</td>\n    </tr>\n    <tr>\n      <td>3</td>\n      <td>2016-11-30</td>\n      <td>0.0000</td>\n      <td>0.0</td>\n      <td>NaN</td>\n    </tr>\n    <tr>\n      <td>4</td>\n      <td>2016-12-01</td>\n      <td>0.0000</td>\n      <td>0.0</td>\n      <td>NaN</td>\n    </tr>\n    <tr>\n      <td>5</td>\n      <td>2016-12-02</td>\n      <td>0.0000</td>\n      <td>0.0</td>\n      <td>NaN</td>\n    </tr>\n    <tr>\n      <td>6</td>\n      <td>2016-12-05</td>\n      <td>0.0000</td>\n      <td>0.0</td>\n      <td>NaN</td>\n    </tr>\n    <tr>\n      <td>7</td>\n      <td>2016-12-06</td>\n      <td>0.0000</td>\n      <td>0.0</td>\n      <td>NaN</td>\n    </tr>\n    <tr>\n      <td>8</td>\n      <td>2016-12-07</td>\n      <td>0.0000</td>\n      <td>0.0</td>\n      <td>NaN</td>\n    </tr>\n    <tr>\n      <td>9</td>\n      <td>2016-12-08</td>\n      <td>0.0000</td>\n      <td>0.0</td>\n      <td>NaN</td>\n    </tr>\n    <tr>\n      <td>10</td>\n      <td>2016-12-09</td>\n      <td>0.0000</td>\n      <td>0.0</td>\n      <td>NaN</td>\n    </tr>\n    <tr>\n      <td>11</td>\n      <td>2016-12-12</td>\n      <td>0.0000</td>\n      <td>0.0</td>\n      <td>NaN</td>\n    </tr>\n    <tr>\n      <td>12</td>\n      <td>2016-12-13</td>\n      <td>12000.0000</td>\n      <td>-12000.0</td>\n      <td>inf</td>\n    </tr>\n    <tr>\n      <td>13</td>\n      <td>2016-12-14</td>\n      <td>12000.0000</td>\n      <td>0.0</td>\n      <td>inf</td>\n    </tr>\n    <tr>\n      <td>14</td>\n      <td>2016-12-15</td>\n      <td>12000.0000</td>\n      <td>0.0</td>\n      <td>inf</td>\n    </tr>\n    <tr>\n      <td>15</td>\n      <td>2016-12-16</td>\n      <td>12000.0000</td>\n      <td>0.0</td>\n      <td>inf</td>\n    </tr>\n    <tr>\n      <td>16</td>\n      <td>2016-12-19</td>\n      <td>12000.0000</td>\n      <td>0.0</td>\n      <td>inf</td>\n    </tr>\n    <tr>\n      <td>17</td>\n      <td>2016-12-20</td>\n      <td>12000.0000</td>\n      <td>0.0</td>\n      <td>inf</td>\n    </tr>\n    <tr>\n      <td>18</td>\n      <td>2016-12-21</td>\n      <td>12000.0000</td>\n      <td>0.0</td>\n      <td>inf</td>\n    </tr>\n    <tr>\n      <td>19</td>\n      <td>2016-12-22</td>\n      <td>12000.0000</td>\n      <td>0.0</td>\n      <td>inf</td>\n    </tr>\n    <tr>\n      <td>20</td>\n      <td>2016-12-23</td>\n      <td>12000.0000</td>\n      <td>0.0</td>\n      <td>inf</td>\n    </tr>\n    <tr>\n      <td>21</td>\n      <td>2016-12-26</td>\n      <td>12000.0000</td>\n      <td>0.0</td>\n      <td>inf</td>\n    </tr>\n    <tr>\n      <td>22</td>\n      <td>2016-12-27</td>\n      <td>12000.0000</td>\n      <td>0.0</td>\n      <td>inf</td>\n    </tr>\n    <tr>\n      <td>23</td>\n      <td>2016-12-28</td>\n      <td>12000.0000</td>\n      <td>0.0</td>\n      <td>inf</td>\n    </tr>\n    <tr>\n      <td>24</td>\n      <td>2016-12-29</td>\n      <td>12000.0000</td>\n      <td>0.0</td>\n      <td>inf</td>\n    </tr>\n    <tr>\n      <td>25</td>\n      <td>2016-12-30</td>\n      <td>12000.0000</td>\n      <td>0.0</td>\n      <td>inf</td>\n    </tr>\n    <tr>\n      <td>26</td>\n      <td>2017-01-02</td>\n      <td>12000.0000</td>\n      <td>0.0</td>\n      <td>inf</td>\n    </tr>\n    <tr>\n      <td>27</td>\n      <td>2017-01-03</td>\n      <td>12000.0000</td>\n      <td>0.0</td>\n      <td>inf</td>\n    </tr>\n    <tr>\n      <td>28</td>\n      <td>2017-01-04</td>\n      <td>12000.0000</td>\n      <td>0.0</td>\n      <td>inf</td>\n    </tr>\n    <tr>\n      <td>29</td>\n      <td>2017-01-05</td>\n      <td>12000.0000</td>\n      <td>0.0</td>\n      <td>inf</td>\n    </tr>\n    <tr>\n      <td>30</td>\n      <td>2017-01-06</td>\n      <td>12000.0000</td>\n      <td>0.0</td>\n      <td>inf</td>\n    </tr>\n    <tr>\n      <td>31</td>\n      <td>2017-01-09</td>\n      <td>12000.0000</td>\n      <td>0.0</td>\n      <td>inf</td>\n    </tr>\n    <tr>\n      <td>32</td>\n      <td>2017-01-10</td>\n      <td>12000.0000</td>\n      <td>0.0</td>\n      <td>inf</td>\n    </tr>\n    <tr>\n      <td>33</td>\n      <td>2017-01-11</td>\n      <td>12000.0000</td>\n      <td>0.0</td>\n      <td>inf</td>\n    </tr>\n    <tr>\n      <td>34</td>\n      <td>2017-01-12</td>\n      <td>12000.0000</td>\n      <td>0.0</td>\n      <td>inf</td>\n    </tr>\n    <tr>\n      <td>35</td>\n      <td>2017-01-13</td>\n      <td>12000.0000</td>\n      <td>0.0</td>\n      <td>inf</td>\n    </tr>\n    <tr>\n      <td>36</td>\n      <td>2017-01-16</td>\n      <td>12000.0000</td>\n      <td>0.0</td>\n      <td>inf</td>\n    </tr>\n    <tr>\n      <td>37</td>\n      <td>2017-01-17</td>\n      <td>12000.0000</td>\n      <td>0.0</td>\n      <td>inf</td>\n    </tr>\n    <tr>\n      <td>38</td>\n      <td>2017-01-18</td>\n      <td>12000.0000</td>\n      <td>0.0</td>\n      <td>inf</td>\n    </tr>\n    <tr>\n      <td>39</td>\n      <td>2017-01-19</td>\n      <td>12011.6000</td>\n      <td>0.0</td>\n      <td>inf</td>\n    </tr>\n    <tr>\n      <td>40</td>\n      <td>2017-01-20</td>\n      <td>12019.6806</td>\n      <td>0.0</td>\n      <td>inf</td>\n    </tr>\n    <tr>\n      <td>41</td>\n      <td>2017-01-23</td>\n      <td>12038.9206</td>\n      <td>0.0</td>\n      <td>inf</td>\n    </tr>\n    <tr>\n      <td>42</td>\n      <td>2017-01-24</td>\n      <td>12025.4006</td>\n      <td>0.0</td>\n      <td>inf</td>\n    </tr>\n    <tr>\n      <td>43</td>\n      <td>2017-01-25</td>\n      <td>12000.7006</td>\n      <td>0.0</td>\n      <td>inf</td>\n    </tr>\n    <tr>\n      <td>44</td>\n      <td>2017-01-26</td>\n      <td>11973.1406</td>\n      <td>0.0</td>\n      <td>inf</td>\n    </tr>\n    <tr>\n      <td>45</td>\n      <td>2017-01-27</td>\n      <td>11979.1206</td>\n      <td>0.0</td>\n      <td>inf</td>\n    </tr>\n    <tr>\n      <td>46</td>\n      <td>2017-01-30</td>\n      <td>11991.6006</td>\n      <td>0.0</td>\n      <td>inf</td>\n    </tr>\n    <tr>\n      <td>47</td>\n      <td>2017-01-31</td>\n      <td>12032.6806</td>\n      <td>0.0</td>\n      <td>inf</td>\n    </tr>\n    <tr>\n      <td>48</td>\n      <td>2017-02-01</td>\n      <td>12023.5806</td>\n      <td>0.0</td>\n      <td>inf</td>\n    </tr>\n    <tr>\n      <td>49</td>\n      <td>2017-02-02</td>\n      <td>12040.2206</td>\n      <td>0.0</td>\n      <td>inf</td>\n    </tr>\n  </tbody>\n</table>\n</div>"
     },
     "metadata": {},
     "execution_count": 60
    }
   ],
   "metadata": {},
   "execution_count": 60
  },
  {
   "cell_type": "code",
   "execution_count": null,
   "metadata": {},
   "outputs": [],
   "source": []
  }
 ]
}
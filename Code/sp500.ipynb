{
 "nbformat": 4,
 "nbformat_minor": 2,
 "metadata": {
  "language_info": {
   "name": "python",
   "codemirror_mode": {
    "name": "ipython",
    "version": 3
   },
   "version": "3.7.4-final"
  },
  "orig_nbformat": 2,
  "file_extension": ".py",
  "mimetype": "text/x-python",
  "name": "python",
  "npconvert_exporter": "python",
  "pygments_lexer": "ipython3",
  "version": 3,
  "kernelspec": {
   "name": "python37464bitbasecondafc973df1ce424b17b41caafa44b5e9ca",
   "display_name": "Python 3.7.4 64-bit ('base': conda)"
  }
 },
 "cells": [
  {
   "source": [
    "#import os\n",
    "import pandas as pd\n",
    "#import numpy as np\n",
    "import datetime\n",
    "from pandas_datareader import data as pdr\n",
    "import fix_yahoo_finance as yf\n",
    "from functions import calculateTWR"
   ],
   "cell_type": "code",
   "outputs": [],
   "metadata": {},
   "execution_count": 69
  },
  {
   "source": [
    "# Date Ranges for SP 500\n",
    "\n",
    "start_sp = datetime.datetime(2016, 12, 31)\n",
    "end_sp =  datetime.datetime(2020, 2, 7)\n",
    "# The below will pull back stock SP500 Total Return.\n",
    "\n",
    "yf.pdr_override() # <== that's all it takes :-)\n",
    "sp500 = pdr.get_data_yahoo('^SP500TR', start_sp, end_sp)\n",
    "#Resample by month, quarter, year ...:\n",
    "sp500resample = sp500.resample('BM').last() #Uncoment one\n",
    "#No resample eg daily:\n",
    "#sp500resample = sp500.copy() #Uncoment one\n",
    "start_sp, end_sp\n",
    "                            "
   ],
   "cell_type": "code",
   "outputs": [
    {
     "output_type": "stream",
     "name": "stdout",
     "text": "[*********************100%***********************]  1 of 1 downloaded\n"
    },
    {
     "output_type": "execute_result",
     "data": {
      "text/plain": "(datetime.datetime(2016, 12, 31, 0, 0), datetime.datetime(2020, 2, 7, 0, 0))"
     },
     "metadata": {},
     "execution_count": 71
    }
   ],
   "metadata": {},
   "execution_count": 71
  },
  {
   "source": [
    "df = sp500resample['Adj Close'].reset_index().copy()"
   ],
   "cell_type": "code",
   "outputs": [],
   "metadata": {},
   "execution_count": 72
  },
  {
   "source": [
    "# def calculateTWR(amounts):\n",
    "#     ###Returns TWR of amount series\n",
    "#     ##Period return = amount - amount previous period / amount previous period\n",
    "#     #TWR = (Cummulative product of Period returns +1 ) - 1\n",
    "#     # Times 100 as a percentage\n",
    "#     # #df['TWR'] = ((df['PeriodReturn']+1).cumprod()-1)*100\n",
    "#     #amount (series)\n",
    "#     ###\n",
    "#     twr = ((( ((amounts- amounts.shift())/amounts.shift()))+1).cumprod()-1)*100\n",
    "#     return twr"
   ],
   "cell_type": "code",
   "outputs": [],
   "metadata": {},
   "execution_count": 70
  },
  {
   "source": [
    "df['TWR'] = calculateTWR(df['Adj Close'])"
   ],
   "cell_type": "code",
   "outputs": [],
   "metadata": {},
   "execution_count": 73
  },
  {
   "source": [
    "df"
   ],
   "cell_type": "code",
   "outputs": [
    {
     "output_type": "execute_result",
     "data": {
      "text/plain": "         Date  Adj Close        TWR\n0  2016-12-30    4278.66        NaN\n1  2017-01-31    4359.81   1.896622\n2  2017-02-28    4532.93   5.942748\n3  2017-03-31    4538.21   6.066152\n4  2017-04-28    4584.82   7.155511\n5  2017-05-31    4649.34   8.663460\n6  2017-06-30    4678.36   9.341710\n7  2017-07-31    4774.56  11.590077\n8  2017-08-31    4789.18  11.931773\n9  2017-09-29    4887.97  14.240673\n10 2017-10-31    5002.03  16.906461\n11 2017-11-30    5155.44  20.491930\n12 2017-12-29    5212.76  21.831601\n13 2018-01-31    5511.21  28.806916\n14 2018-02-28    5308.09  24.059635\n15 2018-03-30    5173.19  20.906779\n16 2018-04-30    5193.04  21.370710\n17 2018-05-31    5318.10  24.293587\n18 2018-06-29    5350.83  25.058546\n19 2018-07-31    5549.96  29.712574\n20 2018-08-31    5730.80  33.939130\n21 2018-09-28    5763.42  34.701519\n22 2018-10-31    5369.49  25.494664\n23 2018-11-30    5478.91  28.052007\n24 2018-12-31    4984.22  16.490210\n25 2019-01-31    5383.63  25.825142\n26 2019-02-28    5556.49  29.865191\n27 2019-03-29    5664.46  32.388645\n28 2019-04-30    5893.81  37.748968\n29 2019-05-31    5519.27  28.995293\n30 2019-06-28    5908.25  38.086457\n31 2019-07-31    5993.17  40.071191\n32 2019-08-30    5898.23  37.852272\n33 2019-09-30    6008.59  40.431584\n34 2019-10-31    6138.73  43.473190\n35 2019-11-29    6361.56  48.681129\n36 2019-12-31    6553.57  53.168749\n37 2020-01-31    6551.00  53.108684\n38 2020-02-28    6796.64  58.849733",
      "text/html": "<div>\n<style scoped>\n    .dataframe tbody tr th:only-of-type {\n        vertical-align: middle;\n    }\n\n    .dataframe tbody tr th {\n        vertical-align: top;\n    }\n\n    .dataframe thead th {\n        text-align: right;\n    }\n</style>\n<table border=\"1\" class=\"dataframe\">\n  <thead>\n    <tr style=\"text-align: right;\">\n      <th></th>\n      <th>Date</th>\n      <th>Adj Close</th>\n      <th>TWR</th>\n    </tr>\n  </thead>\n  <tbody>\n    <tr>\n      <td>0</td>\n      <td>2016-12-30</td>\n      <td>4278.66</td>\n      <td>NaN</td>\n    </tr>\n    <tr>\n      <td>1</td>\n      <td>2017-01-31</td>\n      <td>4359.81</td>\n      <td>1.896622</td>\n    </tr>\n    <tr>\n      <td>2</td>\n      <td>2017-02-28</td>\n      <td>4532.93</td>\n      <td>5.942748</td>\n    </tr>\n    <tr>\n      <td>3</td>\n      <td>2017-03-31</td>\n      <td>4538.21</td>\n      <td>6.066152</td>\n    </tr>\n    <tr>\n      <td>4</td>\n      <td>2017-04-28</td>\n      <td>4584.82</td>\n      <td>7.155511</td>\n    </tr>\n    <tr>\n      <td>5</td>\n      <td>2017-05-31</td>\n      <td>4649.34</td>\n      <td>8.663460</td>\n    </tr>\n    <tr>\n      <td>6</td>\n      <td>2017-06-30</td>\n      <td>4678.36</td>\n      <td>9.341710</td>\n    </tr>\n    <tr>\n      <td>7</td>\n      <td>2017-07-31</td>\n      <td>4774.56</td>\n      <td>11.590077</td>\n    </tr>\n    <tr>\n      <td>8</td>\n      <td>2017-08-31</td>\n      <td>4789.18</td>\n      <td>11.931773</td>\n    </tr>\n    <tr>\n      <td>9</td>\n      <td>2017-09-29</td>\n      <td>4887.97</td>\n      <td>14.240673</td>\n    </tr>\n    <tr>\n      <td>10</td>\n      <td>2017-10-31</td>\n      <td>5002.03</td>\n      <td>16.906461</td>\n    </tr>\n    <tr>\n      <td>11</td>\n      <td>2017-11-30</td>\n      <td>5155.44</td>\n      <td>20.491930</td>\n    </tr>\n    <tr>\n      <td>12</td>\n      <td>2017-12-29</td>\n      <td>5212.76</td>\n      <td>21.831601</td>\n    </tr>\n    <tr>\n      <td>13</td>\n      <td>2018-01-31</td>\n      <td>5511.21</td>\n      <td>28.806916</td>\n    </tr>\n    <tr>\n      <td>14</td>\n      <td>2018-02-28</td>\n      <td>5308.09</td>\n      <td>24.059635</td>\n    </tr>\n    <tr>\n      <td>15</td>\n      <td>2018-03-30</td>\n      <td>5173.19</td>\n      <td>20.906779</td>\n    </tr>\n    <tr>\n      <td>16</td>\n      <td>2018-04-30</td>\n      <td>5193.04</td>\n      <td>21.370710</td>\n    </tr>\n    <tr>\n      <td>17</td>\n      <td>2018-05-31</td>\n      <td>5318.10</td>\n      <td>24.293587</td>\n    </tr>\n    <tr>\n      <td>18</td>\n      <td>2018-06-29</td>\n      <td>5350.83</td>\n      <td>25.058546</td>\n    </tr>\n    <tr>\n      <td>19</td>\n      <td>2018-07-31</td>\n      <td>5549.96</td>\n      <td>29.712574</td>\n    </tr>\n    <tr>\n      <td>20</td>\n      <td>2018-08-31</td>\n      <td>5730.80</td>\n      <td>33.939130</td>\n    </tr>\n    <tr>\n      <td>21</td>\n      <td>2018-09-28</td>\n      <td>5763.42</td>\n      <td>34.701519</td>\n    </tr>\n    <tr>\n      <td>22</td>\n      <td>2018-10-31</td>\n      <td>5369.49</td>\n      <td>25.494664</td>\n    </tr>\n    <tr>\n      <td>23</td>\n      <td>2018-11-30</td>\n      <td>5478.91</td>\n      <td>28.052007</td>\n    </tr>\n    <tr>\n      <td>24</td>\n      <td>2018-12-31</td>\n      <td>4984.22</td>\n      <td>16.490210</td>\n    </tr>\n    <tr>\n      <td>25</td>\n      <td>2019-01-31</td>\n      <td>5383.63</td>\n      <td>25.825142</td>\n    </tr>\n    <tr>\n      <td>26</td>\n      <td>2019-02-28</td>\n      <td>5556.49</td>\n      <td>29.865191</td>\n    </tr>\n    <tr>\n      <td>27</td>\n      <td>2019-03-29</td>\n      <td>5664.46</td>\n      <td>32.388645</td>\n    </tr>\n    <tr>\n      <td>28</td>\n      <td>2019-04-30</td>\n      <td>5893.81</td>\n      <td>37.748968</td>\n    </tr>\n    <tr>\n      <td>29</td>\n      <td>2019-05-31</td>\n      <td>5519.27</td>\n      <td>28.995293</td>\n    </tr>\n    <tr>\n      <td>30</td>\n      <td>2019-06-28</td>\n      <td>5908.25</td>\n      <td>38.086457</td>\n    </tr>\n    <tr>\n      <td>31</td>\n      <td>2019-07-31</td>\n      <td>5993.17</td>\n      <td>40.071191</td>\n    </tr>\n    <tr>\n      <td>32</td>\n      <td>2019-08-30</td>\n      <td>5898.23</td>\n      <td>37.852272</td>\n    </tr>\n    <tr>\n      <td>33</td>\n      <td>2019-09-30</td>\n      <td>6008.59</td>\n      <td>40.431584</td>\n    </tr>\n    <tr>\n      <td>34</td>\n      <td>2019-10-31</td>\n      <td>6138.73</td>\n      <td>43.473190</td>\n    </tr>\n    <tr>\n      <td>35</td>\n      <td>2019-11-29</td>\n      <td>6361.56</td>\n      <td>48.681129</td>\n    </tr>\n    <tr>\n      <td>36</td>\n      <td>2019-12-31</td>\n      <td>6553.57</td>\n      <td>53.168749</td>\n    </tr>\n    <tr>\n      <td>37</td>\n      <td>2020-01-31</td>\n      <td>6551.00</td>\n      <td>53.108684</td>\n    </tr>\n    <tr>\n      <td>38</td>\n      <td>2020-02-28</td>\n      <td>6796.64</td>\n      <td>58.849733</td>\n    </tr>\n  </tbody>\n</table>\n</div>"
     },
     "metadata": {},
     "execution_count": 74
    }
   ],
   "metadata": {},
   "execution_count": 74
  },
  {
   "cell_type": "code",
   "execution_count": null,
   "metadata": {},
   "outputs": [],
   "source": []
  }
 ]
}
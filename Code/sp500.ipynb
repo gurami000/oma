{
 "nbformat": 4,
 "nbformat_minor": 2,
 "metadata": {
  "language_info": {
   "name": "python",
   "codemirror_mode": {
    "name": "ipython",
    "version": 3
   },
   "version": "3.7.4-final"
  },
  "orig_nbformat": 2,
  "file_extension": ".py",
  "mimetype": "text/x-python",
  "name": "python",
  "npconvert_exporter": "python",
  "pygments_lexer": "ipython3",
  "version": 3,
  "kernelspec": {
   "name": "python37464bitbasecondafc973df1ce424b17b41caafa44b5e9ca",
   "display_name": "Python 3.7.4 64-bit ('base': conda)"
  }
 },
 "cells": [
  {
   "cell_type": "code",
   "execution_count": 183,
   "metadata": {},
   "outputs": [],
   "source": [
    "import os\n",
    "import pandas as pd\n",
    "import numpy as np\n",
    "import datetime\n",
    "from pandas_datareader import data as pdr\n",
    "import fix_yahoo_finance as yf\n",
    "from pathlib import Path"
   ]
  },
  {
   "cell_type": "code",
   "execution_count": 184,
   "metadata": {},
   "outputs": [
    {
     "data": {
      "text/plain": "WindowsPath('d:/Javier/SynologyDrive/Portfolio Python 2/Data/Tables')"
     },
     "execution_count": 184,
     "metadata": {},
     "output_type": "execute_result"
    }
   ],
   "source": [
    "cwd =  Path.cwd()\n",
    "cwd = cwd.parents[0]\n",
    "folder = cwd /'Data'/'IBActivity'\n",
    "\n",
    "tables = cwd / 'Data'/'Tables'\n",
    "tables"
   ]
  },
  {
   "cell_type": "code",
   "execution_count": 185,
   "metadata": {},
   "outputs": [
    {
     "data": {
      "text/html": "<div>\n<style scoped>\n    .dataframe tbody tr th:only-of-type {\n        vertical-align: middle;\n    }\n\n    .dataframe tbody tr th {\n        vertical-align: top;\n    }\n\n    .dataframe thead th {\n        text-align: right;\n    }\n</style>\n<table border=\"1\" class=\"dataframe\">\n  <thead>\n    <tr style=\"text-align: right;\">\n      <th></th>\n      <th>Unnamed: 0</th>\n      <th>Asset Category</th>\n      <th>Currency</th>\n      <th>Symbol</th>\n      <th>Date/Time</th>\n      <th>Quantity</th>\n      <th>T. Price</th>\n      <th>Proceeds</th>\n      <th>Comm/Fee</th>\n      <th>Quantity_Rsum</th>\n    </tr>\n  </thead>\n  <tbody>\n    <tr>\n      <td>0</td>\n      <td>45</td>\n      <td>Stocks</td>\n      <td>USD</td>\n      <td>GLD</td>\n      <td>2017-01-19 10:56:05</td>\n      <td>20.0000</td>\n      <td>114.14000</td>\n      <td>-2282.800000</td>\n      <td>-1.000000</td>\n      <td>20.0000</td>\n    </tr>\n    <tr>\n      <td>1</td>\n      <td>45</td>\n      <td>Stocks</td>\n      <td>USD</td>\n      <td>GLD</td>\n      <td>2017-01-20 09:47:28</td>\n      <td>6.0000</td>\n      <td>114.46990</td>\n      <td>-686.819400</td>\n      <td>-1.000000</td>\n      <td>26.0000</td>\n    </tr>\n    <tr>\n      <td>2</td>\n      <td>48</td>\n      <td>Stocks</td>\n      <td>USD</td>\n      <td>SBUX</td>\n      <td>2017-02-21 09:44:20</td>\n      <td>10.0000</td>\n      <td>57.79930</td>\n      <td>-577.993000</td>\n      <td>-1.000000</td>\n      <td>10.0000</td>\n    </tr>\n    <tr>\n      <td>3</td>\n      <td>56</td>\n      <td>Equity and Index Options</td>\n      <td>USD</td>\n      <td>WFM 19MAY17 28.0 P</td>\n      <td>2017-03-10 09:45:39</td>\n      <td>-1.0000</td>\n      <td>0.86000</td>\n      <td>86.000000</td>\n      <td>-0.756975</td>\n      <td>-1.0000</td>\n    </tr>\n    <tr>\n      <td>4</td>\n      <td>59</td>\n      <td>Equity and Index Options</td>\n      <td>USD</td>\n      <td>MTCH 21APR17 17.5 P</td>\n      <td>2017-03-14 09:34:00</td>\n      <td>-1.0000</td>\n      <td>1.15000</td>\n      <td>115.000000</td>\n      <td>-1.097607</td>\n      <td>-1.0000</td>\n    </tr>\n    <tr>\n      <td>...</td>\n      <td>...</td>\n      <td>...</td>\n      <td>...</td>\n      <td>...</td>\n      <td>...</td>\n      <td>...</td>\n      <td>...</td>\n      <td>...</td>\n      <td>...</td>\n      <td>...</td>\n    </tr>\n    <tr>\n      <td>1307</td>\n      <td>491</td>\n      <td>Equity and Index Options</td>\n      <td>USD</td>\n      <td>UVXY 21JAN22 50.0 C</td>\n      <td>2019-09-23 10:19:19</td>\n      <td>-1.0000</td>\n      <td>9.40000</td>\n      <td>940.000000</td>\n      <td>-0.814358</td>\n      <td>-1.0000</td>\n    </tr>\n    <tr>\n      <td>1308</td>\n      <td>471</td>\n      <td>Stocks</td>\n      <td>USD</td>\n      <td>CEFL</td>\n      <td>2019-09-24 10:00:11</td>\n      <td>2.0000</td>\n      <td>14.30000</td>\n      <td>-28.600000</td>\n      <td>-1.000000</td>\n      <td>121.0000</td>\n    </tr>\n    <tr>\n      <td>1309</td>\n      <td>473</td>\n      <td>Stocks</td>\n      <td>USD</td>\n      <td>XOP</td>\n      <td>2019-09-24 09:30:00</td>\n      <td>100.0000</td>\n      <td>23.58000</td>\n      <td>-2358.000000</td>\n      <td>-1.000000</td>\n      <td>0.0000</td>\n    </tr>\n    <tr>\n      <td>1310</td>\n      <td>1013</td>\n      <td>Forex</td>\n      <td>HKD</td>\n      <td>EUR.HKD</td>\n      <td>2019-09-29 22:50:30</td>\n      <td>13998.0000</td>\n      <td>8.57250</td>\n      <td>-119997.855000</td>\n      <td>-2.000000</td>\n      <td>108339.0000</td>\n    </tr>\n    <tr>\n      <td>1311</td>\n      <td>1012</td>\n      <td>Forex</td>\n      <td>HKD</td>\n      <td>USD.HKD</td>\n      <td>2019-10-01 18:00:34</td>\n      <td>0.2734</td>\n      <td>7.84295</td>\n      <td>-2.144263</td>\n      <td>0.000000</td>\n      <td>60904.4444</td>\n    </tr>\n  </tbody>\n</table>\n<p>1312 rows × 10 columns</p>\n</div>",
      "text/plain": "      Unnamed: 0            Asset Category Currency               Symbol  \\\n0             45                    Stocks      USD                  GLD   \n1             45                    Stocks      USD                  GLD   \n2             48                    Stocks      USD                 SBUX   \n3             56  Equity and Index Options      USD   WFM 19MAY17 28.0 P   \n4             59  Equity and Index Options      USD  MTCH 21APR17 17.5 P   \n...          ...                       ...      ...                  ...   \n1307         491  Equity and Index Options      USD  UVXY 21JAN22 50.0 C   \n1308         471                    Stocks      USD                 CEFL   \n1309         473                    Stocks      USD                  XOP   \n1310        1013                     Forex      HKD              EUR.HKD   \n1311        1012                     Forex      HKD              USD.HKD   \n\n               Date/Time    Quantity   T. Price       Proceeds  Comm/Fee  \\\n0    2017-01-19 10:56:05     20.0000  114.14000   -2282.800000 -1.000000   \n1    2017-01-20 09:47:28      6.0000  114.46990    -686.819400 -1.000000   \n2    2017-02-21 09:44:20     10.0000   57.79930    -577.993000 -1.000000   \n3    2017-03-10 09:45:39     -1.0000    0.86000      86.000000 -0.756975   \n4    2017-03-14 09:34:00     -1.0000    1.15000     115.000000 -1.097607   \n...                  ...         ...        ...            ...       ...   \n1307 2019-09-23 10:19:19     -1.0000    9.40000     940.000000 -0.814358   \n1308 2019-09-24 10:00:11      2.0000   14.30000     -28.600000 -1.000000   \n1309 2019-09-24 09:30:00    100.0000   23.58000   -2358.000000 -1.000000   \n1310 2019-09-29 22:50:30  13998.0000    8.57250 -119997.855000 -2.000000   \n1311 2019-10-01 18:00:34      0.2734    7.84295      -2.144263  0.000000   \n\n      Quantity_Rsum  \n0           20.0000  \n1           26.0000  \n2           10.0000  \n3           -1.0000  \n4           -1.0000  \n...             ...  \n1307        -1.0000  \n1308       121.0000  \n1309         0.0000  \n1310    108339.0000  \n1311     60904.4444  \n\n[1312 rows x 10 columns]"
     },
     "execution_count": 185,
     "metadata": {},
     "output_type": "execute_result"
    }
   ],
   "source": [
    "trades = pd.read_csv(tables/'tables_Trades.csv')\n",
    "trades['Date/Time'] = pd.to_datetime(trades['Date/Time'])\n",
    "trades"
   ]
  },
  {
   "cell_type": "code",
   "execution_count": 262,
   "metadata": {},
   "outputs": [
    {
     "data": {
      "text/plain": "(datetime.datetime(2017, 2, 8, 0, 0), datetime.datetime(2020, 2, 5, 0, 0))"
     },
     "execution_count": 262,
     "metadata": {},
     "output_type": "execute_result"
    }
   ],
   "source": [
    "min_date = datetime.datetime(2017, 2, 8)\n",
    "max_date = datetime.datetime(2020, 2, 5)\n",
    "#max_date = max(trades['Date/Time']).date()\n",
    "min_date, max_date"
   ]
  },
  {
   "cell_type": "code",
   "execution_count": 263,
   "metadata": {},
   "outputs": [],
   "source": [
    "# Date Ranges for SP 500 and for all tickers\n",
    "# Modify these date ranges each week.\n",
    "\n",
    "# The below will pull back stock prices from 2010 until end date specified.\n",
    "# start_sp = datetime.datetime(2017, 1, 1)\n",
    "# end_sp = datetime.datetime(2020, 2, 7)\n",
    "\n",
    "start_sp = min_date\n",
    "end_sp = max_date\n",
    "\n",
    "# This variable is used for YTD performance.\n",
    "end_of_last_year = datetime.datetime(2019, 12, 31)\n",
    "\n",
    "# These are separate if for some reason want different date range than SP.\n",
    "# stocks_start = datetime.datetime(2017, 1, 1)\n",
    "# stocks_end = datetime.datetime(2020, 2, 7)\n",
    "\n",
    "stocks_start = min_date\n",
    "stocks_end = max_date"
   ]
  },
  {
   "cell_type": "code",
   "execution_count": 264,
   "metadata": {},
   "outputs": [
    {
     "name": "stdout",
     "output_type": "stream",
     "text": "[*********************100%***********************]  1 of 1 downloaded\n"
    },
    {
     "data": {
      "text/html": "<div>\n<style scoped>\n    .dataframe tbody tr th:only-of-type {\n        vertical-align: middle;\n    }\n\n    .dataframe tbody tr th {\n        vertical-align: top;\n    }\n\n    .dataframe thead th {\n        text-align: right;\n    }\n</style>\n<table border=\"1\" class=\"dataframe\">\n  <thead>\n    <tr style=\"text-align: right;\">\n      <th></th>\n      <th>Open</th>\n      <th>High</th>\n      <th>Low</th>\n      <th>Close</th>\n      <th>Adj Close</th>\n      <th>Volume</th>\n    </tr>\n    <tr>\n      <th>Date</th>\n      <th></th>\n      <th></th>\n      <th></th>\n      <th></th>\n      <th></th>\n      <th></th>\n    </tr>\n  </thead>\n  <tbody>\n    <tr>\n      <td>2017-02-07</td>\n      <td>2295.87</td>\n      <td>2299.40</td>\n      <td>2290.16</td>\n      <td>2293.08</td>\n      <td>2293.08</td>\n      <td>3448690000</td>\n    </tr>\n    <tr>\n      <td>2017-02-08</td>\n      <td>2289.55</td>\n      <td>2295.91</td>\n      <td>2285.38</td>\n      <td>2294.67</td>\n      <td>2294.67</td>\n      <td>3609740000</td>\n    </tr>\n    <tr>\n      <td>2017-02-09</td>\n      <td>2296.70</td>\n      <td>2311.08</td>\n      <td>2296.61</td>\n      <td>2307.87</td>\n      <td>2307.87</td>\n      <td>3677940000</td>\n    </tr>\n    <tr>\n      <td>2017-02-10</td>\n      <td>2312.27</td>\n      <td>2319.23</td>\n      <td>2311.10</td>\n      <td>2316.10</td>\n      <td>2316.10</td>\n      <td>3475020000</td>\n    </tr>\n    <tr>\n      <td>2017-02-13</td>\n      <td>2321.72</td>\n      <td>2331.58</td>\n      <td>2321.42</td>\n      <td>2328.25</td>\n      <td>2328.25</td>\n      <td>3349730000</td>\n    </tr>\n  </tbody>\n</table>\n</div>",
      "text/plain": "               Open     High      Low    Close  Adj Close      Volume\nDate                                                                 \n2017-02-07  2295.87  2299.40  2290.16  2293.08    2293.08  3448690000\n2017-02-08  2289.55  2295.91  2285.38  2294.67    2294.67  3609740000\n2017-02-09  2296.70  2311.08  2296.61  2307.87    2307.87  3677940000\n2017-02-10  2312.27  2319.23  2311.10  2316.10    2316.10  3475020000\n2017-02-13  2321.72  2331.58  2321.42  2328.25    2328.25  3349730000"
     },
     "execution_count": 264,
     "metadata": {},
     "output_type": "execute_result"
    }
   ],
   "source": [
    "yf.pdr_override() # <== that's all it takes :-)\n",
    "sp500 = pdr.get_data_yahoo('^GSPC', \n",
    "                           start_sp,\n",
    "                             end_sp)\n",
    "    \n",
    "sp500.head()"
   ]
  },
  {
   "cell_type": "code",
   "execution_count": 251,
   "metadata": {},
   "outputs": [],
   "source": [
    "#sp500\n",
    "#sp500 = sp500.resample('BM').last()"
   ]
  },
  {
   "cell_type": "code",
   "execution_count": 265,
   "metadata": {},
   "outputs": [],
   "source": [
    "sp500 = sp500['Adj Close'].reset_index()"
   ]
  },
  {
   "cell_type": "code",
   "execution_count": 266,
   "metadata": {},
   "outputs": [
    {
     "data": {
      "text/html": "<div>\n<style scoped>\n    .dataframe tbody tr th:only-of-type {\n        vertical-align: middle;\n    }\n\n    .dataframe tbody tr th {\n        vertical-align: top;\n    }\n\n    .dataframe thead th {\n        text-align: right;\n    }\n</style>\n<table border=\"1\" class=\"dataframe\">\n  <thead>\n    <tr style=\"text-align: right;\">\n      <th></th>\n      <th>Date</th>\n      <th>Adj Close</th>\n    </tr>\n  </thead>\n  <tbody>\n    <tr>\n      <td>0</td>\n      <td>2017-02-07</td>\n      <td>2293.08</td>\n    </tr>\n    <tr>\n      <td>1</td>\n      <td>2017-02-08</td>\n      <td>2294.67</td>\n    </tr>\n    <tr>\n      <td>2</td>\n      <td>2017-02-09</td>\n      <td>2307.87</td>\n    </tr>\n    <tr>\n      <td>3</td>\n      <td>2017-02-10</td>\n      <td>2316.10</td>\n    </tr>\n    <tr>\n      <td>4</td>\n      <td>2017-02-13</td>\n      <td>2328.25</td>\n    </tr>\n    <tr>\n      <td>...</td>\n      <td>...</td>\n      <td>...</td>\n    </tr>\n    <tr>\n      <td>748</td>\n      <td>2020-01-29</td>\n      <td>3273.40</td>\n    </tr>\n    <tr>\n      <td>749</td>\n      <td>2020-01-30</td>\n      <td>3283.66</td>\n    </tr>\n    <tr>\n      <td>750</td>\n      <td>2020-01-31</td>\n      <td>3225.52</td>\n    </tr>\n    <tr>\n      <td>751</td>\n      <td>2020-02-03</td>\n      <td>3248.92</td>\n    </tr>\n    <tr>\n      <td>752</td>\n      <td>2020-02-04</td>\n      <td>3297.59</td>\n    </tr>\n  </tbody>\n</table>\n<p>753 rows × 2 columns</p>\n</div>",
      "text/plain": "          Date  Adj Close\n0   2017-02-07    2293.08\n1   2017-02-08    2294.67\n2   2017-02-09    2307.87\n3   2017-02-10    2316.10\n4   2017-02-13    2328.25\n..         ...        ...\n748 2020-01-29    3273.40\n749 2020-01-30    3283.66\n750 2020-01-31    3225.52\n751 2020-02-03    3248.92\n752 2020-02-04    3297.59\n\n[753 rows x 2 columns]"
     },
     "execution_count": 266,
     "metadata": {},
     "output_type": "execute_result"
    }
   ],
   "source": [
    "sp500"
   ]
  },
  {
   "cell_type": "code",
   "execution_count": 267,
   "metadata": {},
   "outputs": [],
   "source": [
    "sp500['Shift'] = sp500['Adj Close'].shift()"
   ]
  },
  {
   "cell_type": "code",
   "execution_count": 268,
   "metadata": {},
   "outputs": [],
   "source": [
    "sp500['diff'] = sp500['Adj Close'].diff()"
   ]
  },
  {
   "cell_type": "code",
   "execution_count": 269,
   "metadata": {},
   "outputs": [
    {
     "data": {
      "text/html": "<div>\n<style scoped>\n    .dataframe tbody tr th:only-of-type {\n        vertical-align: middle;\n    }\n\n    .dataframe tbody tr th {\n        vertical-align: top;\n    }\n\n    .dataframe thead th {\n        text-align: right;\n    }\n</style>\n<table border=\"1\" class=\"dataframe\">\n  <thead>\n    <tr style=\"text-align: right;\">\n      <th></th>\n      <th>Date</th>\n      <th>Adj Close</th>\n      <th>Shift</th>\n      <th>diff</th>\n    </tr>\n  </thead>\n  <tbody>\n    <tr>\n      <td>0</td>\n      <td>2017-02-07</td>\n      <td>2293.08</td>\n      <td>NaN</td>\n      <td>NaN</td>\n    </tr>\n    <tr>\n      <td>1</td>\n      <td>2017-02-08</td>\n      <td>2294.67</td>\n      <td>2293.08</td>\n      <td>1.59</td>\n    </tr>\n    <tr>\n      <td>2</td>\n      <td>2017-02-09</td>\n      <td>2307.87</td>\n      <td>2294.67</td>\n      <td>13.20</td>\n    </tr>\n    <tr>\n      <td>3</td>\n      <td>2017-02-10</td>\n      <td>2316.10</td>\n      <td>2307.87</td>\n      <td>8.23</td>\n    </tr>\n    <tr>\n      <td>4</td>\n      <td>2017-02-13</td>\n      <td>2328.25</td>\n      <td>2316.10</td>\n      <td>12.15</td>\n    </tr>\n    <tr>\n      <td>...</td>\n      <td>...</td>\n      <td>...</td>\n      <td>...</td>\n      <td>...</td>\n    </tr>\n    <tr>\n      <td>748</td>\n      <td>2020-01-29</td>\n      <td>3273.40</td>\n      <td>3276.24</td>\n      <td>-2.84</td>\n    </tr>\n    <tr>\n      <td>749</td>\n      <td>2020-01-30</td>\n      <td>3283.66</td>\n      <td>3273.40</td>\n      <td>10.26</td>\n    </tr>\n    <tr>\n      <td>750</td>\n      <td>2020-01-31</td>\n      <td>3225.52</td>\n      <td>3283.66</td>\n      <td>-58.14</td>\n    </tr>\n    <tr>\n      <td>751</td>\n      <td>2020-02-03</td>\n      <td>3248.92</td>\n      <td>3225.52</td>\n      <td>23.40</td>\n    </tr>\n    <tr>\n      <td>752</td>\n      <td>2020-02-04</td>\n      <td>3297.59</td>\n      <td>3248.92</td>\n      <td>48.67</td>\n    </tr>\n  </tbody>\n</table>\n<p>753 rows × 4 columns</p>\n</div>",
      "text/plain": "          Date  Adj Close    Shift   diff\n0   2017-02-07    2293.08      NaN    NaN\n1   2017-02-08    2294.67  2293.08   1.59\n2   2017-02-09    2307.87  2294.67  13.20\n3   2017-02-10    2316.10  2307.87   8.23\n4   2017-02-13    2328.25  2316.10  12.15\n..         ...        ...      ...    ...\n748 2020-01-29    3273.40  3276.24  -2.84\n749 2020-01-30    3283.66  3273.40  10.26\n750 2020-01-31    3225.52  3283.66 -58.14\n751 2020-02-03    3248.92  3225.52  23.40\n752 2020-02-04    3297.59  3248.92  48.67\n\n[753 rows x 4 columns]"
     },
     "execution_count": 269,
     "metadata": {},
     "output_type": "execute_result"
    }
   ],
   "source": [
    "sp500"
   ]
  },
  {
   "cell_type": "code",
   "execution_count": 270,
   "metadata": {},
   "outputs": [],
   "source": [
    "#sp500['SubReturn'] = 1 + (sp500['diff'] / sp500['Adj Close'])\n",
    "sp500['SubReturn'] = 1 +(sp500['Adj Close']-sp500['Shift'])/sp500['Adj Close']"
   ]
  },
  {
   "cell_type": "code",
   "execution_count": 271,
   "metadata": {},
   "outputs": [
    {
     "data": {
      "text/html": "<div>\n<style scoped>\n    .dataframe tbody tr th:only-of-type {\n        vertical-align: middle;\n    }\n\n    .dataframe tbody tr th {\n        vertical-align: top;\n    }\n\n    .dataframe thead th {\n        text-align: right;\n    }\n</style>\n<table border=\"1\" class=\"dataframe\">\n  <thead>\n    <tr style=\"text-align: right;\">\n      <th></th>\n      <th>Date</th>\n      <th>Adj Close</th>\n      <th>Shift</th>\n      <th>diff</th>\n      <th>SubReturn</th>\n    </tr>\n  </thead>\n  <tbody>\n    <tr>\n      <td>0</td>\n      <td>2017-02-07</td>\n      <td>2293.08</td>\n      <td>NaN</td>\n      <td>NaN</td>\n      <td>NaN</td>\n    </tr>\n    <tr>\n      <td>1</td>\n      <td>2017-02-08</td>\n      <td>2294.67</td>\n      <td>2293.08</td>\n      <td>1.59</td>\n      <td>1.000693</td>\n    </tr>\n    <tr>\n      <td>2</td>\n      <td>2017-02-09</td>\n      <td>2307.87</td>\n      <td>2294.67</td>\n      <td>13.20</td>\n      <td>1.005720</td>\n    </tr>\n    <tr>\n      <td>3</td>\n      <td>2017-02-10</td>\n      <td>2316.10</td>\n      <td>2307.87</td>\n      <td>8.23</td>\n      <td>1.003553</td>\n    </tr>\n    <tr>\n      <td>4</td>\n      <td>2017-02-13</td>\n      <td>2328.25</td>\n      <td>2316.10</td>\n      <td>12.15</td>\n      <td>1.005219</td>\n    </tr>\n    <tr>\n      <td>...</td>\n      <td>...</td>\n      <td>...</td>\n      <td>...</td>\n      <td>...</td>\n      <td>...</td>\n    </tr>\n    <tr>\n      <td>748</td>\n      <td>2020-01-29</td>\n      <td>3273.40</td>\n      <td>3276.24</td>\n      <td>-2.84</td>\n      <td>0.999132</td>\n    </tr>\n    <tr>\n      <td>749</td>\n      <td>2020-01-30</td>\n      <td>3283.66</td>\n      <td>3273.40</td>\n      <td>10.26</td>\n      <td>1.003125</td>\n    </tr>\n    <tr>\n      <td>750</td>\n      <td>2020-01-31</td>\n      <td>3225.52</td>\n      <td>3283.66</td>\n      <td>-58.14</td>\n      <td>0.981975</td>\n    </tr>\n    <tr>\n      <td>751</td>\n      <td>2020-02-03</td>\n      <td>3248.92</td>\n      <td>3225.52</td>\n      <td>23.40</td>\n      <td>1.007202</td>\n    </tr>\n    <tr>\n      <td>752</td>\n      <td>2020-02-04</td>\n      <td>3297.59</td>\n      <td>3248.92</td>\n      <td>48.67</td>\n      <td>1.014759</td>\n    </tr>\n  </tbody>\n</table>\n<p>753 rows × 5 columns</p>\n</div>",
      "text/plain": "          Date  Adj Close    Shift   diff  SubReturn\n0   2017-02-07    2293.08      NaN    NaN        NaN\n1   2017-02-08    2294.67  2293.08   1.59   1.000693\n2   2017-02-09    2307.87  2294.67  13.20   1.005720\n3   2017-02-10    2316.10  2307.87   8.23   1.003553\n4   2017-02-13    2328.25  2316.10  12.15   1.005219\n..         ...        ...      ...    ...        ...\n748 2020-01-29    3273.40  3276.24  -2.84   0.999132\n749 2020-01-30    3283.66  3273.40  10.26   1.003125\n750 2020-01-31    3225.52  3283.66 -58.14   0.981975\n751 2020-02-03    3248.92  3225.52  23.40   1.007202\n752 2020-02-04    3297.59  3248.92  48.67   1.014759\n\n[753 rows x 5 columns]"
     },
     "execution_count": 271,
     "metadata": {},
     "output_type": "execute_result"
    }
   ],
   "source": [
    "sp500"
   ]
  },
  {
   "cell_type": "code",
   "execution_count": 209,
   "metadata": {},
   "outputs": [],
   "source": [
    "sp500TWR = sp500"
   ]
  },
  {
   "cell_type": "code",
   "execution_count": 210,
   "metadata": {},
   "outputs": [
    {
     "data": {
      "text/html": "<div>\n<style scoped>\n    .dataframe tbody tr th:only-of-type {\n        vertical-align: middle;\n    }\n\n    .dataframe tbody tr th {\n        vertical-align: top;\n    }\n\n    .dataframe thead th {\n        text-align: right;\n    }\n</style>\n<table border=\"1\" class=\"dataframe\">\n  <thead>\n    <tr style=\"text-align: right;\">\n      <th></th>\n      <th>Date</th>\n      <th>Adj Close</th>\n      <th>diff</th>\n      <th>SubReturn</th>\n    </tr>\n  </thead>\n  <tbody>\n    <tr>\n      <td>0</td>\n      <td>2017-02-07</td>\n      <td>2293.08</td>\n      <td>NaN</td>\n      <td>NaN</td>\n    </tr>\n    <tr>\n      <td>1</td>\n      <td>2017-02-08</td>\n      <td>2294.67</td>\n      <td>1.59</td>\n      <td>1.000693</td>\n    </tr>\n    <tr>\n      <td>2</td>\n      <td>2017-02-09</td>\n      <td>2307.87</td>\n      <td>13.20</td>\n      <td>1.005720</td>\n    </tr>\n    <tr>\n      <td>3</td>\n      <td>2017-02-10</td>\n      <td>2316.10</td>\n      <td>8.23</td>\n      <td>1.003553</td>\n    </tr>\n    <tr>\n      <td>4</td>\n      <td>2017-02-13</td>\n      <td>2328.25</td>\n      <td>12.15</td>\n      <td>1.005219</td>\n    </tr>\n    <tr>\n      <td>...</td>\n      <td>...</td>\n      <td>...</td>\n      <td>...</td>\n      <td>...</td>\n    </tr>\n    <tr>\n      <td>748</td>\n      <td>2020-01-29</td>\n      <td>3273.40</td>\n      <td>-2.84</td>\n      <td>0.999132</td>\n    </tr>\n    <tr>\n      <td>749</td>\n      <td>2020-01-30</td>\n      <td>3283.66</td>\n      <td>10.26</td>\n      <td>1.003125</td>\n    </tr>\n    <tr>\n      <td>750</td>\n      <td>2020-01-31</td>\n      <td>3225.52</td>\n      <td>-58.14</td>\n      <td>0.981975</td>\n    </tr>\n    <tr>\n      <td>751</td>\n      <td>2020-02-03</td>\n      <td>3248.92</td>\n      <td>23.40</td>\n      <td>1.007202</td>\n    </tr>\n    <tr>\n      <td>752</td>\n      <td>2020-02-04</td>\n      <td>3297.59</td>\n      <td>48.67</td>\n      <td>1.014759</td>\n    </tr>\n  </tbody>\n</table>\n<p>753 rows × 4 columns</p>\n</div>",
      "text/plain": "          Date  Adj Close   diff  SubReturn\n0   2017-02-07    2293.08    NaN        NaN\n1   2017-02-08    2294.67   1.59   1.000693\n2   2017-02-09    2307.87  13.20   1.005720\n3   2017-02-10    2316.10   8.23   1.003553\n4   2017-02-13    2328.25  12.15   1.005219\n..         ...        ...    ...        ...\n748 2020-01-29    3273.40  -2.84   0.999132\n749 2020-01-30    3283.66  10.26   1.003125\n750 2020-01-31    3225.52 -58.14   0.981975\n751 2020-02-03    3248.92  23.40   1.007202\n752 2020-02-04    3297.59  48.67   1.014759\n\n[753 rows x 4 columns]"
     },
     "execution_count": 210,
     "metadata": {},
     "output_type": "execute_result"
    }
   ],
   "source": [
    "sp500"
   ]
  },
  {
   "cell_type": "code",
   "execution_count": 211,
   "metadata": {},
   "outputs": [],
   "source": [
    "#sp500TWR['TWR Step 1'] = (sp500['SubReturn'].cumprod(skipna=True, axis = 0))"
   ]
  },
  {
   "cell_type": "code",
   "execution_count": 212,
   "metadata": {},
   "outputs": [
    {
     "data": {
      "text/html": "<div>\n<style scoped>\n    .dataframe tbody tr th:only-of-type {\n        vertical-align: middle;\n    }\n\n    .dataframe tbody tr th {\n        vertical-align: top;\n    }\n\n    .dataframe thead th {\n        text-align: right;\n    }\n</style>\n<table border=\"1\" class=\"dataframe\">\n  <thead>\n    <tr style=\"text-align: right;\">\n      <th></th>\n      <th>Date</th>\n      <th>Adj Close</th>\n      <th>diff</th>\n      <th>SubReturn</th>\n      <th>TWR Step 1</th>\n    </tr>\n  </thead>\n  <tbody>\n    <tr>\n      <td>0</td>\n      <td>2017-02-07</td>\n      <td>2293.08</td>\n      <td>NaN</td>\n      <td>NaN</td>\n      <td>NaN</td>\n    </tr>\n    <tr>\n      <td>1</td>\n      <td>2017-02-08</td>\n      <td>2294.67</td>\n      <td>1.59</td>\n      <td>1.000693</td>\n      <td>1.000693</td>\n    </tr>\n    <tr>\n      <td>2</td>\n      <td>2017-02-09</td>\n      <td>2307.87</td>\n      <td>13.20</td>\n      <td>1.005720</td>\n      <td>1.006416</td>\n    </tr>\n    <tr>\n      <td>3</td>\n      <td>2017-02-10</td>\n      <td>2316.10</td>\n      <td>8.23</td>\n      <td>1.003553</td>\n      <td>1.009993</td>\n    </tr>\n    <tr>\n      <td>4</td>\n      <td>2017-02-13</td>\n      <td>2328.25</td>\n      <td>12.15</td>\n      <td>1.005219</td>\n      <td>1.015263</td>\n    </tr>\n    <tr>\n      <td>5</td>\n      <td>2017-02-14</td>\n      <td>2337.58</td>\n      <td>9.33</td>\n      <td>1.003991</td>\n      <td>1.019316</td>\n    </tr>\n    <tr>\n      <td>6</td>\n      <td>2017-02-15</td>\n      <td>2349.25</td>\n      <td>11.67</td>\n      <td>1.004968</td>\n      <td>1.024379</td>\n    </tr>\n    <tr>\n      <td>7</td>\n      <td>2017-02-16</td>\n      <td>2347.22</td>\n      <td>-2.03</td>\n      <td>0.999135</td>\n      <td>1.023493</td>\n    </tr>\n    <tr>\n      <td>8</td>\n      <td>2017-02-17</td>\n      <td>2351.16</td>\n      <td>3.94</td>\n      <td>1.001676</td>\n      <td>1.025208</td>\n    </tr>\n    <tr>\n      <td>9</td>\n      <td>2017-02-21</td>\n      <td>2365.38</td>\n      <td>14.22</td>\n      <td>1.006012</td>\n      <td>1.031371</td>\n    </tr>\n    <tr>\n      <td>10</td>\n      <td>2017-02-22</td>\n      <td>2362.82</td>\n      <td>-2.56</td>\n      <td>0.998917</td>\n      <td>1.030254</td>\n    </tr>\n    <tr>\n      <td>11</td>\n      <td>2017-02-23</td>\n      <td>2363.81</td>\n      <td>0.99</td>\n      <td>1.000419</td>\n      <td>1.030686</td>\n    </tr>\n    <tr>\n      <td>12</td>\n      <td>2017-02-24</td>\n      <td>2367.34</td>\n      <td>3.53</td>\n      <td>1.001491</td>\n      <td>1.032222</td>\n    </tr>\n    <tr>\n      <td>13</td>\n      <td>2017-02-27</td>\n      <td>2369.75</td>\n      <td>2.41</td>\n      <td>1.001017</td>\n      <td>1.033272</td>\n    </tr>\n    <tr>\n      <td>14</td>\n      <td>2017-02-28</td>\n      <td>2363.64</td>\n      <td>-6.11</td>\n      <td>0.997415</td>\n      <td>1.030601</td>\n    </tr>\n    <tr>\n      <td>15</td>\n      <td>2017-03-01</td>\n      <td>2395.96</td>\n      <td>32.32</td>\n      <td>1.013489</td>\n      <td>1.044503</td>\n    </tr>\n    <tr>\n      <td>16</td>\n      <td>2017-03-02</td>\n      <td>2381.92</td>\n      <td>-14.04</td>\n      <td>0.994106</td>\n      <td>1.038347</td>\n    </tr>\n    <tr>\n      <td>17</td>\n      <td>2017-03-03</td>\n      <td>2383.12</td>\n      <td>1.20</td>\n      <td>1.000504</td>\n      <td>1.038869</td>\n    </tr>\n    <tr>\n      <td>18</td>\n      <td>2017-03-06</td>\n      <td>2375.31</td>\n      <td>-7.81</td>\n      <td>0.996712</td>\n      <td>1.035454</td>\n    </tr>\n    <tr>\n      <td>19</td>\n      <td>2017-03-07</td>\n      <td>2368.39</td>\n      <td>-6.92</td>\n      <td>0.997078</td>\n      <td>1.032428</td>\n    </tr>\n    <tr>\n      <td>20</td>\n      <td>2017-03-08</td>\n      <td>2362.98</td>\n      <td>-5.41</td>\n      <td>0.997711</td>\n      <td>1.030065</td>\n    </tr>\n    <tr>\n      <td>21</td>\n      <td>2017-03-09</td>\n      <td>2364.87</td>\n      <td>1.89</td>\n      <td>1.000799</td>\n      <td>1.030888</td>\n    </tr>\n    <tr>\n      <td>22</td>\n      <td>2017-03-10</td>\n      <td>2372.60</td>\n      <td>7.73</td>\n      <td>1.003258</td>\n      <td>1.034246</td>\n    </tr>\n    <tr>\n      <td>23</td>\n      <td>2017-03-13</td>\n      <td>2373.47</td>\n      <td>0.87</td>\n      <td>1.000367</td>\n      <td>1.034625</td>\n    </tr>\n    <tr>\n      <td>24</td>\n      <td>2017-03-14</td>\n      <td>2365.45</td>\n      <td>-8.02</td>\n      <td>0.996610</td>\n      <td>1.031118</td>\n    </tr>\n    <tr>\n      <td>25</td>\n      <td>2017-03-15</td>\n      <td>2385.26</td>\n      <td>19.81</td>\n      <td>1.008305</td>\n      <td>1.039681</td>\n    </tr>\n    <tr>\n      <td>26</td>\n      <td>2017-03-16</td>\n      <td>2381.38</td>\n      <td>-3.88</td>\n      <td>0.998371</td>\n      <td>1.037987</td>\n    </tr>\n    <tr>\n      <td>27</td>\n      <td>2017-03-17</td>\n      <td>2378.25</td>\n      <td>-3.13</td>\n      <td>0.998684</td>\n      <td>1.036621</td>\n    </tr>\n    <tr>\n      <td>28</td>\n      <td>2017-03-20</td>\n      <td>2373.47</td>\n      <td>-4.78</td>\n      <td>0.997986</td>\n      <td>1.034534</td>\n    </tr>\n    <tr>\n      <td>29</td>\n      <td>2017-03-21</td>\n      <td>2344.02</td>\n      <td>-29.45</td>\n      <td>0.987436</td>\n      <td>1.021536</td>\n    </tr>\n    <tr>\n      <td>30</td>\n      <td>2017-03-22</td>\n      <td>2348.45</td>\n      <td>4.43</td>\n      <td>1.001886</td>\n      <td>1.023463</td>\n    </tr>\n    <tr>\n      <td>31</td>\n      <td>2017-03-23</td>\n      <td>2345.96</td>\n      <td>-2.49</td>\n      <td>0.998939</td>\n      <td>1.022376</td>\n    </tr>\n    <tr>\n      <td>32</td>\n      <td>2017-03-24</td>\n      <td>2343.98</td>\n      <td>-1.98</td>\n      <td>0.999155</td>\n      <td>1.021513</td>\n    </tr>\n    <tr>\n      <td>33</td>\n      <td>2017-03-27</td>\n      <td>2341.59</td>\n      <td>-2.39</td>\n      <td>0.998979</td>\n      <td>1.020470</td>\n    </tr>\n    <tr>\n      <td>34</td>\n      <td>2017-03-28</td>\n      <td>2358.57</td>\n      <td>16.98</td>\n      <td>1.007199</td>\n      <td>1.027817</td>\n    </tr>\n    <tr>\n      <td>35</td>\n      <td>2017-03-29</td>\n      <td>2361.13</td>\n      <td>2.56</td>\n      <td>1.001084</td>\n      <td>1.028931</td>\n    </tr>\n    <tr>\n      <td>36</td>\n      <td>2017-03-30</td>\n      <td>2368.06</td>\n      <td>6.93</td>\n      <td>1.002926</td>\n      <td>1.031942</td>\n    </tr>\n    <tr>\n      <td>37</td>\n      <td>2017-03-31</td>\n      <td>2362.72</td>\n      <td>-5.34</td>\n      <td>0.997740</td>\n      <td>1.029610</td>\n    </tr>\n    <tr>\n      <td>38</td>\n      <td>2017-04-03</td>\n      <td>2358.84</td>\n      <td>-3.88</td>\n      <td>0.998355</td>\n      <td>1.027916</td>\n    </tr>\n    <tr>\n      <td>39</td>\n      <td>2017-04-04</td>\n      <td>2360.16</td>\n      <td>1.32</td>\n      <td>1.000559</td>\n      <td>1.028491</td>\n    </tr>\n  </tbody>\n</table>\n</div>",
      "text/plain": "         Date  Adj Close   diff  SubReturn  TWR Step 1\n0  2017-02-07    2293.08    NaN        NaN         NaN\n1  2017-02-08    2294.67   1.59   1.000693    1.000693\n2  2017-02-09    2307.87  13.20   1.005720    1.006416\n3  2017-02-10    2316.10   8.23   1.003553    1.009993\n4  2017-02-13    2328.25  12.15   1.005219    1.015263\n5  2017-02-14    2337.58   9.33   1.003991    1.019316\n6  2017-02-15    2349.25  11.67   1.004968    1.024379\n7  2017-02-16    2347.22  -2.03   0.999135    1.023493\n8  2017-02-17    2351.16   3.94   1.001676    1.025208\n9  2017-02-21    2365.38  14.22   1.006012    1.031371\n10 2017-02-22    2362.82  -2.56   0.998917    1.030254\n11 2017-02-23    2363.81   0.99   1.000419    1.030686\n12 2017-02-24    2367.34   3.53   1.001491    1.032222\n13 2017-02-27    2369.75   2.41   1.001017    1.033272\n14 2017-02-28    2363.64  -6.11   0.997415    1.030601\n15 2017-03-01    2395.96  32.32   1.013489    1.044503\n16 2017-03-02    2381.92 -14.04   0.994106    1.038347\n17 2017-03-03    2383.12   1.20   1.000504    1.038869\n18 2017-03-06    2375.31  -7.81   0.996712    1.035454\n19 2017-03-07    2368.39  -6.92   0.997078    1.032428\n20 2017-03-08    2362.98  -5.41   0.997711    1.030065\n21 2017-03-09    2364.87   1.89   1.000799    1.030888\n22 2017-03-10    2372.60   7.73   1.003258    1.034246\n23 2017-03-13    2373.47   0.87   1.000367    1.034625\n24 2017-03-14    2365.45  -8.02   0.996610    1.031118\n25 2017-03-15    2385.26  19.81   1.008305    1.039681\n26 2017-03-16    2381.38  -3.88   0.998371    1.037987\n27 2017-03-17    2378.25  -3.13   0.998684    1.036621\n28 2017-03-20    2373.47  -4.78   0.997986    1.034534\n29 2017-03-21    2344.02 -29.45   0.987436    1.021536\n30 2017-03-22    2348.45   4.43   1.001886    1.023463\n31 2017-03-23    2345.96  -2.49   0.998939    1.022376\n32 2017-03-24    2343.98  -1.98   0.999155    1.021513\n33 2017-03-27    2341.59  -2.39   0.998979    1.020470\n34 2017-03-28    2358.57  16.98   1.007199    1.027817\n35 2017-03-29    2361.13   2.56   1.001084    1.028931\n36 2017-03-30    2368.06   6.93   1.002926    1.031942\n37 2017-03-31    2362.72  -5.34   0.997740    1.029610\n38 2017-04-03    2358.84  -3.88   0.998355    1.027916\n39 2017-04-04    2360.16   1.32   1.000559    1.028491"
     },
     "execution_count": 212,
     "metadata": {},
     "output_type": "execute_result"
    }
   ],
   "source": [
    "sp500TWR.head(40)"
   ]
  },
  {
   "cell_type": "code",
   "execution_count": 213,
   "metadata": {},
   "outputs": [],
   "source": [
    "sp500TWR['TWR'] = (sp500TWR['TWR Step 1']-1)*100"
   ]
  },
  {
   "cell_type": "code",
   "execution_count": 214,
   "metadata": {},
   "outputs": [
    {
     "data": {
      "text/html": "<div>\n<style scoped>\n    .dataframe tbody tr th:only-of-type {\n        vertical-align: middle;\n    }\n\n    .dataframe tbody tr th {\n        vertical-align: top;\n    }\n\n    .dataframe thead th {\n        text-align: right;\n    }\n</style>\n<table border=\"1\" class=\"dataframe\">\n  <thead>\n    <tr style=\"text-align: right;\">\n      <th></th>\n      <th>Date</th>\n      <th>Adj Close</th>\n      <th>diff</th>\n      <th>SubReturn</th>\n      <th>TWR Step 1</th>\n      <th>TWR</th>\n    </tr>\n  </thead>\n  <tbody>\n    <tr>\n      <td>0</td>\n      <td>2017-02-07</td>\n      <td>2293.08</td>\n      <td>NaN</td>\n      <td>NaN</td>\n      <td>NaN</td>\n      <td>NaN</td>\n    </tr>\n    <tr>\n      <td>1</td>\n      <td>2017-02-08</td>\n      <td>2294.67</td>\n      <td>1.59</td>\n      <td>1.000693</td>\n      <td>1.000693</td>\n      <td>0.069291</td>\n    </tr>\n    <tr>\n      <td>2</td>\n      <td>2017-02-09</td>\n      <td>2307.87</td>\n      <td>13.20</td>\n      <td>1.005720</td>\n      <td>1.006416</td>\n      <td>0.641643</td>\n    </tr>\n    <tr>\n      <td>3</td>\n      <td>2017-02-10</td>\n      <td>2316.10</td>\n      <td>8.23</td>\n      <td>1.003553</td>\n      <td>1.009993</td>\n      <td>0.999262</td>\n    </tr>\n    <tr>\n      <td>4</td>\n      <td>2017-02-13</td>\n      <td>2328.25</td>\n      <td>12.15</td>\n      <td>1.005219</td>\n      <td>1.015263</td>\n      <td>1.526328</td>\n    </tr>\n    <tr>\n      <td>...</td>\n      <td>...</td>\n      <td>...</td>\n      <td>...</td>\n      <td>...</td>\n      <td>...</td>\n      <td>...</td>\n    </tr>\n    <tr>\n      <td>748</td>\n      <td>2020-01-29</td>\n      <td>3273.40</td>\n      <td>-2.84</td>\n      <td>0.999132</td>\n      <td>1.357861</td>\n      <td>35.786065</td>\n    </tr>\n    <tr>\n      <td>749</td>\n      <td>2020-01-30</td>\n      <td>3283.66</td>\n      <td>10.26</td>\n      <td>1.003125</td>\n      <td>1.362103</td>\n      <td>36.210337</td>\n    </tr>\n    <tr>\n      <td>750</td>\n      <td>2020-01-31</td>\n      <td>3225.52</td>\n      <td>-58.14</td>\n      <td>0.981975</td>\n      <td>1.337551</td>\n      <td>33.755146</td>\n    </tr>\n    <tr>\n      <td>751</td>\n      <td>2020-02-03</td>\n      <td>3248.92</td>\n      <td>23.40</td>\n      <td>1.007202</td>\n      <td>1.347185</td>\n      <td>34.718503</td>\n    </tr>\n    <tr>\n      <td>752</td>\n      <td>2020-02-04</td>\n      <td>3297.59</td>\n      <td>48.67</td>\n      <td>1.014759</td>\n      <td>1.367068</td>\n      <td>36.706849</td>\n    </tr>\n  </tbody>\n</table>\n<p>753 rows × 6 columns</p>\n</div>",
      "text/plain": "          Date  Adj Close   diff  SubReturn  TWR Step 1        TWR\n0   2017-02-07    2293.08    NaN        NaN         NaN        NaN\n1   2017-02-08    2294.67   1.59   1.000693    1.000693   0.069291\n2   2017-02-09    2307.87  13.20   1.005720    1.006416   0.641643\n3   2017-02-10    2316.10   8.23   1.003553    1.009993   0.999262\n4   2017-02-13    2328.25  12.15   1.005219    1.015263   1.526328\n..         ...        ...    ...        ...         ...        ...\n748 2020-01-29    3273.40  -2.84   0.999132    1.357861  35.786065\n749 2020-01-30    3283.66  10.26   1.003125    1.362103  36.210337\n750 2020-01-31    3225.52 -58.14   0.981975    1.337551  33.755146\n751 2020-02-03    3248.92  23.40   1.007202    1.347185  34.718503\n752 2020-02-04    3297.59  48.67   1.014759    1.367068  36.706849\n\n[753 rows x 6 columns]"
     },
     "execution_count": 214,
     "metadata": {},
     "output_type": "execute_result"
    }
   ],
   "source": [
    "sp500TWR"
   ]
  },
  {
   "cell_type": "code",
   "execution_count": null,
   "metadata": {},
   "outputs": [],
   "source": []
  }
 ]
}
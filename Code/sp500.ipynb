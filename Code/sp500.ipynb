{
 "nbformat": 4,
 "nbformat_minor": 2,
 "metadata": {
  "language_info": {
   "name": "python",
   "codemirror_mode": {
    "name": "ipython",
    "version": 3
   },
   "version": "3.7.4-final"
  },
  "orig_nbformat": 2,
  "file_extension": ".py",
  "mimetype": "text/x-python",
  "name": "python",
  "npconvert_exporter": "python",
  "pygments_lexer": "ipython3",
  "version": 3,
  "kernelspec": {
   "name": "python37464bitbasecondafc973df1ce424b17b41caafa44b5e9ca",
   "display_name": "Python 3.7.4 64-bit ('base': conda)"
  }
 },
 "cells": [
  {
   "cell_type": "code",
   "execution_count": 4,
   "metadata": {},
   "outputs": [],
   "source": [
    "import os\n",
    "import pandas as pd\n",
    "import numpy as np\n",
    "import datetime\n",
    "from pandas_datareader import data as pdr\n",
    "import fix_yahoo_finance as yf\n",
    "from pathlib import Path"
   ]
  },
  {
   "cell_type": "code",
   "execution_count": 12,
   "metadata": {},
   "outputs": [
    {
     "data": {
      "text/plain": "WindowsPath('d:/Javier/SynologyDrive/Portfolio Python 2/Data/Tables')"
     },
     "execution_count": 12,
     "metadata": {},
     "output_type": "execute_result"
    }
   ],
   "source": [
    "cwd =  Path.cwd()\n",
    "cwd = cwd.parents[0]\n",
    "folder = cwd /'Data'/'IBActivity'\n",
    "\n",
    "tables = cwd / 'Data'/'Tables'\n",
    "tables"
   ]
  },
  {
   "cell_type": "code",
   "execution_count": 20,
   "metadata": {},
   "outputs": [
    {
     "data": {
      "text/html": "<div>\n<style scoped>\n    .dataframe tbody tr th:only-of-type {\n        vertical-align: middle;\n    }\n\n    .dataframe tbody tr th {\n        vertical-align: top;\n    }\n\n    .dataframe thead th {\n        text-align: right;\n    }\n</style>\n<table border=\"1\" class=\"dataframe\">\n  <thead>\n    <tr style=\"text-align: right;\">\n      <th></th>\n      <th>Unnamed: 0</th>\n      <th>Asset Category</th>\n      <th>Currency</th>\n      <th>Symbol</th>\n      <th>Date/Time</th>\n      <th>Quantity</th>\n      <th>T. Price</th>\n      <th>Proceeds</th>\n      <th>Comm/Fee</th>\n      <th>Quantity_Rsum</th>\n    </tr>\n  </thead>\n  <tbody>\n    <tr>\n      <td>0</td>\n      <td>45</td>\n      <td>Stocks</td>\n      <td>USD</td>\n      <td>GLD</td>\n      <td>2017-01-19 10:56:05</td>\n      <td>20.0000</td>\n      <td>114.14000</td>\n      <td>-2282.800000</td>\n      <td>-1.000000</td>\n      <td>20.0000</td>\n    </tr>\n    <tr>\n      <td>1</td>\n      <td>45</td>\n      <td>Stocks</td>\n      <td>USD</td>\n      <td>GLD</td>\n      <td>2017-01-20 09:47:28</td>\n      <td>6.0000</td>\n      <td>114.46990</td>\n      <td>-686.819400</td>\n      <td>-1.000000</td>\n      <td>26.0000</td>\n    </tr>\n    <tr>\n      <td>2</td>\n      <td>48</td>\n      <td>Stocks</td>\n      <td>USD</td>\n      <td>SBUX</td>\n      <td>2017-02-21 09:44:20</td>\n      <td>10.0000</td>\n      <td>57.79930</td>\n      <td>-577.993000</td>\n      <td>-1.000000</td>\n      <td>10.0000</td>\n    </tr>\n    <tr>\n      <td>3</td>\n      <td>56</td>\n      <td>Equity and Index Options</td>\n      <td>USD</td>\n      <td>WFM 19MAY17 28.0 P</td>\n      <td>2017-03-10 09:45:39</td>\n      <td>-1.0000</td>\n      <td>0.86000</td>\n      <td>86.000000</td>\n      <td>-0.756975</td>\n      <td>-1.0000</td>\n    </tr>\n    <tr>\n      <td>4</td>\n      <td>59</td>\n      <td>Equity and Index Options</td>\n      <td>USD</td>\n      <td>MTCH 21APR17 17.5 P</td>\n      <td>2017-03-14 09:34:00</td>\n      <td>-1.0000</td>\n      <td>1.15000</td>\n      <td>115.000000</td>\n      <td>-1.097607</td>\n      <td>-1.0000</td>\n    </tr>\n    <tr>\n      <td>...</td>\n      <td>...</td>\n      <td>...</td>\n      <td>...</td>\n      <td>...</td>\n      <td>...</td>\n      <td>...</td>\n      <td>...</td>\n      <td>...</td>\n      <td>...</td>\n      <td>...</td>\n    </tr>\n    <tr>\n      <td>1307</td>\n      <td>491</td>\n      <td>Equity and Index Options</td>\n      <td>USD</td>\n      <td>UVXY 21JAN22 50.0 C</td>\n      <td>2019-09-23 10:19:19</td>\n      <td>-1.0000</td>\n      <td>9.40000</td>\n      <td>940.000000</td>\n      <td>-0.814358</td>\n      <td>-1.0000</td>\n    </tr>\n    <tr>\n      <td>1308</td>\n      <td>471</td>\n      <td>Stocks</td>\n      <td>USD</td>\n      <td>CEFL</td>\n      <td>2019-09-24 10:00:11</td>\n      <td>2.0000</td>\n      <td>14.30000</td>\n      <td>-28.600000</td>\n      <td>-1.000000</td>\n      <td>121.0000</td>\n    </tr>\n    <tr>\n      <td>1309</td>\n      <td>473</td>\n      <td>Stocks</td>\n      <td>USD</td>\n      <td>XOP</td>\n      <td>2019-09-24 09:30:00</td>\n      <td>100.0000</td>\n      <td>23.58000</td>\n      <td>-2358.000000</td>\n      <td>-1.000000</td>\n      <td>0.0000</td>\n    </tr>\n    <tr>\n      <td>1310</td>\n      <td>1013</td>\n      <td>Forex</td>\n      <td>HKD</td>\n      <td>EUR.HKD</td>\n      <td>2019-09-29 22:50:30</td>\n      <td>13998.0000</td>\n      <td>8.57250</td>\n      <td>-119997.855000</td>\n      <td>-2.000000</td>\n      <td>108339.0000</td>\n    </tr>\n    <tr>\n      <td>1311</td>\n      <td>1012</td>\n      <td>Forex</td>\n      <td>HKD</td>\n      <td>USD.HKD</td>\n      <td>2019-10-01 18:00:34</td>\n      <td>0.2734</td>\n      <td>7.84295</td>\n      <td>-2.144263</td>\n      <td>0.000000</td>\n      <td>60904.4444</td>\n    </tr>\n  </tbody>\n</table>\n<p>1312 rows × 10 columns</p>\n</div>",
      "text/plain": "      Unnamed: 0            Asset Category Currency               Symbol  \\\n0             45                    Stocks      USD                  GLD   \n1             45                    Stocks      USD                  GLD   \n2             48                    Stocks      USD                 SBUX   \n3             56  Equity and Index Options      USD   WFM 19MAY17 28.0 P   \n4             59  Equity and Index Options      USD  MTCH 21APR17 17.5 P   \n...          ...                       ...      ...                  ...   \n1307         491  Equity and Index Options      USD  UVXY 21JAN22 50.0 C   \n1308         471                    Stocks      USD                 CEFL   \n1309         473                    Stocks      USD                  XOP   \n1310        1013                     Forex      HKD              EUR.HKD   \n1311        1012                     Forex      HKD              USD.HKD   \n\n               Date/Time    Quantity   T. Price       Proceeds  Comm/Fee  \\\n0    2017-01-19 10:56:05     20.0000  114.14000   -2282.800000 -1.000000   \n1    2017-01-20 09:47:28      6.0000  114.46990    -686.819400 -1.000000   \n2    2017-02-21 09:44:20     10.0000   57.79930    -577.993000 -1.000000   \n3    2017-03-10 09:45:39     -1.0000    0.86000      86.000000 -0.756975   \n4    2017-03-14 09:34:00     -1.0000    1.15000     115.000000 -1.097607   \n...                  ...         ...        ...            ...       ...   \n1307 2019-09-23 10:19:19     -1.0000    9.40000     940.000000 -0.814358   \n1308 2019-09-24 10:00:11      2.0000   14.30000     -28.600000 -1.000000   \n1309 2019-09-24 09:30:00    100.0000   23.58000   -2358.000000 -1.000000   \n1310 2019-09-29 22:50:30  13998.0000    8.57250 -119997.855000 -2.000000   \n1311 2019-10-01 18:00:34      0.2734    7.84295      -2.144263  0.000000   \n\n      Quantity_Rsum  \n0           20.0000  \n1           26.0000  \n2           10.0000  \n3           -1.0000  \n4           -1.0000  \n...             ...  \n1307        -1.0000  \n1308       121.0000  \n1309         0.0000  \n1310    108339.0000  \n1311     60904.4444  \n\n[1312 rows x 10 columns]"
     },
     "execution_count": 20,
     "metadata": {},
     "output_type": "execute_result"
    }
   ],
   "source": [
    "trades = pd.read_csv(tables/'tables_Trades.csv')\n",
    "trades['Date/Time'] = pd.to_datetime(trades['Date/Time'])\n",
    "trades"
   ]
  },
  {
   "cell_type": "code",
   "execution_count": 36,
   "metadata": {},
   "outputs": [
    {
     "data": {
      "text/plain": "(datetime.date(2017, 1, 19), datetime.date(2019, 10, 1))"
     },
     "execution_count": 36,
     "metadata": {},
     "output_type": "execute_result"
    }
   ],
   "source": [
    "min_date = min(trades['Date/Time']).date()\n",
    "\n",
    "max_date = max(trades['Date/Time']).date()\n",
    "min_date, max_date"
   ]
  },
  {
   "cell_type": "code",
   "execution_count": 37,
   "metadata": {},
   "outputs": [],
   "source": [
    "# Date Ranges for SP 500 and for all tickers\n",
    "# Modify these date ranges each week.\n",
    "\n",
    "# The below will pull back stock prices from 2010 until end date specified.\n",
    "# start_sp = datetime.datetime(2017, 1, 1)\n",
    "# end_sp = datetime.datetime(2020, 2, 7)\n",
    "\n",
    "start_sp = min_date\n",
    "end_sp = max_date\n",
    "\n",
    "# This variable is used for YTD performance.\n",
    "end_of_last_year = datetime.datetime(2019, 12, 31)\n",
    "\n",
    "# These are separate if for some reason want different date range than SP.\n",
    "# stocks_start = datetime.datetime(2017, 1, 1)\n",
    "# stocks_end = datetime.datetime(2020, 2, 7)\n",
    "\n",
    "stocks_start = min_date\n",
    "stocks_end = max_date"
   ]
  },
  {
   "cell_type": "code",
   "execution_count": null,
   "metadata": {},
   "outputs": [],
   "source": [
    "trades = "
   ]
  },
  {
   "cell_type": "code",
   "execution_count": 86,
   "metadata": {},
   "outputs": [
    {
     "name": "stdout",
     "output_type": "stream",
     "text": "[*********************100%***********************]  1 of 1 downloaded\n"
    },
    {
     "data": {
      "text/html": "<div>\n<style scoped>\n    .dataframe tbody tr th:only-of-type {\n        vertical-align: middle;\n    }\n\n    .dataframe tbody tr th {\n        vertical-align: top;\n    }\n\n    .dataframe thead th {\n        text-align: right;\n    }\n</style>\n<table border=\"1\" class=\"dataframe\">\n  <thead>\n    <tr style=\"text-align: right;\">\n      <th></th>\n      <th>Open</th>\n      <th>High</th>\n      <th>Low</th>\n      <th>Close</th>\n      <th>Adj Close</th>\n      <th>Volume</th>\n    </tr>\n    <tr>\n      <th>Date</th>\n      <th></th>\n      <th></th>\n      <th></th>\n      <th></th>\n      <th></th>\n      <th></th>\n    </tr>\n  </thead>\n  <tbody>\n    <tr>\n      <td>2017-01-18</td>\n      <td>2269.14</td>\n      <td>2272.01</td>\n      <td>2263.35</td>\n      <td>2271.89</td>\n      <td>2271.89</td>\n      <td>3315250000</td>\n    </tr>\n    <tr>\n      <td>2017-01-19</td>\n      <td>2271.90</td>\n      <td>2274.33</td>\n      <td>2258.41</td>\n      <td>2263.69</td>\n      <td>2263.69</td>\n      <td>3165970000</td>\n    </tr>\n    <tr>\n      <td>2017-01-20</td>\n      <td>2269.96</td>\n      <td>2276.96</td>\n      <td>2265.01</td>\n      <td>2271.31</td>\n      <td>2271.31</td>\n      <td>3524970000</td>\n    </tr>\n    <tr>\n      <td>2017-01-23</td>\n      <td>2267.78</td>\n      <td>2271.78</td>\n      <td>2257.02</td>\n      <td>2265.20</td>\n      <td>2265.20</td>\n      <td>3152710000</td>\n    </tr>\n    <tr>\n      <td>2017-01-24</td>\n      <td>2267.88</td>\n      <td>2284.63</td>\n      <td>2266.68</td>\n      <td>2280.07</td>\n      <td>2280.07</td>\n      <td>3810960000</td>\n    </tr>\n  </tbody>\n</table>\n</div>",
      "text/plain": "               Open     High      Low    Close  Adj Close      Volume\nDate                                                                 \n2017-01-18  2269.14  2272.01  2263.35  2271.89    2271.89  3315250000\n2017-01-19  2271.90  2274.33  2258.41  2263.69    2263.69  3165970000\n2017-01-20  2269.96  2276.96  2265.01  2271.31    2271.31  3524970000\n2017-01-23  2267.78  2271.78  2257.02  2265.20    2265.20  3152710000\n2017-01-24  2267.88  2284.63  2266.68  2280.07    2280.07  3810960000"
     },
     "execution_count": 86,
     "metadata": {},
     "output_type": "execute_result"
    }
   ],
   "source": [
    "yf.pdr_override() # <== that's all it takes :-)\n",
    "sp500 = pdr.get_data_yahoo('^GSPC', \n",
    "                           start_sp,\n",
    "                             end_sp)\n",
    "    \n",
    "sp500.head()"
   ]
  },
  {
   "cell_type": "code",
   "execution_count": 87,
   "metadata": {},
   "outputs": [],
   "source": [
    "sp500 = sp500['Adj Close'].reset_index()\n"
   ]
  },
  {
   "cell_type": "code",
   "execution_count": 88,
   "metadata": {},
   "outputs": [
    {
     "data": {
      "text/html": "<div>\n<style scoped>\n    .dataframe tbody tr th:only-of-type {\n        vertical-align: middle;\n    }\n\n    .dataframe tbody tr th {\n        vertical-align: top;\n    }\n\n    .dataframe thead th {\n        text-align: right;\n    }\n</style>\n<table border=\"1\" class=\"dataframe\">\n  <thead>\n    <tr style=\"text-align: right;\">\n      <th></th>\n      <th>Date</th>\n      <th>Adj Close</th>\n    </tr>\n  </thead>\n  <tbody>\n    <tr>\n      <td>0</td>\n      <td>2017-01-18</td>\n      <td>2271.89</td>\n    </tr>\n    <tr>\n      <td>1</td>\n      <td>2017-01-19</td>\n      <td>2263.69</td>\n    </tr>\n    <tr>\n      <td>2</td>\n      <td>2017-01-20</td>\n      <td>2271.31</td>\n    </tr>\n    <tr>\n      <td>3</td>\n      <td>2017-01-23</td>\n      <td>2265.20</td>\n    </tr>\n    <tr>\n      <td>4</td>\n      <td>2017-01-24</td>\n      <td>2280.07</td>\n    </tr>\n    <tr>\n      <td>...</td>\n      <td>...</td>\n      <td>...</td>\n    </tr>\n    <tr>\n      <td>675</td>\n      <td>2019-09-24</td>\n      <td>2966.60</td>\n    </tr>\n    <tr>\n      <td>676</td>\n      <td>2019-09-25</td>\n      <td>2984.87</td>\n    </tr>\n    <tr>\n      <td>677</td>\n      <td>2019-09-26</td>\n      <td>2977.62</td>\n    </tr>\n    <tr>\n      <td>678</td>\n      <td>2019-09-27</td>\n      <td>2961.79</td>\n    </tr>\n    <tr>\n      <td>679</td>\n      <td>2019-09-30</td>\n      <td>2976.74</td>\n    </tr>\n  </tbody>\n</table>\n<p>680 rows × 2 columns</p>\n</div>",
      "text/plain": "          Date  Adj Close\n0   2017-01-18    2271.89\n1   2017-01-19    2263.69\n2   2017-01-20    2271.31\n3   2017-01-23    2265.20\n4   2017-01-24    2280.07\n..         ...        ...\n675 2019-09-24    2966.60\n676 2019-09-25    2984.87\n677 2019-09-26    2977.62\n678 2019-09-27    2961.79\n679 2019-09-30    2976.74\n\n[680 rows x 2 columns]"
     },
     "execution_count": 88,
     "metadata": {},
     "output_type": "execute_result"
    }
   ],
   "source": [
    "sp500"
   ]
  },
  {
   "cell_type": "code",
   "execution_count": 89,
   "metadata": {},
   "outputs": [],
   "source": [
    "sp500['diff'] = sp500['Adj Close'].diff()"
   ]
  },
  {
   "cell_type": "code",
   "execution_count": 90,
   "metadata": {},
   "outputs": [],
   "source": [
    "sp500['SubReturn'] = 1 + (sp500['diff'] / sp500['Adj Close'])"
   ]
  },
  {
   "cell_type": "code",
   "execution_count": 91,
   "metadata": {},
   "outputs": [],
   "source": [
    "sp500TWR = sp500"
   ]
  },
  {
   "cell_type": "code",
   "execution_count": 92,
   "metadata": {},
   "outputs": [
    {
     "data": {
      "text/html": "<div>\n<style scoped>\n    .dataframe tbody tr th:only-of-type {\n        vertical-align: middle;\n    }\n\n    .dataframe tbody tr th {\n        vertical-align: top;\n    }\n\n    .dataframe thead th {\n        text-align: right;\n    }\n</style>\n<table border=\"1\" class=\"dataframe\">\n  <thead>\n    <tr style=\"text-align: right;\">\n      <th></th>\n      <th>Date</th>\n      <th>Adj Close</th>\n      <th>diff</th>\n      <th>SubReturn</th>\n    </tr>\n  </thead>\n  <tbody>\n    <tr>\n      <td>0</td>\n      <td>2017-01-18</td>\n      <td>2271.89</td>\n      <td>NaN</td>\n      <td>NaN</td>\n    </tr>\n    <tr>\n      <td>1</td>\n      <td>2017-01-19</td>\n      <td>2263.69</td>\n      <td>-8.20</td>\n      <td>0.996378</td>\n    </tr>\n    <tr>\n      <td>2</td>\n      <td>2017-01-20</td>\n      <td>2271.31</td>\n      <td>7.62</td>\n      <td>1.003355</td>\n    </tr>\n    <tr>\n      <td>3</td>\n      <td>2017-01-23</td>\n      <td>2265.20</td>\n      <td>-6.11</td>\n      <td>0.997303</td>\n    </tr>\n    <tr>\n      <td>4</td>\n      <td>2017-01-24</td>\n      <td>2280.07</td>\n      <td>14.87</td>\n      <td>1.006522</td>\n    </tr>\n    <tr>\n      <td>...</td>\n      <td>...</td>\n      <td>...</td>\n      <td>...</td>\n      <td>...</td>\n    </tr>\n    <tr>\n      <td>675</td>\n      <td>2019-09-24</td>\n      <td>2966.60</td>\n      <td>-25.18</td>\n      <td>0.991512</td>\n    </tr>\n    <tr>\n      <td>676</td>\n      <td>2019-09-25</td>\n      <td>2984.87</td>\n      <td>18.27</td>\n      <td>1.006121</td>\n    </tr>\n    <tr>\n      <td>677</td>\n      <td>2019-09-26</td>\n      <td>2977.62</td>\n      <td>-7.25</td>\n      <td>0.997565</td>\n    </tr>\n    <tr>\n      <td>678</td>\n      <td>2019-09-27</td>\n      <td>2961.79</td>\n      <td>-15.83</td>\n      <td>0.994655</td>\n    </tr>\n    <tr>\n      <td>679</td>\n      <td>2019-09-30</td>\n      <td>2976.74</td>\n      <td>14.95</td>\n      <td>1.005022</td>\n    </tr>\n  </tbody>\n</table>\n<p>680 rows × 4 columns</p>\n</div>",
      "text/plain": "          Date  Adj Close   diff  SubReturn\n0   2017-01-18    2271.89    NaN        NaN\n1   2017-01-19    2263.69  -8.20   0.996378\n2   2017-01-20    2271.31   7.62   1.003355\n3   2017-01-23    2265.20  -6.11   0.997303\n4   2017-01-24    2280.07  14.87   1.006522\n..         ...        ...    ...        ...\n675 2019-09-24    2966.60 -25.18   0.991512\n676 2019-09-25    2984.87  18.27   1.006121\n677 2019-09-26    2977.62  -7.25   0.997565\n678 2019-09-27    2961.79 -15.83   0.994655\n679 2019-09-30    2976.74  14.95   1.005022\n\n[680 rows x 4 columns]"
     },
     "execution_count": 92,
     "metadata": {},
     "output_type": "execute_result"
    }
   ],
   "source": [
    "sp500"
   ]
  },
  {
   "cell_type": "code",
   "execution_count": 95,
   "metadata": {},
   "outputs": [],
   "source": [
    "sp500TWR['TWR'] = (sp500['SubReturn'].cumprod(skipna=True, axis = 0)-1)*100"
   ]
  },
  {
   "cell_type": "code",
   "execution_count": 96,
   "metadata": {},
   "outputs": [
    {
     "data": {
      "text/html": "<div>\n<style scoped>\n    .dataframe tbody tr th:only-of-type {\n        vertical-align: middle;\n    }\n\n    .dataframe tbody tr th {\n        vertical-align: top;\n    }\n\n    .dataframe thead th {\n        text-align: right;\n    }\n</style>\n<table border=\"1\" class=\"dataframe\">\n  <thead>\n    <tr style=\"text-align: right;\">\n      <th></th>\n      <th>Date</th>\n      <th>Adj Close</th>\n      <th>diff</th>\n      <th>SubReturn</th>\n      <th>TWR</th>\n    </tr>\n  </thead>\n  <tbody>\n    <tr>\n      <td>675</td>\n      <td>2019-09-24</td>\n      <td>2966.60</td>\n      <td>-25.18</td>\n      <td>0.991512</td>\n      <td>24.578767</td>\n    </tr>\n    <tr>\n      <td>676</td>\n      <td>2019-09-25</td>\n      <td>2984.87</td>\n      <td>18.27</td>\n      <td>1.006121</td>\n      <td>25.341298</td>\n    </tr>\n    <tr>\n      <td>677</td>\n      <td>2019-09-26</td>\n      <td>2977.62</td>\n      <td>-7.25</td>\n      <td>0.997565</td>\n      <td>25.036113</td>\n    </tr>\n    <tr>\n      <td>678</td>\n      <td>2019-09-27</td>\n      <td>2961.79</td>\n      <td>-15.83</td>\n      <td>0.994655</td>\n      <td>24.367827</td>\n    </tr>\n    <tr>\n      <td>679</td>\n      <td>2019-09-30</td>\n      <td>2976.74</td>\n      <td>14.95</td>\n      <td>1.005022</td>\n      <td>24.992436</td>\n    </tr>\n  </tbody>\n</table>\n</div>",
      "text/plain": "          Date  Adj Close   diff  SubReturn        TWR\n675 2019-09-24    2966.60 -25.18   0.991512  24.578767\n676 2019-09-25    2984.87  18.27   1.006121  25.341298\n677 2019-09-26    2977.62  -7.25   0.997565  25.036113\n678 2019-09-27    2961.79 -15.83   0.994655  24.367827\n679 2019-09-30    2976.74  14.95   1.005022  24.992436"
     },
     "execution_count": 96,
     "metadata": {},
     "output_type": "execute_result"
    }
   ],
   "source": [
    "sp500TWR.tail()"
   ]
  },
  {
   "cell_type": "code",
   "execution_count": null,
   "metadata": {},
   "outputs": [],
   "source": []
  }
 ]
}
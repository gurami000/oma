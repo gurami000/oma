{
 "nbformat": 4,
 "nbformat_minor": 2,
 "metadata": {
  "language_info": {
   "name": "python",
   "codemirror_mode": {
    "name": "ipython",
    "version": 3
   },
   "version": "3.7.4-final"
  },
  "orig_nbformat": 2,
  "file_extension": ".py",
  "mimetype": "text/x-python",
  "name": "python",
  "npconvert_exporter": "python",
  "pygments_lexer": "ipython3",
  "version": 3,
  "kernelspec": {
   "name": "python37464bitbasecondafc973df1ce424b17b41caafa44b5e9ca",
   "display_name": "Python 3.7.4 64-bit ('base': conda)"
  }
 },
 "cells": [
  {
   "cell_type": "code",
   "execution_count": null,
   "metadata": {},
   "outputs": [],
   "source": [
    "#Todo: check if tables_SymbolKey.xlsx file exist to create or update\n",
    "# make .py file"
   ]
  },
  {
   "cell_type": "code",
   "execution_count": 1,
   "metadata": {},
   "outputs": [],
   "source": [
    "import os\n",
    "import pandas as pd\n",
    "from pathlib import Path"
   ]
  },
  {
   "cell_type": "code",
   "execution_count": 4,
   "metadata": {},
   "outputs": [
    {
     "output_type": "execute_result",
     "data": {
      "text/plain": "WindowsPath('d:/Javier/SynologyDrive/PortfolioPython/code/data/tables')"
     },
     "metadata": {},
     "execution_count": 4
    }
   ],
   "source": [
    "current_dir = Path.cwd()\n",
    "\n",
    "cwd =  Path.cwd()\n",
    "cwd = cwd.parents[0]\n",
    "folder = cwd /'data'/'ibactivity'\n",
    "\n",
    "tables = cwd / 'data'/'tables'\n",
    "tables"
   ]
  },
  {
   "cell_type": "code",
   "execution_count": 34,
   "metadata": {},
   "outputs": [],
   "source": [
    "#Read current Symbolkey table if exists or empty dataframe\n",
    "if (tables/'tables_symbol_key.xlsx').is_file():\n",
    "    symbolKey = pd.read_excel(tables/'tables_symbol_key.xlsx')\n",
    "else:\n",
    "    symbolKey = pd.DataFrame()"
   ]
  },
  {
   "cell_type": "code",
   "execution_count": 32,
   "metadata": {},
   "outputs": [],
   "source": [
    "#Creates a new dataframe with all new symbol keys\n",
    "trades = pd.read_csv(tables/'tables_trades.csv') \n",
    "trades.drop(columns=['Quantity','Currency','Date/Time','T. Price','Proceeds','Comm/Fee','Quantity_Rsum'],axis= 1, inplace=True)\n",
    "trades['Symbol'] = trades.Symbol.str.strip()\n",
    "trades['Underliying'] = trades['Symbol'].str.split(n=1).str[0].str.strip()\n",
    "\n",
    "trades = trades.drop_duplicates('Symbol').sort_values(by=['Symbol'])\n",
    "trades = trades.reset_index(drop=True)"
   ]
  },
  {
   "cell_type": "code",
   "execution_count": 33,
   "metadata": {},
   "outputs": [
    {
     "output_type": "execute_result",
     "data": {
      "text/plain": "               Asset Category              Symbol Underliying\n0                      Stocks                0OV1        0OV1\n1                      Stocks                1810        1810\n2                      Stocks               1COVd       1COVd\n3                      Stocks                 3P7         3P7\n4                      Stocks                 700         700\n..                        ...                 ...         ...\n606  Equity and Index Options  XRT 21JUN19 43.0 P         XRT\n607  Equity and Index Options  XRT 21JUN19 44.0 C         XRT\n608  Equity and Index Options  XRT 21JUN19 44.0 P         XRT\n609  Equity and Index Options  XRT 21JUN19 46.0 C         XRT\n610  Equity and Index Options  XRT 21JUN19 49.0 C         XRT\n\n[611 rows x 3 columns]",
      "text/html": "<div>\n<style scoped>\n    .dataframe tbody tr th:only-of-type {\n        vertical-align: middle;\n    }\n\n    .dataframe tbody tr th {\n        vertical-align: top;\n    }\n\n    .dataframe thead th {\n        text-align: right;\n    }\n</style>\n<table border=\"1\" class=\"dataframe\">\n  <thead>\n    <tr style=\"text-align: right;\">\n      <th></th>\n      <th>Asset Category</th>\n      <th>Symbol</th>\n      <th>Underliying</th>\n    </tr>\n  </thead>\n  <tbody>\n    <tr>\n      <td>0</td>\n      <td>Stocks</td>\n      <td>0OV1</td>\n      <td>0OV1</td>\n    </tr>\n    <tr>\n      <td>1</td>\n      <td>Stocks</td>\n      <td>1810</td>\n      <td>1810</td>\n    </tr>\n    <tr>\n      <td>2</td>\n      <td>Stocks</td>\n      <td>1COVd</td>\n      <td>1COVd</td>\n    </tr>\n    <tr>\n      <td>3</td>\n      <td>Stocks</td>\n      <td>3P7</td>\n      <td>3P7</td>\n    </tr>\n    <tr>\n      <td>4</td>\n      <td>Stocks</td>\n      <td>700</td>\n      <td>700</td>\n    </tr>\n    <tr>\n      <td>...</td>\n      <td>...</td>\n      <td>...</td>\n      <td>...</td>\n    </tr>\n    <tr>\n      <td>606</td>\n      <td>Equity and Index Options</td>\n      <td>XRT 21JUN19 43.0 P</td>\n      <td>XRT</td>\n    </tr>\n    <tr>\n      <td>607</td>\n      <td>Equity and Index Options</td>\n      <td>XRT 21JUN19 44.0 C</td>\n      <td>XRT</td>\n    </tr>\n    <tr>\n      <td>608</td>\n      <td>Equity and Index Options</td>\n      <td>XRT 21JUN19 44.0 P</td>\n      <td>XRT</td>\n    </tr>\n    <tr>\n      <td>609</td>\n      <td>Equity and Index Options</td>\n      <td>XRT 21JUN19 46.0 C</td>\n      <td>XRT</td>\n    </tr>\n    <tr>\n      <td>610</td>\n      <td>Equity and Index Options</td>\n      <td>XRT 21JUN19 49.0 C</td>\n      <td>XRT</td>\n    </tr>\n  </tbody>\n</table>\n<p>611 rows × 3 columns</p>\n</div>"
     },
     "metadata": {},
     "execution_count": 33
    }
   ],
   "source": [
    "trades"
   ]
  },
  {
   "cell_type": "code",
   "execution_count": 35,
   "metadata": {},
   "outputs": [
    {
     "output_type": "execute_result",
     "data": {
      "text/plain": "               Asset Category              Symbol Underliying\n0                      Stocks                0OV1        0OV1\n1                      Stocks                1810        1810\n2                      Stocks               1COVd       1COVd\n3                      Stocks                 3P7         3P7\n4                      Stocks                 700         700\n..                        ...                 ...         ...\n606  Equity and Index Options  XRT 21JUN19 43.0 P         XRT\n607  Equity and Index Options  XRT 21JUN19 44.0 C         XRT\n608  Equity and Index Options  XRT 21JUN19 44.0 P         XRT\n609  Equity and Index Options  XRT 21JUN19 46.0 C         XRT\n610  Equity and Index Options  XRT 21JUN19 49.0 C         XRT\n\n[611 rows x 3 columns]",
      "text/html": "<div>\n<style scoped>\n    .dataframe tbody tr th:only-of-type {\n        vertical-align: middle;\n    }\n\n    .dataframe tbody tr th {\n        vertical-align: top;\n    }\n\n    .dataframe thead th {\n        text-align: right;\n    }\n</style>\n<table border=\"1\" class=\"dataframe\">\n  <thead>\n    <tr style=\"text-align: right;\">\n      <th></th>\n      <th>Asset Category</th>\n      <th>Symbol</th>\n      <th>Underliying</th>\n    </tr>\n  </thead>\n  <tbody>\n    <tr>\n      <td>0</td>\n      <td>Stocks</td>\n      <td>0OV1</td>\n      <td>0OV1</td>\n    </tr>\n    <tr>\n      <td>1</td>\n      <td>Stocks</td>\n      <td>1810</td>\n      <td>1810</td>\n    </tr>\n    <tr>\n      <td>2</td>\n      <td>Stocks</td>\n      <td>1COVd</td>\n      <td>1COVd</td>\n    </tr>\n    <tr>\n      <td>3</td>\n      <td>Stocks</td>\n      <td>3P7</td>\n      <td>3P7</td>\n    </tr>\n    <tr>\n      <td>4</td>\n      <td>Stocks</td>\n      <td>700</td>\n      <td>700</td>\n    </tr>\n    <tr>\n      <td>...</td>\n      <td>...</td>\n      <td>...</td>\n      <td>...</td>\n    </tr>\n    <tr>\n      <td>606</td>\n      <td>Equity and Index Options</td>\n      <td>XRT 21JUN19 43.0 P</td>\n      <td>XRT</td>\n    </tr>\n    <tr>\n      <td>607</td>\n      <td>Equity and Index Options</td>\n      <td>XRT 21JUN19 44.0 C</td>\n      <td>XRT</td>\n    </tr>\n    <tr>\n      <td>608</td>\n      <td>Equity and Index Options</td>\n      <td>XRT 21JUN19 44.0 P</td>\n      <td>XRT</td>\n    </tr>\n    <tr>\n      <td>609</td>\n      <td>Equity and Index Options</td>\n      <td>XRT 21JUN19 46.0 C</td>\n      <td>XRT</td>\n    </tr>\n    <tr>\n      <td>610</td>\n      <td>Equity and Index Options</td>\n      <td>XRT 21JUN19 49.0 C</td>\n      <td>XRT</td>\n    </tr>\n  </tbody>\n</table>\n<p>611 rows × 3 columns</p>\n</div>"
     },
     "metadata": {},
     "execution_count": 35
    }
   ],
   "source": [
    "#Finds the new Symbols\n",
    "df_diff = pd.concat([symbolKey,trades], sort=False).drop_duplicates(keep=False)\n",
    "df_diff"
   ]
  },
  {
   "cell_type": "code",
   "execution_count": 36,
   "metadata": {},
   "outputs": [],
   "source": [
    "# Appends them, sort and reset index\n",
    "symbolKey = symbolKey.append(df_diff)\n",
    "symbolKey.sort_values(by=['Symbol'],inplace=True)\n",
    "symbolKey = symbolKey.reset_index(drop=True)"
   ]
  },
  {
   "cell_type": "code",
   "execution_count": 37,
   "metadata": {},
   "outputs": [
    {
     "output_type": "execute_result",
     "data": {
      "text/plain": "               Asset Category              Symbol Underliying\n0                      Stocks                0OV1        0OV1\n1                      Stocks                1810        1810\n2                      Stocks               1COVd       1COVd\n3                      Stocks                 3P7         3P7\n4                      Stocks                 700         700\n..                        ...                 ...         ...\n606  Equity and Index Options  XRT 21JUN19 43.0 P         XRT\n607  Equity and Index Options  XRT 21JUN19 44.0 C         XRT\n608  Equity and Index Options  XRT 21JUN19 44.0 P         XRT\n609  Equity and Index Options  XRT 21JUN19 46.0 C         XRT\n610  Equity and Index Options  XRT 21JUN19 49.0 C         XRT\n\n[611 rows x 3 columns]",
      "text/html": "<div>\n<style scoped>\n    .dataframe tbody tr th:only-of-type {\n        vertical-align: middle;\n    }\n\n    .dataframe tbody tr th {\n        vertical-align: top;\n    }\n\n    .dataframe thead th {\n        text-align: right;\n    }\n</style>\n<table border=\"1\" class=\"dataframe\">\n  <thead>\n    <tr style=\"text-align: right;\">\n      <th></th>\n      <th>Asset Category</th>\n      <th>Symbol</th>\n      <th>Underliying</th>\n    </tr>\n  </thead>\n  <tbody>\n    <tr>\n      <td>0</td>\n      <td>Stocks</td>\n      <td>0OV1</td>\n      <td>0OV1</td>\n    </tr>\n    <tr>\n      <td>1</td>\n      <td>Stocks</td>\n      <td>1810</td>\n      <td>1810</td>\n    </tr>\n    <tr>\n      <td>2</td>\n      <td>Stocks</td>\n      <td>1COVd</td>\n      <td>1COVd</td>\n    </tr>\n    <tr>\n      <td>3</td>\n      <td>Stocks</td>\n      <td>3P7</td>\n      <td>3P7</td>\n    </tr>\n    <tr>\n      <td>4</td>\n      <td>Stocks</td>\n      <td>700</td>\n      <td>700</td>\n    </tr>\n    <tr>\n      <td>...</td>\n      <td>...</td>\n      <td>...</td>\n      <td>...</td>\n    </tr>\n    <tr>\n      <td>606</td>\n      <td>Equity and Index Options</td>\n      <td>XRT 21JUN19 43.0 P</td>\n      <td>XRT</td>\n    </tr>\n    <tr>\n      <td>607</td>\n      <td>Equity and Index Options</td>\n      <td>XRT 21JUN19 44.0 C</td>\n      <td>XRT</td>\n    </tr>\n    <tr>\n      <td>608</td>\n      <td>Equity and Index Options</td>\n      <td>XRT 21JUN19 44.0 P</td>\n      <td>XRT</td>\n    </tr>\n    <tr>\n      <td>609</td>\n      <td>Equity and Index Options</td>\n      <td>XRT 21JUN19 46.0 C</td>\n      <td>XRT</td>\n    </tr>\n    <tr>\n      <td>610</td>\n      <td>Equity and Index Options</td>\n      <td>XRT 21JUN19 49.0 C</td>\n      <td>XRT</td>\n    </tr>\n  </tbody>\n</table>\n<p>611 rows × 3 columns</p>\n</div>"
     },
     "metadata": {},
     "execution_count": 37
    }
   ],
   "source": [
    "symbolKey"
   ]
  },
  {
   "cell_type": "code",
   "execution_count": 78,
   "metadata": {},
   "outputs": [],
   "source": [
    "#Saves a new excel file\n",
    "symbolKey.to_excel(current_dir/'Tables'/'tables_SymbolKey.xlsx', index=False, index_label='Symbol', columns=['Symbol','Underliying','Asset Category'])"
   ]
  },
  {
   "cell_type": "code",
   "execution_count": 38,
   "metadata": {},
   "outputs": [],
   "source": [
    "def update_symbol_names():\n",
    "\n",
    "    #Read current Symbolkey table if exists or empty dataframe\n",
    "    if (tables/'tables_symbol_name.xlsx').is_file():\n",
    "        symbolKey = pd.read_excel(tables/'tables_symbol_name.xlsx')\n",
    "    else:\n",
    "        symbolKey = pd.DataFrame()\n",
    "\n",
    "    #Creates a new dataframe with all new symbol keys\n",
    "    trades = pd.read_csv(tables/'tables_trades.csv') \n",
    "    trades.drop(columns=['Quantity','Currency','Date/Time','T. Price','Proceeds','Comm/Fee','Quantity_Rsum'],axis= 1, inplace=True)\n",
    "    trades['Symbol'] = trades.Symbol.str.strip()\n",
    "    trades['Underliying'] = trades['Symbol'].str.split(n=1).str[0].str.strip()\n",
    "    trades = trades.drop_duplicates('Symbol').sort_values(by=['Symbol'])\n",
    "    trades = trades.reset_index(drop=True)\n",
    "\n",
    "    #Finds the new Symbols\n",
    "    df_diff = pd.concat([symbolKey,trades], sort=False).drop_duplicates(keep=False)\n",
    "\n",
    "    # Appends them, sort and reset index\n",
    "    symbolKey = symbolKey.append(df_diff)\n",
    "    symbolKey.sort_values(by=['Symbol'],inplace=True)\n",
    "    symbolKey = symbolKey.reset_index(drop=True)\n",
    "\n",
    "    return symbolKey\n",
    "\n",
    "    \n"
   ]
  },
  {
   "cell_type": "code",
   "execution_count": 39,
   "metadata": {},
   "outputs": [],
   "source": [
    "a = update_symbol_key()"
   ]
  },
  {
   "cell_type": "code",
   "execution_count": 40,
   "metadata": {},
   "outputs": [
    {
     "output_type": "execute_result",
     "data": {
      "text/plain": "               Asset Category              Symbol Underliying\n0                      Stocks                0OV1        0OV1\n1                      Stocks                1810        1810\n2                      Stocks               1COVd       1COVd\n3                      Stocks                 3P7         3P7\n4                      Stocks                 700         700\n..                        ...                 ...         ...\n606  Equity and Index Options  XRT 21JUN19 43.0 P         XRT\n607  Equity and Index Options  XRT 21JUN19 44.0 C         XRT\n608  Equity and Index Options  XRT 21JUN19 44.0 P         XRT\n609  Equity and Index Options  XRT 21JUN19 46.0 C         XRT\n610  Equity and Index Options  XRT 21JUN19 49.0 C         XRT\n\n[611 rows x 3 columns]",
      "text/html": "<div>\n<style scoped>\n    .dataframe tbody tr th:only-of-type {\n        vertical-align: middle;\n    }\n\n    .dataframe tbody tr th {\n        vertical-align: top;\n    }\n\n    .dataframe thead th {\n        text-align: right;\n    }\n</style>\n<table border=\"1\" class=\"dataframe\">\n  <thead>\n    <tr style=\"text-align: right;\">\n      <th></th>\n      <th>Asset Category</th>\n      <th>Symbol</th>\n      <th>Underliying</th>\n    </tr>\n  </thead>\n  <tbody>\n    <tr>\n      <td>0</td>\n      <td>Stocks</td>\n      <td>0OV1</td>\n      <td>0OV1</td>\n    </tr>\n    <tr>\n      <td>1</td>\n      <td>Stocks</td>\n      <td>1810</td>\n      <td>1810</td>\n    </tr>\n    <tr>\n      <td>2</td>\n      <td>Stocks</td>\n      <td>1COVd</td>\n      <td>1COVd</td>\n    </tr>\n    <tr>\n      <td>3</td>\n      <td>Stocks</td>\n      <td>3P7</td>\n      <td>3P7</td>\n    </tr>\n    <tr>\n      <td>4</td>\n      <td>Stocks</td>\n      <td>700</td>\n      <td>700</td>\n    </tr>\n    <tr>\n      <td>...</td>\n      <td>...</td>\n      <td>...</td>\n      <td>...</td>\n    </tr>\n    <tr>\n      <td>606</td>\n      <td>Equity and Index Options</td>\n      <td>XRT 21JUN19 43.0 P</td>\n      <td>XRT</td>\n    </tr>\n    <tr>\n      <td>607</td>\n      <td>Equity and Index Options</td>\n      <td>XRT 21JUN19 44.0 C</td>\n      <td>XRT</td>\n    </tr>\n    <tr>\n      <td>608</td>\n      <td>Equity and Index Options</td>\n      <td>XRT 21JUN19 44.0 P</td>\n      <td>XRT</td>\n    </tr>\n    <tr>\n      <td>609</td>\n      <td>Equity and Index Options</td>\n      <td>XRT 21JUN19 46.0 C</td>\n      <td>XRT</td>\n    </tr>\n    <tr>\n      <td>610</td>\n      <td>Equity and Index Options</td>\n      <td>XRT 21JUN19 49.0 C</td>\n      <td>XRT</td>\n    </tr>\n  </tbody>\n</table>\n<p>611 rows × 3 columns</p>\n</div>"
     },
     "metadata": {},
     "execution_count": 40
    }
   ],
   "source": [
    "a"
   ]
  },
  {
   "cell_type": "code",
   "execution_count": null,
   "metadata": {},
   "outputs": [],
   "source": []
  }
 ]
}
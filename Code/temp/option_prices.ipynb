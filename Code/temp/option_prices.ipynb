{
 "nbformat": 4,
 "nbformat_minor": 2,
 "metadata": {
  "language_info": {
   "name": "python",
   "codemirror_mode": {
    "name": "ipython",
    "version": 3
   },
   "version": "3.7.4-final"
  },
  "orig_nbformat": 2,
  "file_extension": ".py",
  "mimetype": "text/x-python",
  "name": "python",
  "npconvert_exporter": "python",
  "pygments_lexer": "ipython3",
  "version": 3,
  "kernelspec": {
   "name": "python37464bitbasecondafc973df1ce424b17b41caafa44b5e9ca",
   "display_name": "Python 3.7.4 64-bit ('base': conda)"
  }
 },
 "cells": [
  {
   "cell_type": "code",
   "execution_count": 3,
   "metadata": {},
   "outputs": [],
   "source": [
    "import os\n",
    "import pandas as pd\n",
    "import numpy as np\n",
    "from pathlib import Path"
   ]
  },
  {
   "cell_type": "code",
   "execution_count": 4,
   "metadata": {},
   "outputs": [
    {
     "output_type": "execute_result",
     "data": {
      "text/plain": "WindowsPath('c:/Users/Javier/Python/PortfolioPython/code/data/ibactivity_processed')"
     },
     "metadata": {},
     "execution_count": 4
    }
   ],
   "source": [
    "cwd = Path.cwd().parent\n",
    "ibactivity_processed = cwd/'data'/'ibactivity_processed'\n",
    "ibactivity_processed"
   ]
  },
  {
   "cell_type": "code",
   "execution_count": 124,
   "metadata": {},
   "outputs": [
    {
     "data": {
      "text/plain": "'U9233567_20170927_20170927.csv'"
     },
     "execution_count": 124,
     "metadata": {},
     "output_type": "execute_result"
    }
   ],
   "source": [
    "report = 'U9233567_20170927_20170927.csv'\n",
    "report"
   ]
  },
  {
   "cell_type": "code",
   "execution_count": 5,
   "metadata": {},
   "outputs": [],
   "source": [
    "def convert_to_df(folder,a_file):\n",
    "    data = pd.read_csv(folder/a_file, names=list('abcdefghijklmnopq'))\n",
    "    data = data.loc[~data.a.isin(['Codes', 'Notes/Legal Notes','Account Information','Change in NAV','Mark-to-Market Performance Summary','Realized & Unrealized Performance Summary'])]\n",
    "    return data"
   ]
  },
  {
   "cell_type": "code",
   "execution_count": 6,
   "metadata": {},
   "outputs": [],
   "source": [
    "def process_option_prices(data):\n",
    "    date = data.loc[data.a =='Statement']\n",
    "    date = date.loc[date.c =='Period']\n",
    "    date.dropna(axis=1,inplace=True)\n",
    "    date.drop(columns=['a','b','c'], inplace=True, errors='ignore')\n",
    "    date.reset_index(inplace=True,drop=True)\n",
    "    date = date.iloc[0:1]\n",
    "    date.columns = ['Date']\n",
    "\n",
    "    data_op = data.loc[data.a =='Open Positions']\n",
    "    if len(data_op) > 0:\n",
    "        op = data_op.loc[data_op.b == 'Data']\n",
    "        if len(op) > 0:\n",
    "            first_row = op.index.values[0]-1\n",
    "            header_row = list(data_op.loc[first_row])\n",
    "            op.columns = header_row\n",
    "            op = op.loc[:,op.columns.notna()] \n",
    "            op = op.loc[(op['Asset Category'] == 'Equity and Index Options')|( op['Asset Category'] =='Options On Futures')]\n",
    "            op.drop(columns= ['Open Positions','Header','DataDiscriminator','Asset Category','Quantity','Mult','Cost Price','Cost Basis','Value','Unrealized P/L','Code'],inplace=True, errors='ignore')\n",
    "            op = pd.concat([date,op],axis=1).fillna( method='ffill').dropna()\n",
    "        else:\n",
    "            op = pd.DataFrame()\n",
    "    else:\n",
    "        op = ca = pd.DataFrame()\n",
    "    return op"
   ]
  },
  {
   "cell_type": "code",
   "execution_count": 7,
   "metadata": {},
   "outputs": [],
   "source": [
    "def get_all_option_prices(folder):\n",
    "    #Creates a list of all files in folder\n",
    "    filelist = os.listdir(folder)\n",
    "    #Creates a empty list to append all dataframes\n",
    "    op_list = []\n",
    "    #Iterates through all files in filelist\n",
    "    for file_ in filelist:\n",
    "        #Checks if file is a .csv\n",
    "        if file_.lower().endswith('.csv'):\n",
    "            data = convert_to_df(folder,file_)\n",
    "            op = process_option_prices(data)\n",
    "            #if type(div) != 'NonType':\n",
    "            if len(op) !=0:\n",
    "                op_list.append(op)\n",
    "    if len(op_list) == 0:\n",
    "        option_prices = pd.DataFrame()\n",
    "    else:\n",
    "        option_prices = pd.concat(op_list,sort=False )\n",
    "    return option_prices"
   ]
  },
  {
   "cell_type": "code",
   "execution_count": 132,
   "metadata": {},
   "outputs": [],
   "source": [
    "data = convert_to_df(ibactivity_processed, report)"
   ]
  },
  {
   "cell_type": "code",
   "execution_count": 139,
   "metadata": {},
   "outputs": [],
   "source": [
    "op = process_option_prices(data)"
   ]
  },
  {
   "cell_type": "code",
   "execution_count": 140,
   "metadata": {},
   "outputs": [
    {
     "data": {
      "text/html": "<div>\n<style scoped>\n    .dataframe tbody tr th:only-of-type {\n        vertical-align: middle;\n    }\n\n    .dataframe tbody tr th {\n        vertical-align: top;\n    }\n\n    .dataframe thead th {\n        text-align: right;\n    }\n</style>\n<table border=\"1\" class=\"dataframe\">\n  <thead>\n    <tr style=\"text-align: right;\">\n      <th></th>\n      <th>Date</th>\n      <th>Currency</th>\n      <th>Symbol</th>\n      <th>Close Price</th>\n    </tr>\n  </thead>\n  <tbody>\n    <tr>\n      <td>120</td>\n      <td>September 27, 2017</td>\n      <td>USD</td>\n      <td>AAPL 16FEB18 165.0 C</td>\n      <td>5.2612</td>\n    </tr>\n    <tr>\n      <td>121</td>\n      <td>September 27, 2017</td>\n      <td>USD</td>\n      <td>AAPL 16FEB18 165.0 P</td>\n      <td>16.0998</td>\n    </tr>\n    <tr>\n      <td>122</td>\n      <td>September 27, 2017</td>\n      <td>USD</td>\n      <td>AMD 17NOV17 15.0 C</td>\n      <td>0.4057</td>\n    </tr>\n    <tr>\n      <td>123</td>\n      <td>September 27, 2017</td>\n      <td>USD</td>\n      <td>ATVI 27OCT17 61.0 P</td>\n      <td>0.938</td>\n    </tr>\n    <tr>\n      <td>124</td>\n      <td>September 27, 2017</td>\n      <td>USD</td>\n      <td>IBKR 15DEC17 39.0 P</td>\n      <td>0.2341</td>\n    </tr>\n    <tr>\n      <td>125</td>\n      <td>September 27, 2017</td>\n      <td>USD</td>\n      <td>IBKR 15DEC17 41.0 C</td>\n      <td>4.0011</td>\n    </tr>\n    <tr>\n      <td>126</td>\n      <td>September 27, 2017</td>\n      <td>USD</td>\n      <td>MOMO 20OCT17 35.0 P</td>\n      <td>2.9811</td>\n    </tr>\n    <tr>\n      <td>127</td>\n      <td>September 27, 2017</td>\n      <td>USD</td>\n      <td>SSTK 17NOV17 30.0 P</td>\n      <td>0.6292</td>\n    </tr>\n    <tr>\n      <td>128</td>\n      <td>September 27, 2017</td>\n      <td>USD</td>\n      <td>SWKS 17NOV17 92.5 P</td>\n      <td>1.7389</td>\n    </tr>\n    <tr>\n      <td>129</td>\n      <td>September 27, 2017</td>\n      <td>USD</td>\n      <td>VIX 20DEC17 11.0 P</td>\n      <td>0.4065</td>\n    </tr>\n    <tr>\n      <td>130</td>\n      <td>September 27, 2017</td>\n      <td>USD</td>\n      <td>VZ 15DEC17 47.0 C</td>\n      <td>2.8833</td>\n    </tr>\n    <tr>\n      <td>133</td>\n      <td>September 27, 2017</td>\n      <td>USD</td>\n      <td>GE 10NOV17 98.125 P</td>\n      <td>0.1975</td>\n    </tr>\n    <tr>\n      <td>134</td>\n      <td>September 27, 2017</td>\n      <td>USD</td>\n      <td>GE 13OCT17 98.125 P</td>\n      <td>0.1775</td>\n    </tr>\n    <tr>\n      <td>135</td>\n      <td>September 27, 2017</td>\n      <td>USD</td>\n      <td>GE 13OCT17 98.25 P</td>\n      <td>0.295</td>\n    </tr>\n  </tbody>\n</table>\n</div>",
      "text/plain": "                   Date Currency                Symbol Close Price\n120  September 27, 2017      USD  AAPL 16FEB18 165.0 C      5.2612\n121  September 27, 2017      USD  AAPL 16FEB18 165.0 P     16.0998\n122  September 27, 2017      USD    AMD 17NOV17 15.0 C      0.4057\n123  September 27, 2017      USD   ATVI 27OCT17 61.0 P       0.938\n124  September 27, 2017      USD   IBKR 15DEC17 39.0 P      0.2341\n125  September 27, 2017      USD   IBKR 15DEC17 41.0 C      4.0011\n126  September 27, 2017      USD   MOMO 20OCT17 35.0 P      2.9811\n127  September 27, 2017      USD   SSTK 17NOV17 30.0 P      0.6292\n128  September 27, 2017      USD   SWKS 17NOV17 92.5 P      1.7389\n129  September 27, 2017      USD    VIX 20DEC17 11.0 P      0.4065\n130  September 27, 2017      USD     VZ 15DEC17 47.0 C      2.8833\n133  September 27, 2017      USD   GE 10NOV17 98.125 P      0.1975\n134  September 27, 2017      USD   GE 13OCT17 98.125 P      0.1775\n135  September 27, 2017      USD    GE 13OCT17 98.25 P       0.295"
     },
     "execution_count": 140,
     "metadata": {},
     "output_type": "execute_result"
    }
   ],
   "source": [
    "op"
   ]
  },
  {
   "cell_type": "code",
   "execution_count": 8,
   "metadata": {},
   "outputs": [
    {
     "output_type": "execute_result",
     "data": {
      "text/plain": "                 Date Currency               Symbol Close Price\n53     March 10, 2017      USD   WFM 19MAY17 28.0 P      1.0027\n50     March 13, 2017      USD   WFM 19MAY17 28.0 P      1.0894\n55     March 14, 2017      USD  MTCH 21APR17 17.5 P      1.1994\n56     March 14, 2017      USD   WFM 19MAY17 28.0 P      1.1571\n52     March 15, 2017      USD  MTCH 21APR17 17.5 P      1.1662\n..                ...      ...                  ...         ...\n951  October 31, 2019      USD  TTD 21JAN22 180.0 P     52.2247\n952  October 31, 2019      USD  UVXY 18JUN21 21.0 P      11.145\n953  October 31, 2019      USD  UVXY 21JAN22 50.0 C      6.6677\n954  October 31, 2019      USD   VIX 19FEB20 20.0 P      3.7902\n955  October 31, 2019      USD   VIX 15APR20 20.0 P      3.8879\n\n[20486 rows x 4 columns]",
      "text/html": "<div>\n<style scoped>\n    .dataframe tbody tr th:only-of-type {\n        vertical-align: middle;\n    }\n\n    .dataframe tbody tr th {\n        vertical-align: top;\n    }\n\n    .dataframe thead th {\n        text-align: right;\n    }\n</style>\n<table border=\"1\" class=\"dataframe\">\n  <thead>\n    <tr style=\"text-align: right;\">\n      <th></th>\n      <th>Date</th>\n      <th>Currency</th>\n      <th>Symbol</th>\n      <th>Close Price</th>\n    </tr>\n  </thead>\n  <tbody>\n    <tr>\n      <td>53</td>\n      <td>March 10, 2017</td>\n      <td>USD</td>\n      <td>WFM 19MAY17 28.0 P</td>\n      <td>1.0027</td>\n    </tr>\n    <tr>\n      <td>50</td>\n      <td>March 13, 2017</td>\n      <td>USD</td>\n      <td>WFM 19MAY17 28.0 P</td>\n      <td>1.0894</td>\n    </tr>\n    <tr>\n      <td>55</td>\n      <td>March 14, 2017</td>\n      <td>USD</td>\n      <td>MTCH 21APR17 17.5 P</td>\n      <td>1.1994</td>\n    </tr>\n    <tr>\n      <td>56</td>\n      <td>March 14, 2017</td>\n      <td>USD</td>\n      <td>WFM 19MAY17 28.0 P</td>\n      <td>1.1571</td>\n    </tr>\n    <tr>\n      <td>52</td>\n      <td>March 15, 2017</td>\n      <td>USD</td>\n      <td>MTCH 21APR17 17.5 P</td>\n      <td>1.1662</td>\n    </tr>\n    <tr>\n      <td>...</td>\n      <td>...</td>\n      <td>...</td>\n      <td>...</td>\n      <td>...</td>\n    </tr>\n    <tr>\n      <td>951</td>\n      <td>October 31, 2019</td>\n      <td>USD</td>\n      <td>TTD 21JAN22 180.0 P</td>\n      <td>52.2247</td>\n    </tr>\n    <tr>\n      <td>952</td>\n      <td>October 31, 2019</td>\n      <td>USD</td>\n      <td>UVXY 18JUN21 21.0 P</td>\n      <td>11.145</td>\n    </tr>\n    <tr>\n      <td>953</td>\n      <td>October 31, 2019</td>\n      <td>USD</td>\n      <td>UVXY 21JAN22 50.0 C</td>\n      <td>6.6677</td>\n    </tr>\n    <tr>\n      <td>954</td>\n      <td>October 31, 2019</td>\n      <td>USD</td>\n      <td>VIX 19FEB20 20.0 P</td>\n      <td>3.7902</td>\n    </tr>\n    <tr>\n      <td>955</td>\n      <td>October 31, 2019</td>\n      <td>USD</td>\n      <td>VIX 15APR20 20.0 P</td>\n      <td>3.8879</td>\n    </tr>\n  </tbody>\n</table>\n<p>20486 rows × 4 columns</p>\n</div>"
     },
     "metadata": {},
     "execution_count": 8
    }
   ],
   "source": [
    "op = get_all_option_prices(ibactivity_processed)\n",
    "op"
   ]
  },
  {
   "cell_type": "code",
   "execution_count": null,
   "metadata": {},
   "outputs": [],
   "source": []
  }
 ]
}
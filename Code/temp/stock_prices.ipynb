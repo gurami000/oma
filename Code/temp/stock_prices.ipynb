{
 "nbformat": 4,
 "nbformat_minor": 2,
 "metadata": {
  "language_info": {
   "name": "python",
   "codemirror_mode": {
    "name": "ipython",
    "version": 3
   },
   "version": "3.7.4-final"
  },
  "orig_nbformat": 2,
  "file_extension": ".py",
  "mimetype": "text/x-python",
  "name": "python",
  "npconvert_exporter": "python",
  "pygments_lexer": "ipython3",
  "version": 3,
  "kernelspec": {
   "name": "python37464bitbasecondafc973df1ce424b17b41caafa44b5e9ca",
   "display_name": "Python 3.7.4 64-bit ('base': conda)"
  }
 },
 "cells": [
  {
   "cell_type": "code",
   "execution_count": 2,
   "metadata": {},
   "outputs": [],
   "source": [
    "import os\n",
    "import pandas as pd\n",
    "import numpy as np\n",
    "from datetime import datetime\n",
    "import matplotlib.pyplot as plt\n",
    "from pandas_datareader import data as pdr\n",
    "import fix_yahoo_finance as yf\n",
    "\n",
    "from pathlib import Path"
   ]
  },
  {
   "cell_type": "code",
   "execution_count": 3,
   "metadata": {},
   "outputs": [
    {
     "data": {
      "text/plain": "WindowsPath('c:/Users/Javier/Python/PortfolioPython/code/data/tables')"
     },
     "execution_count": 3,
     "metadata": {},
     "output_type": "execute_result"
    }
   ],
   "source": [
    "cwd =  Path.cwd().parent\n",
    "\n",
    "folder = cwd /'data'\n",
    "ibactivity = folder/'ibactivity_processed'\n",
    "tables = cwd / 'data'/'tables'\n",
    "tables"
   ]
  },
  {
   "cell_type": "code",
   "execution_count": 4,
   "metadata": {},
   "outputs": [
    {
     "name": "stdout",
     "output_type": "stream",
     "text": "[*********************100%***********************]  1 of 1 downloaded\n"
    },
    {
     "data": {
      "text/plain": "(datetime.datetime(2019, 2, 13, 0, 0), datetime.datetime(2019, 10, 2, 0, 0))"
     },
     "execution_count": 4,
     "metadata": {},
     "output_type": "execute_result"
    }
   ],
   "source": [
    "# Date Ranges for SP 500\n",
    "\n",
    "start_sp = datetime(2019, 2, 13)\n",
    "end_sp =  datetime(2019, 10, 2)\n",
    "# The below will pull back stock SP500 Total Return.\n",
    "\n",
    "yf.pdr_override() # <== that's all it takes :-)\n",
    "sp500 = pdr.get_data_yahoo('^SP500TR', start_sp, end_sp)\n",
    "#Resample by month, quarter, year ...:\n",
    "#sp500 = sp500.resample('BM').last() #Uncoment one\n",
    "#No resample eg daily:\n",
    "sp500 = sp500.copy() #Uncoment one\n",
    "start_sp, end_sp"
   ]
  },
  {
   "cell_type": "code",
   "execution_count": 5,
   "metadata": {},
   "outputs": [],
   "source": [
    "def get_prices(symbol, first_date, last_date):\n",
    "    yf.pdr_override()\n",
    "    prices = pdr.get_data_yahoo(symbol, first_date, last_date)\n",
    "    prices = prices[['Close']]\n",
    "    return prices "
   ]
  },
  {
   "cell_type": "code",
   "execution_count": 6,
   "metadata": {},
   "outputs": [
    {
     "data": {
      "text/plain": "datetime.datetime(2019, 10, 31, 0, 0)"
     },
     "execution_count": 6,
     "metadata": {},
     "output_type": "execute_result"
    }
   ],
   "source": [
    "files = []\n",
    "paths = list (sorted(ibactivity.glob('*.csv')))\n",
    "for p in paths:\n",
    "    p = p.name.strip('.csv')\n",
    "    p = p.split('_')\n",
    "    p = p[-1]\n",
    "    p = datetime.strptime(p,'%Y%m%d' )\n",
    "    files.append(p)\n",
    "#files[0].strip('.csv')\n",
    "#files = files[0].split('_')\n",
    "last_report = files[-1]\n",
    "last_report"
   ]
  },
  {
   "cell_type": "code",
   "execution_count": 7,
   "metadata": {},
   "outputs": [],
   "source": [
    "#Stock list\n",
    "# Stock that currently holded\n",
    "stock_list = pd.read_csv(tables / 'tables_trades.csv')\n",
    "\n",
    "stock_list = stock_list.loc[stock_list['Asset Category']== 'Stocks']\n",
    "stock_list = stock_list[['Date/Time','Symbol','Quantity_Rsum']]\n",
    "stock_list['Date/Time'] = pd.to_datetime(stock_list['Date/Time']).dt.normalize()\n",
    "#stock_list = stock_list.loc[stock_list['Symbol']== 'POPD']\n",
    "stock_list.sort_values(by='Date/Time', ascending=True, inplace=True)\n",
    "stock_list['last_report'] = last_report\n"
   ]
  },
  {
   "cell_type": "code",
   "execution_count": null,
   "metadata": {},
   "outputs": [],
   "source": []
  },
  {
   "cell_type": "markdown",
   "execution_count": null,
   "metadata": {},
   "outputs": [],
   "source": [
    "### Update ranges\n",
    "Find if trades_prices exists. \n",
    "find last update.\n",
    "else last update = 01/01/17\n",
    "\n",
    "stocks trades groupby symbol\n",
    "Assign min_date to first_trade variable\n",
    "If Quantity_Rsum = 0 max_date = last_trade\n",
    "Status close\n",
    "else status open\n",
    "\n",
    "\n",
    "\n",
    "\n",
    "\n"
   ]
  },
  {
   "cell_type": "markdown",
   "execution_count": null,
   "metadata": {},
   "outputs": [],
   "source": [
    "Example 700\n",
    "list = empty list\n",
    "lst_report = 15/02/20\n",
    "first_trade = 27/02/18\n",
    "last_trade  = 27/02/18\n",
    "last_update = 01/10/19\n",
    "Quantity_Rsum > 0 \n",
    "status open\n",
    "\n",
    "\n",
    "if tables_prices is file:\n",
    "    if status is closed:\n",
    "        if last_trade < lst_report\n",
    "            skip symbol\n",
    "        else: #last_trade > lst_report\n",
    "            start = 01/10/19\n",
    "            end = last_trade\n",
    "    else: #Open\n",
    "        last_price = 01/10/19 # last_update\n",
    "        start = 02/01/19\n",
    "        end = 15/02/20\n",
    "\n",
    "else: #tables_prices not file\n",
    "    start = 27/02/18 #first_trade\n",
    "    end = 15/02/20  #last_update\n",
    "Append to list Symbol start end\n",
    "\n",
    "\n"
   ]
  },
  {
   "cell_type": "code",
   "execution_count": 8,
   "metadata": {},
   "outputs": [],
   "source": [
    "if (tables/'tables_prices.csv').is_file():\n",
    "    df = pd.read_csv(tables/'tables_prices.csv')\n",
    "    last_price_date = df['Date'].max()\n",
    "else:\n",
    "    last_price_date = datetime.strptime('20170101','%Y%m%d' )"
   ]
  },
  {
   "cell_type": "code",
   "execution_count": 9,
   "metadata": {},
   "outputs": [],
   "source": [
    "\n",
    "trades_date= pd.DataFrame()\n",
    "trades_date['first_trade'] = stock_list.groupby('Symbol').min()['Date/Time']\n",
    "trades_date['last_price'] = last_price_date\n",
    "\n",
    "trades_date['First'] = np.where(trades_date['first_trade'] > trades_date['last_price'], trades_date['first_trade'], trades_date['last_price'])\n",
    "\n",
    "trades_date['last_trade'] = stock_list.groupby('Symbol').max()['Date/Time']\n",
    "trades_date['last_report'] = stock_list.groupby('Symbol').max()['last_report']\n",
    "trades_date['State'] =np.where(stock_list.groupby('Symbol').last()['Quantity_Rsum'] == 0,'Closed','Open')\n",
    "\n",
    "\n",
    "\n",
    "trades_date['Skip'] = np.where((trades_date['State'] == 'Closed') &  (trades_date['last_price'] > trades_date['last_trade']),True,False)\n",
    "\n",
    "trades_date['First'] = np.where(trades_date['first_trade'] > trades_date['last_price'], trades_date['first_trade'], trades_date['last_price'])\n",
    "\n",
    "trades_date['Last'] = np.where(trades_date['State'] == 'Open', trades_date['last_report'], trades_date['last_trade'])\n",
    "\n",
    "trades_date = trades_date.loc[trades_date.Skip == False]\n",
    "\n",
    "trades_date = trades_date[['First','Last']]\n",
    "trades_date.reset_index(inplace=True)\n",
    "\n",
    "values = trades_date.to_dict('records')"
   ]
  },
  {
   "cell_type": "code",
   "execution_count": 10,
   "metadata": {},
   "outputs": [
    {
     "name": "stdout",
     "output_type": "stream",
     "text": "1COVd\n[*********************100%***********************]  1 of 1 downloaded\n            Close\nDate             \n2019-06-03  39.29\n2019-06-04  41.18\n2019-06-05  40.84\n2019-06-06  41.08\n2019-06-07  41.37\n...           ...\n2019-10-24  46.74\n2019-10-25  46.69\n2019-10-28  45.34\n2019-10-29  44.84\n2019-10-30  43.44\n\n[106 rows x 1 columns]\n"
    }
   ],
   "source": [
    "tst = values[2]\n",
    "print(tst['Symbol'])\n",
    "prices = get_prices('1COV.DE', tst['First'], tst['Last'])\n",
    "print(prices)\n"
   ]
  },
  {
   "cell_type": "code",
   "execution_count": 11,
   "metadata": {},
   "outputs": [],
   "source": [
    "# prices = get_prices(tst['Symbol'], tst['First'], tst['Last'])\n",
    "# prices"
   ]
  },
  {
   "cell_type": "code",
   "execution_count": 12,
   "metadata": {},
   "outputs": [
    {
     "name": "stdout",
     "output_type": "stream",
     "text": "<class 'pandas.core.frame.DataFrame'>\nRangeIndex: 85 entries, 0 to 84\nData columns (total 3 columns):\nSymbol    85 non-null object\nFirst     85 non-null datetime64[ns]\nLast      85 non-null datetime64[ns]\ndtypes: datetime64[ns](2), object(1)\nmemory usage: 2.1+ KB\n"
    }
   ],
   "source": [
    "trades_date.info()"
   ]
  },
  {
   "cell_type": "code",
   "execution_count": 13,
   "metadata": {},
   "outputs": [],
   "source": [
    "#end_sp\n",
    "#if tables_prices is file\n"
   ]
  },
  {
   "cell_type": "code",
   "execution_count": 14,
   "metadata": {},
   "outputs": [],
   "source": [
    "#function"
   ]
  }
 ]
}
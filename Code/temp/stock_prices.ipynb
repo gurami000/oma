{
 "nbformat": 4,
 "nbformat_minor": 2,
 "metadata": {
  "language_info": {
   "name": "python",
   "codemirror_mode": {
    "name": "ipython",
    "version": 3
   },
   "version": "3.7.4-final"
  },
  "orig_nbformat": 2,
  "file_extension": ".py",
  "mimetype": "text/x-python",
  "name": "python",
  "npconvert_exporter": "python",
  "pygments_lexer": "ipython3",
  "version": 3,
  "kernelspec": {
   "name": "python37464bitbasecondafc973df1ce424b17b41caafa44b5e9ca",
   "display_name": "Python 3.7.4 64-bit ('base': conda)"
  }
 },
 "cells": [
  {
   "cell_type": "code",
   "execution_count": 1,
   "metadata": {},
   "outputs": [],
   "source": [
    "#import os\n",
    "import pandas as pd\n",
    "import numpy as np\n",
    "import datetime\n",
    "import matplotlib.pyplot as plt\n",
    "from pandas_datareader import data as pdr\n",
    "import fix_yahoo_finance as yf\n",
    "\n",
    "from pathlib import Path"
   ]
  },
  {
   "cell_type": "code",
   "execution_count": 6,
   "metadata": {},
   "outputs": [
    {
     "data": {
      "text/plain": "WindowsPath('c:/Users/Javier/Python/PortfolioPython/code/data/tables')"
     },
     "execution_count": 6,
     "metadata": {},
     "output_type": "execute_result"
    }
   ],
   "source": [
    "cwd =  Path.cwd().parent\n",
    "\n",
    "folder = cwd /'data'\n",
    "ibactivity = folder/'ibactivity_processed'\n",
    "tables = cwd / 'data'/'tables'\n",
    "tables"
   ]
  },
  {
   "cell_type": "code",
   "execution_count": null,
   "metadata": {},
   "outputs": [],
   "source": [
    "# Date Ranges for SP 500\n",
    "\n",
    "start_sp = datetime.datetime(2019, 2, 13)\n",
    "end_sp =  datetime.datetime(2019, 10, 2)\n",
    "# The below will pull back stock SP500 Total Return.\n",
    "\n",
    "yf.pdr_override() # <== that's all it takes :-)\n",
    "sp500 = pdr.get_data_yahoo('^SP500TR', start_sp, end_sp)\n",
    "#Resample by month, quarter, year ...:\n",
    "#sp500 = sp500.resample('BM').last() #Uncoment one\n",
    "#No resample eg daily:\n",
    "sp500 = sp500.copy() #Uncoment one\n",
    "start_sp, end_sp"
   ]
  },
  {
   "cell_type": "code",
   "execution_count": 8,
   "metadata": {},
   "outputs": [
    {
     "data": {
      "text/html": "<div>\n<style scoped>\n    .dataframe tbody tr th:only-of-type {\n        vertical-align: middle;\n    }\n\n    .dataframe tbody tr th {\n        vertical-align: top;\n    }\n\n    .dataframe thead th {\n        text-align: right;\n    }\n</style>\n<table border=\"1\" class=\"dataframe\">\n  <thead>\n    <tr style=\"text-align: right;\">\n      <th></th>\n      <th>Asset Category</th>\n      <th>Comm/Fee</th>\n      <th>Currency</th>\n      <th>Date/Time</th>\n      <th>Description</th>\n      <th>Proceeds</th>\n      <th>Quantity</th>\n      <th>Quantity_Rsum</th>\n      <th>Symbol</th>\n      <th>T. Price</th>\n      <th>AvgOpenPrice</th>\n      <th>PL</th>\n      <th>CumPL</th>\n    </tr>\n  </thead>\n  <tbody>\n    <tr>\n      <td>1</td>\n      <td>Stocks</td>\n      <td>-1.0</td>\n      <td>USD</td>\n      <td>2017-01-19 10:56:05</td>\n      <td>NaN</td>\n      <td>-2282.8000</td>\n      <td>20.0</td>\n      <td>20.0</td>\n      <td>GLD</td>\n      <td>114.1400</td>\n      <td>114.140000</td>\n      <td>0.0</td>\n      <td>0.0</td>\n    </tr>\n    <tr>\n      <td>3</td>\n      <td>Stocks</td>\n      <td>-1.0</td>\n      <td>USD</td>\n      <td>2017-01-20 09:47:28</td>\n      <td>NaN</td>\n      <td>-686.8194</td>\n      <td>6.0</td>\n      <td>26.0</td>\n      <td>GLD</td>\n      <td>114.4699</td>\n      <td>114.216131</td>\n      <td>0.0</td>\n      <td>0.0</td>\n    </tr>\n    <tr>\n      <td>4</td>\n      <td>Stocks</td>\n      <td>-1.0</td>\n      <td>USD</td>\n      <td>2017-02-21 09:44:20</td>\n      <td>NaN</td>\n      <td>-577.9930</td>\n      <td>10.0</td>\n      <td>10.0</td>\n      <td>SBUX</td>\n      <td>57.7993</td>\n      <td>57.799300</td>\n      <td>0.0</td>\n      <td>0.0</td>\n    </tr>\n    <tr>\n      <td>5</td>\n      <td>Stocks</td>\n      <td>-4.0</td>\n      <td>EUR</td>\n      <td>2019-10-09 12:44:27</td>\n      <td>NaN</td>\n      <td>-533.6000</td>\n      <td>23.0</td>\n      <td>23.0</td>\n      <td>FAAd</td>\n      <td>23.2000</td>\n      <td>23.200000</td>\n      <td>0.0</td>\n      <td>0.0</td>\n    </tr>\n    <tr>\n      <td>6</td>\n      <td>Stocks</td>\n      <td>-4.0</td>\n      <td>EUR</td>\n      <td>2019-10-09 12:05:57</td>\n      <td>NaN</td>\n      <td>-536.6400</td>\n      <td>13.0</td>\n      <td>13.0</td>\n      <td>ZALd</td>\n      <td>41.2800</td>\n      <td>41.280000</td>\n      <td>0.0</td>\n      <td>0.0</td>\n    </tr>\n    <tr>\n      <td>...</td>\n      <td>...</td>\n      <td>...</td>\n      <td>...</td>\n      <td>...</td>\n      <td>...</td>\n      <td>...</td>\n      <td>...</td>\n      <td>...</td>\n      <td>...</td>\n      <td>...</td>\n      <td>...</td>\n      <td>...</td>\n      <td>...</td>\n    </tr>\n    <tr>\n      <td>1262</td>\n      <td>Stocks</td>\n      <td>-1.0</td>\n      <td>USD</td>\n      <td>2019-08-16 11:36:34</td>\n      <td>NaN</td>\n      <td>-1284.7500</td>\n      <td>15.0</td>\n      <td>15.0</td>\n      <td>TREX</td>\n      <td>85.6500</td>\n      <td>85.650000</td>\n      <td>0.0</td>\n      <td>0.0</td>\n    </tr>\n    <tr>\n      <td>1263</td>\n      <td>Stocks</td>\n      <td>-1.0</td>\n      <td>USD</td>\n      <td>2019-08-16 11:38:03</td>\n      <td>NaN</td>\n      <td>-1269.4000</td>\n      <td>10.0</td>\n      <td>10.0</td>\n      <td>TTWO</td>\n      <td>126.9400</td>\n      <td>126.940000</td>\n      <td>0.0</td>\n      <td>0.0</td>\n    </tr>\n    <tr>\n      <td>1282</td>\n      <td>Stocks</td>\n      <td>-1.0</td>\n      <td>USD</td>\n      <td>2019-08-21 10:39:56</td>\n      <td>NaN</td>\n      <td>-41.9400</td>\n      <td>3.0</td>\n      <td>119.0</td>\n      <td>CEFL</td>\n      <td>13.9800</td>\n      <td>15.179752</td>\n      <td>0.0</td>\n      <td>0.0</td>\n    </tr>\n    <tr>\n      <td>1304</td>\n      <td>Stocks</td>\n      <td>0.0</td>\n      <td>USD</td>\n      <td>2019-09-17 16:20:00</td>\n      <td>NaN</td>\n      <td>-12100.0000</td>\n      <td>100.0</td>\n      <td>100.0</td>\n      <td>OKTA</td>\n      <td>121.0000</td>\n      <td>121.000000</td>\n      <td>0.0</td>\n      <td>0.0</td>\n    </tr>\n    <tr>\n      <td>1329</td>\n      <td>Stocks</td>\n      <td>-1.0</td>\n      <td>USD</td>\n      <td>2019-09-24 10:00:11</td>\n      <td>NaN</td>\n      <td>-28.6000</td>\n      <td>2.0</td>\n      <td>121.0</td>\n      <td>CEFL</td>\n      <td>14.3000</td>\n      <td>15.165211</td>\n      <td>0.0</td>\n      <td>0.0</td>\n    </tr>\n  </tbody>\n</table>\n<p>129 rows × 13 columns</p>\n</div>",
      "text/plain": "     Asset Category  Comm/Fee Currency            Date/Time Description  \\\n1            Stocks      -1.0      USD  2017-01-19 10:56:05         NaN   \n3            Stocks      -1.0      USD  2017-01-20 09:47:28         NaN   \n4            Stocks      -1.0      USD  2017-02-21 09:44:20         NaN   \n5            Stocks      -4.0      EUR  2019-10-09 12:44:27         NaN   \n6            Stocks      -4.0      EUR  2019-10-09 12:05:57         NaN   \n...             ...       ...      ...                  ...         ...   \n1262         Stocks      -1.0      USD  2019-08-16 11:36:34         NaN   \n1263         Stocks      -1.0      USD  2019-08-16 11:38:03         NaN   \n1282         Stocks      -1.0      USD  2019-08-21 10:39:56         NaN   \n1304         Stocks       0.0      USD  2019-09-17 16:20:00         NaN   \n1329         Stocks      -1.0      USD  2019-09-24 10:00:11         NaN   \n\n        Proceeds  Quantity  Quantity_Rsum Symbol  T. Price  AvgOpenPrice   PL  \\\n1     -2282.8000      20.0           20.0    GLD  114.1400    114.140000  0.0   \n3      -686.8194       6.0           26.0    GLD  114.4699    114.216131  0.0   \n4      -577.9930      10.0           10.0   SBUX   57.7993     57.799300  0.0   \n5      -533.6000      23.0           23.0   FAAd   23.2000     23.200000  0.0   \n6      -536.6400      13.0           13.0   ZALd   41.2800     41.280000  0.0   \n...          ...       ...            ...    ...       ...           ...  ...   \n1262  -1284.7500      15.0           15.0   TREX   85.6500     85.650000  0.0   \n1263  -1269.4000      10.0           10.0   TTWO  126.9400    126.940000  0.0   \n1282    -41.9400       3.0          119.0   CEFL   13.9800     15.179752  0.0   \n1304 -12100.0000     100.0          100.0   OKTA  121.0000    121.000000  0.0   \n1329    -28.6000       2.0          121.0   CEFL   14.3000     15.165211  0.0   \n\n      CumPL  \n1       0.0  \n3       0.0  \n4       0.0  \n5       0.0  \n6       0.0  \n...     ...  \n1262    0.0  \n1263    0.0  \n1282    0.0  \n1304    0.0  \n1329    0.0  \n\n[129 rows x 13 columns]"
     },
     "execution_count": 8,
     "metadata": {},
     "output_type": "execute_result"
    }
   ],
   "source": [
    "#Stock list\n",
    "# Stock that currently holded\n",
    "stock_list = pd.read_csv(tables / 'tables_trades.csv')\n",
    "stock_list.loc[stock_list['Asset Category']== 'Stocks'].loc[stock_list['Quantity_Rsum']>0]"
   ]
  },
  {
   "cell_type": "markdown",
   "metadata": {},
   "source": [
    "### Update ranges\n",
    "Find if trades_prices exists. \n",
    "find last update.\n",
    "else last update = 01/01/17\n",
    "\n",
    "stocks trades groupby symbol\n",
    "Assign min_date to first_trade variable\n",
    "If Quantity_Rsum = 0 max_date = last_trade\n",
    "Status close\n",
    "else status open\n",
    "\n",
    "\n",
    "\n",
    "\n",
    "\n"
   ]
  },
  {
   "cell_type": "markdown",
   "metadata": {},
   "source": [
    "Example 700\n",
    "list = empty list\n",
    "lst_report = 15/02/20\n",
    "first_trade = 27/02/18\n",
    "last_trade  = 27/02/18\n",
    "last_update = 01/10/19\n",
    "Quantity_Rsum > 0 \n",
    "status open\n",
    "\n",
    "\n",
    "if tables_prices is file:\n",
    "    if status is closed:\n",
    "        if last_trade < lst_report\n",
    "            skip symbol\n",
    "        else: #last_trade > lst_report\n",
    "            start = 01/10/19\n",
    "            end = last_trade\n",
    "    else: #Open\n",
    "        last_price = 01/10/19 # last_update\n",
    "        start = 02/01/19\n",
    "        end = 15/02/20\n",
    "\n",
    "else: #tables_prices not file\n",
    "    start = 27/02/18 #first_trade\n",
    "    end = 15/02/20  #last_update\n",
    "Append to list Symbol start end\n",
    "\n",
    "\n"
   ]
  },
  {
   "cell_type": "code",
   "execution_count": null,
   "metadata": {},
   "outputs": [],
   "source": [
    "\n",
    "\n",
    "\n",
    "\n",
    "\n"
   ]
  },
  {
   "cell_type": "code",
   "execution_count": null,
   "metadata": {},
   "outputs": [],
   "source": [
    "#end_sp\n",
    "#if tables_prices is file\n"
   ]
  },
  {
   "cell_type": "code",
   "execution_count": null,
   "metadata": {},
   "outputs": [],
   "source": [
    "#function"
   ]
  }
 ]
}
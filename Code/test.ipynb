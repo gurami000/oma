{
 "nbformat": 4,
 "nbformat_minor": 2,
 "metadata": {
  "language_info": {
   "name": "python",
   "codemirror_mode": {
    "name": "ipython",
    "version": 3
   },
   "version": "3.7.4-final"
  },
  "orig_nbformat": 2,
  "file_extension": ".py",
  "mimetype": "text/x-python",
  "name": "python",
  "npconvert_exporter": "python",
  "pygments_lexer": "ipython3",
  "version": 3,
  "kernelspec": {
   "name": "python37464bitbasecondafc973df1ce424b17b41caafa44b5e9ca",
   "display_name": "Python 3.7.4 64-bit ('base': conda)"
  }
 },
 "cells": [
  {
   "source": [
    "import os\n",
    "import pandas as pd\n",
    "from pathlib import Path\n",
    "# from get_all_trades import process_ca, process_data, updatePL\n",
    "# from get_all_trades import calculate_PL\n",
    "#from get_all_trades import convert_to_df\n",
    "\n",
    "\n",
    "from functions import convert_to_df, process_ca,  process_data, process_depAndWith, process_div, process_tax, process_fees, get_all_trades, get_all_depAndWith, get_all_dividends, get_all_fees, calculate_PL, updatePL, process_pv, get_all_portfolio_value"
   ],
   "cell_type": "code",
   "outputs": [],
   "metadata": {},
   "execution_count": 1
  },
  {
   "source": [
    "cwd =  Path.cwd()\n",
    "\n",
    "folder = cwd.parent /'Data'/'IBActivity'\n",
    "\n",
    "tables = cwd.parent /'Data'/ 'Tables'\n",
    "#cwd.parent / 'Data'\n",
    "folder"
   ],
   "cell_type": "code",
   "outputs": [
    {
     "output_type": "execute_result",
     "data": {
      "text/plain": "WindowsPath('d:/Javier/SynologyDrive/Portfolio Python 2/Data/IBActivity')"
     },
     "metadata": {},
     "execution_count": 2
    }
   ],
   "metadata": {},
   "execution_count": 2
  },
  {
   "source": [
    "files = list(folder.glob('*.csv'))\n",
    ""
   ],
   "cell_type": "code",
   "outputs": [],
   "metadata": {},
   "execution_count": 3
  },
  {
   "source": [
    "asset_categories_lst = ['Stocks','Equity and Index Options','Futures','Options On Futures', 'Forex']"
   ],
   "cell_type": "code",
   "outputs": [],
   "metadata": {},
   "execution_count": 4
  },
  {
   "source": [
    "a = 0\n",
    "df = convert_to_df(folder,files[a])\n",
    "b = process_ca(df)\n",
    "\n",
    "while  len(b) == 0:\n",
    "    a = a+1\n",
    "    df = convert_to_df(folder,files[a])\n",
    "    b = process_ca(df)\n",
    "        \n",
    "print(\"File Found\")\n",
    "print (files[a])\n",
    "print(b)"
   ],
   "cell_type": "code",
   "outputs": [
    {
     "output_type": "stream",
     "name": "stdout",
     "text": "File Found\nd:\\Javier\\SynologyDrive\\Portfolio Python 2\\Data\\IBActivity\\U9233567_20170612_20170612.csv\n    Asset Category Currency             Date/Time Quantity Proceeds Symbol  \\\n133         Stocks      EUR  2017-06-09, 20:25:00     -600        0   POPD   \n\n     Comm/Fee  T. Price  \n133         0         0  \n"
    }
   ],
   "metadata": {},
   "execution_count": 5
  },
  {
   "source": [
    "a = 0\n",
    "df = convert_to_df(folder,files[a])\n",
    "b = process_depAndWith(df)\n",
    "\n",
    "while  len(b) == 0:\n",
    "    a = a+1\n",
    "    df = convert_to_df(folder,files[a])\n",
    "    b = process_depAndWith(df)\n",
    "print(\"File Found\")\n",
    "print (files[a])\n",
    "print(b)"
   ],
   "cell_type": "code",
   "outputs": [
    {
     "output_type": "stream",
     "name": "stdout",
     "text": "File Found\nd:\\Javier\\SynologyDrive\\Portfolio Python 2\\Data\\IBActivity\\U9233567_20161213_20161213.csv\n        Date Currency Settle Date               Description Amount\n0 2016-12-13      USD  2016-12-13  Electronic Fund Transfer  12000\n"
    }
   ],
   "metadata": {},
   "execution_count": 6
  },
  {
   "source": [
    "a = 0\n",
    "df = convert_to_df(folder,files[a])\n",
    "b = process_div(df)\n",
    "while  len(b) == 0:\n",
    "    a = a+1\n",
    "    df = convert_to_df(folder,files[a])\n",
    "    b = process_div(df)\n",
    "print(\"File Found\")\n",
    "print (files[a])\n",
    "print(b)"
   ],
   "cell_type": "code",
   "outputs": [
    {
     "output_type": "stream",
     "name": "stdout",
     "text": "File Found\nd:\\Javier\\SynologyDrive\\Portfolio Python 2\\Data\\IBActivity\\U9233567_20170501_20170501.csv\n        Date Currency Symbol  Gross Amount\n0 2017-05-01      USD     VZ         57.76\n"
    }
   ],
   "metadata": {},
   "execution_count": 7
  },
  {
   "source": [
    "a = 0\n",
    "df = convert_to_df(folder,files[a])\n",
    "b = process_tax(df)\n",
    "\n",
    "while  len(b) == 0:\n",
    "    a = a+1\n",
    "    df = convert_to_df(folder,files[a])\n",
    "    b = process_tax(df)\n",
    "\n",
    "print(\"File Found\")\n",
    "print (files[a])\n",
    "print(b)"
   ],
   "cell_type": "code",
   "outputs": [
    {
     "output_type": "stream",
     "name": "stdout",
     "text": "File Found\nd:\\Javier\\SynologyDrive\\Portfolio Python 2\\Data\\IBActivity\\U9233567_20170501_20170501.csv\n        Date Currency Symbol  Tax Amount\n0 2017-05-01      USD     VZ      -17.33\n"
    }
   ],
   "metadata": {},
   "execution_count": 8
  },
  {
   "source": [
    "a = 0\n",
    "df = convert_to_df(folder,files[a])\n",
    "b = process_fees(df)\n",
    "while  len(b) == 0:\n",
    "    a = a+1\n",
    "    df = convert_to_df(folder,files[a])\n",
    "    b = process_fees(df)\n",
    "    \n",
    "print(\"File Found\")\n",
    "print (files[a])\n",
    "print(b)"
   ],
   "cell_type": "code",
   "outputs": [
    {
     "output_type": "stream",
     "name": "stdout",
     "text": "File Found\nd:\\Javier\\SynologyDrive\\Portfolio Python 2\\Data\\IBActivity\\U9233567_20170405_20170405.csv\n       Subtitle Currency        Date  \\\n114  Other Fees      USD  2017-04-04   \n115  Other Fees      USD  2017-04-04   \n\n                                           Description Amount  \n114                          AMEX Level I for Mar 2017   -1.5  \n115  OPRA (US Options Exchanges) Non-Professional L...   -1.5  \n"
    }
   ],
   "metadata": {},
   "execution_count": 9
  },
  {
   "source": [
    "for asset_category in asset_categories_lst:\n",
    "    a = 0\n",
    "    df = convert_to_df(folder,files[a])\n",
    "    b = process_data(df,asset_category)\n",
    "    while  len(b) == 0:\n",
    "        a = a+1\n",
    "        df = convert_to_df(folder,files[a])\n",
    "        b = process_data(df,asset_category)\n",
    "    \n",
    "    print(\"File Found\")\n",
    "    print (files[a])\n",
    "    print(b)"
   ],
   "cell_type": "code",
   "outputs": [
    {
     "output_type": "stream",
     "name": "stdout",
     "text": "File Found\nd:\\Javier\\SynologyDrive\\Portfolio Python 2\\Data\\IBActivity\\U9233567_20170119_20170119.csv\n   Asset Category Currency Symbol             Date/Time Quantity T. Price  \\\n45         Stocks      USD    GLD  2017-01-19, 10:56:05       20   114.14   \n\n   Proceeds Comm/Fee  \n45  -2282.8       -1  \nFile Found\nd:\\Javier\\SynologyDrive\\Portfolio Python 2\\Data\\IBActivity\\U9233567_20170310_20170310.csv\n              Asset Category Currency              Symbol  \\\n56  Equity and Index Options      USD  WFM 19MAY17 28.0 P   \n\n               Date/Time Quantity T. Price Proceeds    Comm/Fee  \n56  2017-03-10, 09:45:39       -1     0.86       86  -0.7569748  \nFile Found\nd:\\Javier\\SynologyDrive\\Portfolio Python 2\\Data\\IBActivity\\U9233567_20171016_20171016.csv\n    Asset Category Currency Symbol             Date/Time Quantity T. Price  \\\n171        Futures      USD   GEZ9  2017-10-13, 16:20:00        1   98.125   \n172        Futures      USD   GEZ9  2017-10-13, 16:20:00        1    98.25   \n173        Futures      USD   GEZ9  2017-10-16, 00:03:20        1    97.95   \n\n    Comm/Fee  Proceeds  \n171        0         0  \n172        0         0  \n173    -2.11         0  \nFile Found\nd:\\Javier\\SynologyDrive\\Portfolio Python 2\\Data\\IBActivity\\U9233567_20170707_20170707.csv\n         Asset Category Currency             Symbol             Date/Time  \\\n147  Options On Futures      USD  GE 11AUG17 98.0 P  2017-07-06, 21:08:34   \n\n    Quantity T. Price Proceeds Comm/Fee  \n147       -1    0.105    262.5    -1.75  \nFile Found\nd:\\Javier\\SynologyDrive\\Portfolio Python 2\\Data\\IBActivity\\U9233567_20170320_20170320.csv\n   Asset Category Currency   Symbol             Date/Time Quantity T. Price  \\\n79          Forex      HKD  USD.HKD  2017-03-20, 10:51:15     9000  7.76574   \n\n     Proceeds Comm/Fee  \n79  -69891.66       -2  \n"
    }
   ],
   "metadata": {},
   "execution_count": 8
  },
  {
   "source": [
    "a = 0\n",
    "df = convert_to_df(folder,files[a])\n",
    "b = process_pv(df)\n",
    "\n",
    "while  len(b) == 0:\n",
    "    a = a+1\n",
    "    df = convert_to_df(folder,files[a])\n",
    "    b = process_pv(df)\n",
    "\n",
    "print(\"File Found\")\n",
    "print (files[a])\n",
    "print(b)"
   ],
   "cell_type": "code",
   "outputs": [
    {
     "output_type": "stream",
     "name": "stdout",
     "text": "File Found\nd:\\Javier\\SynologyDrive\\Portfolio Python 2\\Data\\IBActivity\\U9233567_20161125_20161125.csv\n        Date  Current Total\n0 2016-11-25            0.0\n"
    }
   ],
   "metadata": {},
   "execution_count": 10
  },
  {
   "source": [
    "trades = get_all_trades(folder)\n",
    "trades.head()"
   ],
   "cell_type": "code",
   "outputs": [
    {
     "output_type": "execute_result",
     "data": {
      "text/plain": "              Asset Category Currency               Symbol  \\\n45                    Stocks      USD                  GLD   \n45                    Stocks      USD                  GLD   \n48                    Stocks      USD                 SBUX   \n56  Equity and Index Options      USD   WFM 19MAY17 28.0 P   \n59  Equity and Index Options      USD  MTCH 21APR17 17.5 P   \n\n             Date/Time  Quantity  T. Price   Proceeds  Comm/Fee  Quantity_Rsum  \n45 2017-01-19 10:56:05      20.0  114.1400 -2282.8000 -1.000000           20.0  \n45 2017-01-20 09:47:28       6.0  114.4699  -686.8194 -1.000000           26.0  \n48 2017-02-21 09:44:20      10.0   57.7993  -577.9930 -1.000000           10.0  \n56 2017-03-10 09:45:39      -1.0    0.8600    86.0000 -0.756975           -1.0  \n59 2017-03-14 09:34:00      -1.0    1.1500   115.0000 -1.097607           -1.0  ",
      "text/html": "<div>\n<style scoped>\n    .dataframe tbody tr th:only-of-type {\n        vertical-align: middle;\n    }\n\n    .dataframe tbody tr th {\n        vertical-align: top;\n    }\n\n    .dataframe thead th {\n        text-align: right;\n    }\n</style>\n<table border=\"1\" class=\"dataframe\">\n  <thead>\n    <tr style=\"text-align: right;\">\n      <th></th>\n      <th>Asset Category</th>\n      <th>Currency</th>\n      <th>Symbol</th>\n      <th>Date/Time</th>\n      <th>Quantity</th>\n      <th>T. Price</th>\n      <th>Proceeds</th>\n      <th>Comm/Fee</th>\n      <th>Quantity_Rsum</th>\n    </tr>\n  </thead>\n  <tbody>\n    <tr>\n      <td>45</td>\n      <td>Stocks</td>\n      <td>USD</td>\n      <td>GLD</td>\n      <td>2017-01-19 10:56:05</td>\n      <td>20.0</td>\n      <td>114.1400</td>\n      <td>-2282.8000</td>\n      <td>-1.000000</td>\n      <td>20.0</td>\n    </tr>\n    <tr>\n      <td>45</td>\n      <td>Stocks</td>\n      <td>USD</td>\n      <td>GLD</td>\n      <td>2017-01-20 09:47:28</td>\n      <td>6.0</td>\n      <td>114.4699</td>\n      <td>-686.8194</td>\n      <td>-1.000000</td>\n      <td>26.0</td>\n    </tr>\n    <tr>\n      <td>48</td>\n      <td>Stocks</td>\n      <td>USD</td>\n      <td>SBUX</td>\n      <td>2017-02-21 09:44:20</td>\n      <td>10.0</td>\n      <td>57.7993</td>\n      <td>-577.9930</td>\n      <td>-1.000000</td>\n      <td>10.0</td>\n    </tr>\n    <tr>\n      <td>56</td>\n      <td>Equity and Index Options</td>\n      <td>USD</td>\n      <td>WFM 19MAY17 28.0 P</td>\n      <td>2017-03-10 09:45:39</td>\n      <td>-1.0</td>\n      <td>0.8600</td>\n      <td>86.0000</td>\n      <td>-0.756975</td>\n      <td>-1.0</td>\n    </tr>\n    <tr>\n      <td>59</td>\n      <td>Equity and Index Options</td>\n      <td>USD</td>\n      <td>MTCH 21APR17 17.5 P</td>\n      <td>2017-03-14 09:34:00</td>\n      <td>-1.0</td>\n      <td>1.1500</td>\n      <td>115.0000</td>\n      <td>-1.097607</td>\n      <td>-1.0</td>\n    </tr>\n  </tbody>\n</table>\n</div>"
     },
     "metadata": {},
     "execution_count": 20
    }
   ],
   "metadata": {},
   "execution_count": 20
  },
  {
   "source": [
    "divs = get_all_dividends(folder)\n",
    "divs.head()"
   ],
   "cell_type": "code",
   "outputs": [
    {
     "output_type": "execute_result",
     "data": {
      "text/plain": "        Date Symbol Currency  Gross Amount  Tax Amount  Proceeds\n0 2017-05-01     VZ      USD         57.76      -17.33     40.43\n1 2017-05-26   SBUX      USD          2.50       -0.75      1.75\n2 2017-06-14   IBKR      USD         10.00       -3.00      7.00\n3 2017-08-01     VZ      USD         57.76      -17.33     40.43\n4 2017-08-25   SBUX      USD          2.50       -0.75      1.75",
      "text/html": "<div>\n<style scoped>\n    .dataframe tbody tr th:only-of-type {\n        vertical-align: middle;\n    }\n\n    .dataframe tbody tr th {\n        vertical-align: top;\n    }\n\n    .dataframe thead th {\n        text-align: right;\n    }\n</style>\n<table border=\"1\" class=\"dataframe\">\n  <thead>\n    <tr style=\"text-align: right;\">\n      <th></th>\n      <th>Date</th>\n      <th>Symbol</th>\n      <th>Currency</th>\n      <th>Gross Amount</th>\n      <th>Tax Amount</th>\n      <th>Proceeds</th>\n    </tr>\n  </thead>\n  <tbody>\n    <tr>\n      <td>0</td>\n      <td>2017-05-01</td>\n      <td>VZ</td>\n      <td>USD</td>\n      <td>57.76</td>\n      <td>-17.33</td>\n      <td>40.43</td>\n    </tr>\n    <tr>\n      <td>1</td>\n      <td>2017-05-26</td>\n      <td>SBUX</td>\n      <td>USD</td>\n      <td>2.50</td>\n      <td>-0.75</td>\n      <td>1.75</td>\n    </tr>\n    <tr>\n      <td>2</td>\n      <td>2017-06-14</td>\n      <td>IBKR</td>\n      <td>USD</td>\n      <td>10.00</td>\n      <td>-3.00</td>\n      <td>7.00</td>\n    </tr>\n    <tr>\n      <td>3</td>\n      <td>2017-08-01</td>\n      <td>VZ</td>\n      <td>USD</td>\n      <td>57.76</td>\n      <td>-17.33</td>\n      <td>40.43</td>\n    </tr>\n    <tr>\n      <td>4</td>\n      <td>2017-08-25</td>\n      <td>SBUX</td>\n      <td>USD</td>\n      <td>2.50</td>\n      <td>-0.75</td>\n      <td>1.75</td>\n    </tr>\n  </tbody>\n</table>\n</div>"
     },
     "metadata": {},
     "execution_count": 21
    }
   ],
   "metadata": {},
   "execution_count": 21
  },
  {
   "source": [
    "dw = get_all_depAndWith(folder)\n",
    "dw.head()"
   ],
   "cell_type": "code",
   "outputs": [
    {
     "output_type": "execute_result",
     "data": {
      "text/plain": "        Date Currency Settle Date               Description Amount\n0 2016-12-13      USD  2016-12-13  Electronic Fund Transfer  12000\n0 2017-03-20      HKD  2017-03-20  Electronic Fund Transfer  77500\n0 2017-04-21      EUR  2017-04-21  Electronic Fund Transfer   2000\n0 2017-05-04      HKD  2017-05-04  Electronic Fund Transfer  38000\n0 2017-09-29      HKD  2017-09-29  Electronic Fund Transfer  30000",
      "text/html": "<div>\n<style scoped>\n    .dataframe tbody tr th:only-of-type {\n        vertical-align: middle;\n    }\n\n    .dataframe tbody tr th {\n        vertical-align: top;\n    }\n\n    .dataframe thead th {\n        text-align: right;\n    }\n</style>\n<table border=\"1\" class=\"dataframe\">\n  <thead>\n    <tr style=\"text-align: right;\">\n      <th></th>\n      <th>Date</th>\n      <th>Currency</th>\n      <th>Settle Date</th>\n      <th>Description</th>\n      <th>Amount</th>\n    </tr>\n  </thead>\n  <tbody>\n    <tr>\n      <td>0</td>\n      <td>2016-12-13</td>\n      <td>USD</td>\n      <td>2016-12-13</td>\n      <td>Electronic Fund Transfer</td>\n      <td>12000</td>\n    </tr>\n    <tr>\n      <td>0</td>\n      <td>2017-03-20</td>\n      <td>HKD</td>\n      <td>2017-03-20</td>\n      <td>Electronic Fund Transfer</td>\n      <td>77500</td>\n    </tr>\n    <tr>\n      <td>0</td>\n      <td>2017-04-21</td>\n      <td>EUR</td>\n      <td>2017-04-21</td>\n      <td>Electronic Fund Transfer</td>\n      <td>2000</td>\n    </tr>\n    <tr>\n      <td>0</td>\n      <td>2017-05-04</td>\n      <td>HKD</td>\n      <td>2017-05-04</td>\n      <td>Electronic Fund Transfer</td>\n      <td>38000</td>\n    </tr>\n    <tr>\n      <td>0</td>\n      <td>2017-09-29</td>\n      <td>HKD</td>\n      <td>2017-09-29</td>\n      <td>Electronic Fund Transfer</td>\n      <td>30000</td>\n    </tr>\n  </tbody>\n</table>\n</div>"
     },
     "metadata": {},
     "execution_count": 4
    }
   ],
   "metadata": {},
   "execution_count": 4
  },
  {
   "source": [
    "fees = get_all_fees(folder)\n",
    "fees.head()"
   ],
   "cell_type": "code",
   "outputs": [
    {
     "output_type": "execute_result",
     "data": {
      "text/plain": "       Subtitle Currency        Date  \\\n114  Other Fees      USD  2017-04-04   \n115  Other Fees      USD  2017-04-04   \n129  Other Fees      USD  2017-05-03   \n130  Other Fees      USD  2017-05-03   \n131  Other Fees      USD  2017-05-03   \n\n                                           Description Amount  \n114                          AMEX Level I for Mar 2017   -1.5  \n115  OPRA (US Options Exchanges) Non-Professional L...   -1.5  \n129                          AMEX Level I for Apr 2017   -1.5  \n130   BME (MEFF) Non-Professional Level I for Apr 2017  -2.45  \n131                          NYSE Level I for Apr 2017   -1.5  ",
      "text/html": "<div>\n<style scoped>\n    .dataframe tbody tr th:only-of-type {\n        vertical-align: middle;\n    }\n\n    .dataframe tbody tr th {\n        vertical-align: top;\n    }\n\n    .dataframe thead th {\n        text-align: right;\n    }\n</style>\n<table border=\"1\" class=\"dataframe\">\n  <thead>\n    <tr style=\"text-align: right;\">\n      <th></th>\n      <th>Subtitle</th>\n      <th>Currency</th>\n      <th>Date</th>\n      <th>Description</th>\n      <th>Amount</th>\n    </tr>\n  </thead>\n  <tbody>\n    <tr>\n      <td>114</td>\n      <td>Other Fees</td>\n      <td>USD</td>\n      <td>2017-04-04</td>\n      <td>AMEX Level I for Mar 2017</td>\n      <td>-1.5</td>\n    </tr>\n    <tr>\n      <td>115</td>\n      <td>Other Fees</td>\n      <td>USD</td>\n      <td>2017-04-04</td>\n      <td>OPRA (US Options Exchanges) Non-Professional L...</td>\n      <td>-1.5</td>\n    </tr>\n    <tr>\n      <td>129</td>\n      <td>Other Fees</td>\n      <td>USD</td>\n      <td>2017-05-03</td>\n      <td>AMEX Level I for Apr 2017</td>\n      <td>-1.5</td>\n    </tr>\n    <tr>\n      <td>130</td>\n      <td>Other Fees</td>\n      <td>USD</td>\n      <td>2017-05-03</td>\n      <td>BME (MEFF) Non-Professional Level I for Apr 2017</td>\n      <td>-2.45</td>\n    </tr>\n    <tr>\n      <td>131</td>\n      <td>Other Fees</td>\n      <td>USD</td>\n      <td>2017-05-03</td>\n      <td>NYSE Level I for Apr 2017</td>\n      <td>-1.5</td>\n    </tr>\n  </tbody>\n</table>\n</div>"
     },
     "metadata": {},
     "execution_count": 23
    }
   ],
   "metadata": {},
   "execution_count": 23
  },
  {
   "source": [
    "pv = get_all_portfolio_value(folder)\n",
    "pv.head()"
   ],
   "cell_type": "code",
   "outputs": [
    {
     "output_type": "execute_result",
     "data": {
      "text/plain": "        Date  Current Total\n0 2016-11-25            0.0\n0 2016-11-28            0.0\n0 2016-11-29            0.0\n0 2016-11-30            0.0\n0 2016-12-01            0.0",
      "text/html": "<div>\n<style scoped>\n    .dataframe tbody tr th:only-of-type {\n        vertical-align: middle;\n    }\n\n    .dataframe tbody tr th {\n        vertical-align: top;\n    }\n\n    .dataframe thead th {\n        text-align: right;\n    }\n</style>\n<table border=\"1\" class=\"dataframe\">\n  <thead>\n    <tr style=\"text-align: right;\">\n      <th></th>\n      <th>Date</th>\n      <th>Current Total</th>\n    </tr>\n  </thead>\n  <tbody>\n    <tr>\n      <td>0</td>\n      <td>2016-11-25</td>\n      <td>0.0</td>\n    </tr>\n    <tr>\n      <td>0</td>\n      <td>2016-11-28</td>\n      <td>0.0</td>\n    </tr>\n    <tr>\n      <td>0</td>\n      <td>2016-11-29</td>\n      <td>0.0</td>\n    </tr>\n    <tr>\n      <td>0</td>\n      <td>2016-11-30</td>\n      <td>0.0</td>\n    </tr>\n    <tr>\n      <td>0</td>\n      <td>2016-12-01</td>\n      <td>0.0</td>\n    </tr>\n  </tbody>\n</table>\n</div>"
     },
     "metadata": {},
     "execution_count": 12
    }
   ],
   "metadata": {},
   "execution_count": 12
  },
  {
   "cell_type": "code",
   "execution_count": 33,
   "metadata": {},
   "outputs": [],
   "source": [
    "# def get_all_trades(folder):\n",
    "#     #Creates a list of all files in folder\n",
    "#     filelist = os.listdir(folder)\n",
    "#     #Creates a empty list to append all dataframes\n",
    "#     dataframe_list = []\n",
    "#     #Iterates through all files in filelist\n",
    "#     asset_categories_lst = ['Stocks','Equity and Index Options','Futures','Options On Futures', 'Forex']\n",
    "#     for a_file in filelist:\n",
    "#         #Checks if file is a .csv\n",
    "#         if a_file.lower().endswith('.csv'):\n",
    "#             data = convert_to_df(a_file)\n",
    "#             for i in asset_categories_lst:\n",
    "#                 df = process_data(data, i)\n",
    "#                 dataframe_list.append(df)\n",
    "#             dataframe_list.append(process_ca(data))\n",
    "#     new_trades = pd.concat(dataframe_list,sort=False )\n",
    "#     dataframe = pd.concat(dataframe_list,sort=False )\n",
    "#     dataframe['Proceeds'] = dataframe['Proceeds'].astype('float')\n",
    "#     dataframe['Quantity'] = dataframe['Quantity'].astype('float')\n",
    "#     dataframe['T. Price'] = dataframe['T. Price'].astype('float')\n",
    "#     dataframe['Comm/Fee'] = dataframe['Comm/Fee'].astype('float')\n",
    "#     dataframe['Date/Time'] = pd.to_datetime(dataframe['Date/Time'])\n",
    "#     dataframe['Quantity_Rsum'] =  dataframe.groupby(['Symbol'])['Quantity'].transform(lambda x : x.cumsum())\n",
    "#     return dataframe"
   ]
  },
  {
   "cell_type": "code",
   "execution_count": 34,
   "metadata": {},
   "outputs": [],
   "source": [
    "# def convert_to_df(a_file):\n",
    "#     data = pd.read_csv(folder/a_file, names=list('abcdefghijklmnopq'))\n",
    "#     #data.drop(data.loc[(data.a == 'Notes/Legal Notes') | (data.a == 'Codes') ].index, inplace= True)\n",
    "#     #data = (data.a != 'Codes') & (data.a != 'Notes/Legal Notes')\n",
    "#     data = data.loc[~data.a.isin(['Statement','Codes', 'Notes/Legal Notes','Account Information','Change in NAV','Mark-to-Market Performance Summary','Realized & Unrealized Performance Summary','Open Positions'])]\n",
    "#     return data"
   ]
  },
  {
   "cell_type": "code",
   "execution_count": 35,
   "metadata": {},
   "outputs": [],
   "source": [
    "# def calculatePL (df):\n",
    "#     newdf = df.loc[:,['Quantity','Quantity_Rsum','T. Price','Proceeds']]\n",
    "#     newdf['prev'] = newdf['Quantity_Rsum'].shift(1 , fill_value=0)\n",
    "#     #Make a new column OIDC\n",
    "#     oidc_options = [\n",
    "#         newdf['prev'] == 0,\n",
    "#         newdf['Quantity_Rsum'] == 0,\n",
    "#         newdf['prev']/newdf['Quantity_Rsum'] < 0,\n",
    "#         abs(newdf['Quantity_Rsum']) > abs(newdf['prev'])\n",
    "#     ]\n",
    "#     oidc_choices = [\n",
    "#         'Open','Close','Reversal', 'Increase'\n",
    "#     ]\n",
    "#     newdf['oidc'] = np.select(oidc_options, oidc_choices, default = 'Decrease')\n",
    "\n",
    "#     newdf['index'] = np.where((newdf['oidc']== 'Open')|(newdf['oidc']=='Reversal'),1,0)\n",
    "\n",
    "#     newdf['Increase'] = np.where((newdf['oidc'] == 'Open') | (newdf['oidc'] == 'Increase') | (newdf['oidc'] =='Reversal'),1,0)\n",
    "#     newdf['ProceedsIncrease'] = newdf['Proceeds']*newdf['Increase']\n",
    "#     newdf['QuantityIncrease'] = newdf['Quantity']*newdf['Increase']\n",
    "#     newdf['cumsum'] = newdf['index'].cumsum()\n",
    "#     newdf['TotProceedsIncrease']= newdf.groupby(['cumsum'])['ProceedsIncrease'].cumsum()\n",
    "#     newdf['TotQuantityIncrease']= newdf.groupby(['cumsum'])['QuantityIncrease'].cumsum()\n",
    "#     newdf['AvgOpenPrice'] = newdf['TotProceedsIncrease'] / newdf['TotQuantityIncrease'] * -1\n",
    "#     newdf['AvgOpenPriceBefore'] = newdf['AvgOpenPrice'].shift(1 , fill_value=0)\n",
    "\n",
    "#     plOptions = [\n",
    "#         newdf['oidc'] == 'Open',\n",
    "#         newdf['oidc'] == 'Increase',\n",
    "#         newdf['oidc'] == 'Decrease',\n",
    "#         newdf['oidc'] == 'Close',\n",
    "#         newdf['oidc'] == 'Reversal'\n",
    "#     ]\n",
    "#     plChoices = [\n",
    "#         # Open case P/L = 0\n",
    "#         0,\n",
    "#         #Increase case \n",
    "#         0,\n",
    "#         #Decrease case: Average Open Price - T. Price * Quantity (* Multiplier +coommfee)\n",
    "#         (newdf['AvgOpenPriceBefore'] - newdf['T. Price']) * newdf['Quantity'],\n",
    "#         #Close case \n",
    "#         (newdf['AvgOpenPriceBefore'] - newdf['T. Price']) * newdf['Quantity'],\n",
    "#         #Reverse case\n",
    "#         (newdf['AvgOpenPriceBefore'] - newdf['T. Price']) * newdf['Quantity']\n",
    "#     ]\n",
    "#     newdf['PL'] = np.select(plOptions, plChoices, default = 0)\n",
    "#     newdf['CumPL'] = newdf['PL'].cumsum()\n",
    "#     newdf.drop(['Quantity',\t'Quantity_Rsum', 'T. Price', 'Proceeds', 'prev', 'oidc', 'index','Increase','ProceedsIncrease', 'QuantityIncrease', 'cumsum', 'TotProceedsIncrease','TotQuantityIncrease','AvgOpenPriceBefore'], axis=1, inplace=True)\n",
    "#     #return newdf['PL'], newdf['AvgOpenPrice'], newdf['CumPL']\n",
    "#     return newdf\n",
    "\n",
    "# def updatePL (df):\n",
    "#     df.drop(['AvgOpenPrice','PL','CumPL'], axis=1, inplace = True, errors= 'ignore')\n",
    "#     dfgrouped = df.groupby('Symbol')\n",
    "#     dataframe_list = []\n",
    "#     for name, group in dfgrouped:\n",
    "#         symbol_group = dfgrouped.get_group(name)\n",
    "#         profLoss = calculatePL( symbol_group)\n",
    "#         symbol_group = symbol_group.join(profLoss)\n",
    "#         dataframe_list.append(symbol_group)\n",
    "#     new_trades = pd.concat(dataframe_list,sort=False ).sort_index()\n",
    "#     return new_trades\n",
    ""
   ]
  },
  {
   "cell_type": "code",
   "execution_count": null,
   "metadata": {},
   "outputs": [],
   "source": []
  }
 ]
}
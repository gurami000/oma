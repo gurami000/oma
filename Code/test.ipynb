{
 "nbformat": 4,
 "nbformat_minor": 2,
 "metadata": {
  "language_info": {
   "name": "python",
   "codemirror_mode": {
    "name": "ipython",
    "version": 3
   },
   "version": "3.7.4-final"
  },
  "orig_nbformat": 2,
  "file_extension": ".py",
  "mimetype": "text/x-python",
  "name": "python",
  "npconvert_exporter": "python",
  "pygments_lexer": "ipython3",
  "version": 3,
  "kernelspec": {
   "name": "python37464bitbasecondafc973df1ce424b17b41caafa44b5e9ca",
   "display_name": "Python 3.7.4 64-bit ('base': conda)"
  }
 },
 "cells": [
  {
   "source": [
    "import os\n",
    "import pandas as pd\n",
    "from pathlib import Path\n",
    "# from get_all_trades import process_ca, process_data, updatePL\n",
    "# from get_all_trades import calculate_PL\n",
    "#from get_all_trades import convert_to_df\n",
    "\n",
    "\n",
    "from functions import convert_to_df, process_ca,  process_data, process_depAndWith, process_div, process_tax, process_fees, get_all_trades, get_all_depAndWith, get_all_dividends, get_all_fees, calculate_PL, updatePL"
   ],
   "cell_type": "code",
   "outputs": [],
   "metadata": {},
   "execution_count": 1
  },
  {
   "source": [
    "cwd =  Path.cwd()\n",
    "\n",
    "folder = cwd.parent /'Data'/'IBActivity'\n",
    "\n",
    "tables = cwd.parent /'Data'/ 'Tables'\n",
    "#cwd.parent / 'Data'\n",
    "folder"
   ],
   "cell_type": "code",
   "outputs": [
    {
     "output_type": "execute_result",
     "data": {
      "text/plain": "WindowsPath('d:/Javier/SynologyDrive/Portfolio Python 2/Data/IBActivity')"
     },
     "metadata": {},
     "execution_count": 2
    }
   ],
   "metadata": {},
   "execution_count": 2
  },
  {
   "source": [
    "files = list(folder.glob('*.csv'))\n",
    ""
   ],
   "cell_type": "code",
   "outputs": [],
   "metadata": {},
   "execution_count": 3
  },
  {
   "source": [
    "asset_categories_lst = ['Stocks','Equity and Index Options','Futures','Options On Futures', 'Forex']"
   ],
   "cell_type": "code",
   "outputs": [],
   "metadata": {},
   "execution_count": 4
  },
  {
   "source": [
    "a = 0\n",
    "df = convert_to_df(files[a])\n",
    "b = process_ca(df)\n",
    "\n",
    "while  len(b) == 0:\n",
    "    a = a+1\n",
    "    df = convert_to_df(folder/files[a])\n",
    "    b = process_ca(df)\n",
    "        \n",
    "print(\"File Found\")\n",
    "print (files[a])\n",
    "print(b)"
   ],
   "cell_type": "code",
   "outputs": [
    {
     "output_type": "stream",
     "name": "stdout",
     "text": "File Found\nd:\\Javier\\SynologyDrive\\Portfolio Python 2\\Data\\IBActivity\\U9233567_20170612_20170612.csv\n    Asset Category Currency             Date/Time Quantity Proceeds Symbol  \\\n133         Stocks      EUR  2017-06-09, 20:25:00     -600        0   POPD   \n\n     Comm/Fee  T. Price  \n133         0         0  \n"
    }
   ],
   "metadata": {},
   "execution_count": 5
  },
  {
   "source": [
    "a = 0\n",
    "df = convert_to_df(files[a])\n",
    "b = process_depAndWith(df)\n",
    "\n",
    "while  len(b) == 0:\n",
    "    a = a+1\n",
    "    df = convert_to_df(folder/files[a])\n",
    "    b = process_depAndWith(df)\n",
    "print(\"File Found\")\n",
    "print (files[a])\n",
    "print(b)"
   ],
   "cell_type": "code",
   "outputs": [
    {
     "output_type": "stream",
     "name": "stdout",
     "text": "File Found\nd:\\Javier\\SynologyDrive\\Portfolio Python 2\\Data\\IBActivity\\U9233567_20161213_20161213.csv\n        Date Currency Settle Date               Description Amount\n0 2016-12-13      USD  2016-12-13  Electronic Fund Transfer  12000\n"
    }
   ],
   "metadata": {},
   "execution_count": 6
  },
  {
   "source": [
    "a = 0\n",
    "df = convert_to_df(files[a])\n",
    "b = process_div(df)\n",
    "while  len(b) == 0:\n",
    "    a = a+1\n",
    "    df = convert_to_df(folder/files[a])\n",
    "    b = process_div(df)\n",
    "print(\"File Found\")\n",
    "print (files[a])\n",
    "print(b)"
   ],
   "cell_type": "code",
   "outputs": [
    {
     "output_type": "stream",
     "name": "stdout",
     "text": "File Found\nd:\\Javier\\SynologyDrive\\Portfolio Python 2\\Data\\IBActivity\\U9233567_20170501_20170501.csv\n        Date Currency Symbol  Gross Amount\n0 2017-05-01      USD     VZ         57.76\n"
    }
   ],
   "metadata": {},
   "execution_count": 7
  },
  {
   "cell_type": "code",
   "execution_count": 9,
   "metadata": {},
   "outputs": [
    {
     "name": "stdout",
     "output_type": "stream",
     "text": "File Found\nd:\\Javier\\SynologyDrive\\Portfolio Python 2\\Data\\IBActivity\\U9233567_20170501_20170501.csv\n        Date Currency Symbol  Tax Amount\n0 2017-05-01      USD     VZ      -17.33\n"
    }
   ],
   "source": [
    "a = 0\n",
    "df = convert_to_df(files[a])\n",
    "b = process_tax(df)\n",
    "\n",
    "while  len(b) == 0:\n",
    "    a = a+1\n",
    "    df = convert_to_df(folder/files[a])\n",
    "    b = process_tax(df)\n",
    "\n",
    "print(\"File Found\")\n",
    "print (files[a])\n",
    "print(b)"
   ]
  },
  {
   "source": [
    "a = 0\n",
    "df = convert_to_df(files[a])\n",
    "b = process_fees(df)\n",
    "while  len(b) == 0:\n",
    "    a = a+1\n",
    "    df = convert_to_df(folder/files[a])\n",
    "    b = process_fees(df)\n",
    "    \n",
    "print(\"File Found\")\n",
    "print (files[a])\n",
    "print(b)"
   ],
   "cell_type": "code",
   "outputs": [
    {
     "output_type": "stream",
     "name": "stdout",
     "text": "File Found\nd:\\Javier\\SynologyDrive\\Portfolio Python 2\\Data\\IBActivity\\U9233567_20170405_20170405.csv\n       Subtitle Currency        Date  \\\n114  Other Fees      USD  2017-04-04   \n115  Other Fees      USD  2017-04-04   \n\n                                           Description Amount  \n114                          AMEX Level I for Mar 2017   -1.5  \n115  OPRA (US Options Exchanges) Non-Professional L...   -1.5  \n"
    }
   ],
   "metadata": {},
   "execution_count": 8
  },
  {
   "source": [
    "for asset_category in asset_categories_lst:\n",
    "    a = 0\n",
    "    df = convert_to_df(files[a])\n",
    "    b = process_data(df,asset_category)\n",
    "    while  len(b) == 0:\n",
    "        a = a+1\n",
    "        df = convert_to_df(folder/files[a])\n",
    "        b = process_data(df,asset_category)\n",
    "    \n",
    "    print(\"File Found\")\n",
    "    print (files[a])\n",
    "    print(b)"
   ],
   "cell_type": "code",
   "outputs": [
    {
     "output_type": "stream",
     "name": "stdout",
     "text": "File Found\nd:\\Javier\\SynologyDrive\\Portfolio Python 2\\Data\\IBActivity\\U9233567_20170119_20170119.csv\n   Asset Category Currency Symbol             Date/Time Quantity T. Price  \\\n45         Stocks      USD    GLD  2017-01-19, 10:56:05       20   114.14   \n\n   Proceeds Comm/Fee  \n45  -2282.8       -1  \nFile Found\nd:\\Javier\\SynologyDrive\\Portfolio Python 2\\Data\\IBActivity\\U9233567_20170310_20170310.csv\n              Asset Category Currency              Symbol  \\\n56  Equity and Index Options      USD  WFM 19MAY17 28.0 P   \n\n               Date/Time Quantity T. Price Proceeds    Comm/Fee  \n56  2017-03-10, 09:45:39       -1     0.86       86  -0.7569748  \nFile Found\nd:\\Javier\\SynologyDrive\\Portfolio Python 2\\Data\\IBActivity\\U9233567_20171016_20171016.csv\n    Asset Category Currency Symbol             Date/Time Quantity T. Price  \\\n171        Futures      USD   GEZ9  2017-10-13, 16:20:00        1   98.125   \n172        Futures      USD   GEZ9  2017-10-13, 16:20:00        1    98.25   \n173        Futures      USD   GEZ9  2017-10-16, 00:03:20        1    97.95   \n\n    Comm/Fee  Proceeds  \n171        0         0  \n172        0         0  \n173    -2.11         0  \nFile Found\nd:\\Javier\\SynologyDrive\\Portfolio Python 2\\Data\\IBActivity\\U9233567_20170707_20170707.csv\n         Asset Category Currency             Symbol             Date/Time  \\\n147  Options On Futures      USD  GE 11AUG17 98.0 P  2017-07-06, 21:08:34   \n\n    Quantity T. Price Proceeds Comm/Fee  \n147       -1    0.105    262.5    -1.75  \nFile Found\nd:\\Javier\\SynologyDrive\\Portfolio Python 2\\Data\\IBActivity\\U9233567_20170320_20170320.csv\n   Asset Category Currency   Symbol             Date/Time Quantity T. Price  \\\n79          Forex      HKD  USD.HKD  2017-03-20, 10:51:15     9000  7.76574   \n\n     Proceeds Comm/Fee  \n79  -69891.66       -2  \n"
    }
   ],
   "metadata": {},
   "execution_count": 9
  },
  {
   "source": [
    "trades = get_all_dividends(folder)\n",
    "trades.head()"
   ],
   "cell_type": "code",
   "outputs": [
    {
     "output_type": "error",
     "ename": "FileNotFoundError",
     "evalue": "[Errno 2] File b'U9233567_20161125_20161125.csv' does not exist: b'U9233567_20161125_20161125.csv'",
     "traceback": [
      "\u001b[1;31m---------------------------------------------------------------------------\u001b[0m",
      "\u001b[1;31mFileNotFoundError\u001b[0m                         Traceback (most recent call last)",
      "\u001b[1;32m<ipython-input-10-62cf0bdce6a5>\u001b[0m in \u001b[0;36m<module>\u001b[1;34m\u001b[0m\n\u001b[1;32m----> 1\u001b[1;33m \u001b[0mtrades\u001b[0m \u001b[1;33m=\u001b[0m \u001b[0mget_all_dividends\u001b[0m\u001b[1;33m(\u001b[0m\u001b[0mfolder\u001b[0m\u001b[1;33m)\u001b[0m\u001b[1;33m\u001b[0m\u001b[1;33m\u001b[0m\u001b[0m\n\u001b[0m\u001b[0;32m      2\u001b[0m \u001b[0mtrades\u001b[0m\u001b[1;33m.\u001b[0m\u001b[0mhead\u001b[0m\u001b[1;33m(\u001b[0m\u001b[1;33m)\u001b[0m\u001b[1;33m\u001b[0m\u001b[1;33m\u001b[0m\u001b[0m\n",
      "\u001b[1;32md:\\Javier\\SynologyDrive\\Portfolio Python 2\\Code\\functions.py\u001b[0m in \u001b[0;36mget_all_dividends\u001b[1;34m(folder)\u001b[0m\n\u001b[0;32m    175\u001b[0m         \u001b[1;31m#Checks if file is a .csv\u001b[0m\u001b[1;33m\u001b[0m\u001b[1;33m\u001b[0m\u001b[1;33m\u001b[0m\u001b[0m\n\u001b[0;32m    176\u001b[0m         \u001b[1;32mif\u001b[0m \u001b[0mfile_\u001b[0m\u001b[1;33m.\u001b[0m\u001b[0mlower\u001b[0m\u001b[1;33m(\u001b[0m\u001b[1;33m)\u001b[0m\u001b[1;33m.\u001b[0m\u001b[0mendswith\u001b[0m\u001b[1;33m(\u001b[0m\u001b[1;34m'.csv'\u001b[0m\u001b[1;33m)\u001b[0m\u001b[1;33m:\u001b[0m\u001b[1;33m\u001b[0m\u001b[1;33m\u001b[0m\u001b[0m\n\u001b[1;32m--> 177\u001b[1;33m             \u001b[0mdata\u001b[0m \u001b[1;33m=\u001b[0m \u001b[0mconvert_to_df\u001b[0m\u001b[1;33m(\u001b[0m\u001b[0mfile_\u001b[0m\u001b[1;33m)\u001b[0m\u001b[1;33m\u001b[0m\u001b[1;33m\u001b[0m\u001b[0m\n\u001b[0m\u001b[0;32m    178\u001b[0m             \u001b[0mdiv\u001b[0m \u001b[1;33m=\u001b[0m \u001b[0mprocess_div\u001b[0m\u001b[1;33m(\u001b[0m\u001b[0mdata\u001b[0m\u001b[1;33m)\u001b[0m\u001b[1;33m\u001b[0m\u001b[1;33m\u001b[0m\u001b[0m\n\u001b[0;32m    179\u001b[0m             \u001b[0mtax\u001b[0m \u001b[1;33m=\u001b[0m \u001b[0mprocess_tax\u001b[0m\u001b[1;33m(\u001b[0m\u001b[0mdata\u001b[0m\u001b[1;33m)\u001b[0m\u001b[1;33m\u001b[0m\u001b[1;33m\u001b[0m\u001b[0m\n",
      "\u001b[1;32md:\\Javier\\SynologyDrive\\Portfolio Python 2\\Code\\functions.py\u001b[0m in \u001b[0;36mconvert_to_df\u001b[1;34m(a_file)\u001b[0m\n\u001b[0;32m      5\u001b[0m     \u001b[1;31m#file_path = os.path.join('Ib Activity', a_file)\u001b[0m\u001b[1;33m\u001b[0m\u001b[1;33m\u001b[0m\u001b[1;33m\u001b[0m\u001b[0m\n\u001b[0;32m      6\u001b[0m     \u001b[1;31m#data = pd.read_csv(file_path, names=list('abcdefghijklmnopq'))\u001b[0m\u001b[1;33m\u001b[0m\u001b[1;33m\u001b[0m\u001b[1;33m\u001b[0m\u001b[0m\n\u001b[1;32m----> 7\u001b[1;33m     \u001b[0mdata\u001b[0m \u001b[1;33m=\u001b[0m \u001b[0mpd\u001b[0m\u001b[1;33m.\u001b[0m\u001b[0mread_csv\u001b[0m\u001b[1;33m(\u001b[0m\u001b[0ma_file\u001b[0m\u001b[1;33m,\u001b[0m \u001b[0mnames\u001b[0m\u001b[1;33m=\u001b[0m\u001b[0mlist\u001b[0m\u001b[1;33m(\u001b[0m\u001b[1;34m'abcdefghijklmnopq'\u001b[0m\u001b[1;33m)\u001b[0m\u001b[1;33m)\u001b[0m\u001b[1;33m\u001b[0m\u001b[1;33m\u001b[0m\u001b[0m\n\u001b[0m\u001b[0;32m      8\u001b[0m     \u001b[1;31m#data.drop(data.loc[(data.a == 'Notes/Legal Notes') | (data.a == 'Codes') ].index, inplace= True)\u001b[0m\u001b[1;33m\u001b[0m\u001b[1;33m\u001b[0m\u001b[1;33m\u001b[0m\u001b[0m\n\u001b[0;32m      9\u001b[0m     \u001b[1;31m#data = (data.a != 'Codes') & (data.a != 'Notes/Legal Notes')\u001b[0m\u001b[1;33m\u001b[0m\u001b[1;33m\u001b[0m\u001b[1;33m\u001b[0m\u001b[0m\n",
      "\u001b[1;32m~\\Anaconda3\\lib\\site-packages\\pandas\\io\\parsers.py\u001b[0m in \u001b[0;36mparser_f\u001b[1;34m(filepath_or_buffer, sep, delimiter, header, names, index_col, usecols, squeeze, prefix, mangle_dupe_cols, dtype, engine, converters, true_values, false_values, skipinitialspace, skiprows, skipfooter, nrows, na_values, keep_default_na, na_filter, verbose, skip_blank_lines, parse_dates, infer_datetime_format, keep_date_col, date_parser, dayfirst, cache_dates, iterator, chunksize, compression, thousands, decimal, lineterminator, quotechar, quoting, doublequote, escapechar, comment, encoding, dialect, error_bad_lines, warn_bad_lines, delim_whitespace, low_memory, memory_map, float_precision)\u001b[0m\n\u001b[0;32m    683\u001b[0m         )\n\u001b[0;32m    684\u001b[0m \u001b[1;33m\u001b[0m\u001b[0m\n\u001b[1;32m--> 685\u001b[1;33m         \u001b[1;32mreturn\u001b[0m \u001b[0m_read\u001b[0m\u001b[1;33m(\u001b[0m\u001b[0mfilepath_or_buffer\u001b[0m\u001b[1;33m,\u001b[0m \u001b[0mkwds\u001b[0m\u001b[1;33m)\u001b[0m\u001b[1;33m\u001b[0m\u001b[1;33m\u001b[0m\u001b[0m\n\u001b[0m\u001b[0;32m    686\u001b[0m \u001b[1;33m\u001b[0m\u001b[0m\n\u001b[0;32m    687\u001b[0m     \u001b[0mparser_f\u001b[0m\u001b[1;33m.\u001b[0m\u001b[0m__name__\u001b[0m \u001b[1;33m=\u001b[0m \u001b[0mname\u001b[0m\u001b[1;33m\u001b[0m\u001b[1;33m\u001b[0m\u001b[0m\n",
      "\u001b[1;32m~\\Anaconda3\\lib\\site-packages\\pandas\\io\\parsers.py\u001b[0m in \u001b[0;36m_read\u001b[1;34m(filepath_or_buffer, kwds)\u001b[0m\n\u001b[0;32m    455\u001b[0m \u001b[1;33m\u001b[0m\u001b[0m\n\u001b[0;32m    456\u001b[0m     \u001b[1;31m# Create the parser.\u001b[0m\u001b[1;33m\u001b[0m\u001b[1;33m\u001b[0m\u001b[1;33m\u001b[0m\u001b[0m\n\u001b[1;32m--> 457\u001b[1;33m     \u001b[0mparser\u001b[0m \u001b[1;33m=\u001b[0m \u001b[0mTextFileReader\u001b[0m\u001b[1;33m(\u001b[0m\u001b[0mfp_or_buf\u001b[0m\u001b[1;33m,\u001b[0m \u001b[1;33m**\u001b[0m\u001b[0mkwds\u001b[0m\u001b[1;33m)\u001b[0m\u001b[1;33m\u001b[0m\u001b[1;33m\u001b[0m\u001b[0m\n\u001b[0m\u001b[0;32m    458\u001b[0m \u001b[1;33m\u001b[0m\u001b[0m\n\u001b[0;32m    459\u001b[0m     \u001b[1;32mif\u001b[0m \u001b[0mchunksize\u001b[0m \u001b[1;32mor\u001b[0m \u001b[0miterator\u001b[0m\u001b[1;33m:\u001b[0m\u001b[1;33m\u001b[0m\u001b[1;33m\u001b[0m\u001b[0m\n",
      "\u001b[1;32m~\\Anaconda3\\lib\\site-packages\\pandas\\io\\parsers.py\u001b[0m in \u001b[0;36m__init__\u001b[1;34m(self, f, engine, **kwds)\u001b[0m\n\u001b[0;32m    893\u001b[0m             \u001b[0mself\u001b[0m\u001b[1;33m.\u001b[0m\u001b[0moptions\u001b[0m\u001b[1;33m[\u001b[0m\u001b[1;34m\"has_index_names\"\u001b[0m\u001b[1;33m]\u001b[0m \u001b[1;33m=\u001b[0m \u001b[0mkwds\u001b[0m\u001b[1;33m[\u001b[0m\u001b[1;34m\"has_index_names\"\u001b[0m\u001b[1;33m]\u001b[0m\u001b[1;33m\u001b[0m\u001b[1;33m\u001b[0m\u001b[0m\n\u001b[0;32m    894\u001b[0m \u001b[1;33m\u001b[0m\u001b[0m\n\u001b[1;32m--> 895\u001b[1;33m         \u001b[0mself\u001b[0m\u001b[1;33m.\u001b[0m\u001b[0m_make_engine\u001b[0m\u001b[1;33m(\u001b[0m\u001b[0mself\u001b[0m\u001b[1;33m.\u001b[0m\u001b[0mengine\u001b[0m\u001b[1;33m)\u001b[0m\u001b[1;33m\u001b[0m\u001b[1;33m\u001b[0m\u001b[0m\n\u001b[0m\u001b[0;32m    896\u001b[0m \u001b[1;33m\u001b[0m\u001b[0m\n\u001b[0;32m    897\u001b[0m     \u001b[1;32mdef\u001b[0m \u001b[0mclose\u001b[0m\u001b[1;33m(\u001b[0m\u001b[0mself\u001b[0m\u001b[1;33m)\u001b[0m\u001b[1;33m:\u001b[0m\u001b[1;33m\u001b[0m\u001b[1;33m\u001b[0m\u001b[0m\n",
      "\u001b[1;32m~\\Anaconda3\\lib\\site-packages\\pandas\\io\\parsers.py\u001b[0m in \u001b[0;36m_make_engine\u001b[1;34m(self, engine)\u001b[0m\n\u001b[0;32m   1133\u001b[0m     \u001b[1;32mdef\u001b[0m \u001b[0m_make_engine\u001b[0m\u001b[1;33m(\u001b[0m\u001b[0mself\u001b[0m\u001b[1;33m,\u001b[0m \u001b[0mengine\u001b[0m\u001b[1;33m=\u001b[0m\u001b[1;34m\"c\"\u001b[0m\u001b[1;33m)\u001b[0m\u001b[1;33m:\u001b[0m\u001b[1;33m\u001b[0m\u001b[1;33m\u001b[0m\u001b[0m\n\u001b[0;32m   1134\u001b[0m         \u001b[1;32mif\u001b[0m \u001b[0mengine\u001b[0m \u001b[1;33m==\u001b[0m \u001b[1;34m\"c\"\u001b[0m\u001b[1;33m:\u001b[0m\u001b[1;33m\u001b[0m\u001b[1;33m\u001b[0m\u001b[0m\n\u001b[1;32m-> 1135\u001b[1;33m             \u001b[0mself\u001b[0m\u001b[1;33m.\u001b[0m\u001b[0m_engine\u001b[0m \u001b[1;33m=\u001b[0m \u001b[0mCParserWrapper\u001b[0m\u001b[1;33m(\u001b[0m\u001b[0mself\u001b[0m\u001b[1;33m.\u001b[0m\u001b[0mf\u001b[0m\u001b[1;33m,\u001b[0m \u001b[1;33m**\u001b[0m\u001b[0mself\u001b[0m\u001b[1;33m.\u001b[0m\u001b[0moptions\u001b[0m\u001b[1;33m)\u001b[0m\u001b[1;33m\u001b[0m\u001b[1;33m\u001b[0m\u001b[0m\n\u001b[0m\u001b[0;32m   1136\u001b[0m         \u001b[1;32melse\u001b[0m\u001b[1;33m:\u001b[0m\u001b[1;33m\u001b[0m\u001b[1;33m\u001b[0m\u001b[0m\n\u001b[0;32m   1137\u001b[0m             \u001b[1;32mif\u001b[0m \u001b[0mengine\u001b[0m \u001b[1;33m==\u001b[0m \u001b[1;34m\"python\"\u001b[0m\u001b[1;33m:\u001b[0m\u001b[1;33m\u001b[0m\u001b[1;33m\u001b[0m\u001b[0m\n",
      "\u001b[1;32m~\\Anaconda3\\lib\\site-packages\\pandas\\io\\parsers.py\u001b[0m in \u001b[0;36m__init__\u001b[1;34m(self, src, **kwds)\u001b[0m\n\u001b[0;32m   1915\u001b[0m         \u001b[0mkwds\u001b[0m\u001b[1;33m[\u001b[0m\u001b[1;34m\"usecols\"\u001b[0m\u001b[1;33m]\u001b[0m \u001b[1;33m=\u001b[0m \u001b[0mself\u001b[0m\u001b[1;33m.\u001b[0m\u001b[0musecols\u001b[0m\u001b[1;33m\u001b[0m\u001b[1;33m\u001b[0m\u001b[0m\n\u001b[0;32m   1916\u001b[0m \u001b[1;33m\u001b[0m\u001b[0m\n\u001b[1;32m-> 1917\u001b[1;33m         \u001b[0mself\u001b[0m\u001b[1;33m.\u001b[0m\u001b[0m_reader\u001b[0m \u001b[1;33m=\u001b[0m \u001b[0mparsers\u001b[0m\u001b[1;33m.\u001b[0m\u001b[0mTextReader\u001b[0m\u001b[1;33m(\u001b[0m\u001b[0msrc\u001b[0m\u001b[1;33m,\u001b[0m \u001b[1;33m**\u001b[0m\u001b[0mkwds\u001b[0m\u001b[1;33m)\u001b[0m\u001b[1;33m\u001b[0m\u001b[1;33m\u001b[0m\u001b[0m\n\u001b[0m\u001b[0;32m   1918\u001b[0m         \u001b[0mself\u001b[0m\u001b[1;33m.\u001b[0m\u001b[0munnamed_cols\u001b[0m \u001b[1;33m=\u001b[0m \u001b[0mself\u001b[0m\u001b[1;33m.\u001b[0m\u001b[0m_reader\u001b[0m\u001b[1;33m.\u001b[0m\u001b[0munnamed_cols\u001b[0m\u001b[1;33m\u001b[0m\u001b[1;33m\u001b[0m\u001b[0m\n\u001b[0;32m   1919\u001b[0m \u001b[1;33m\u001b[0m\u001b[0m\n",
      "\u001b[1;32mpandas\\_libs\\parsers.pyx\u001b[0m in \u001b[0;36mpandas._libs.parsers.TextReader.__cinit__\u001b[1;34m()\u001b[0m\n",
      "\u001b[1;32mpandas\\_libs\\parsers.pyx\u001b[0m in \u001b[0;36mpandas._libs.parsers.TextReader._setup_parser_source\u001b[1;34m()\u001b[0m\n",
      "\u001b[1;31mFileNotFoundError\u001b[0m: [Errno 2] File b'U9233567_20161125_20161125.csv' does not exist: b'U9233567_20161125_20161125.csv'"
     ]
    }
   ],
   "metadata": {},
   "execution_count": 10
  },
  {
   "cell_type": "code",
   "execution_count": 33,
   "metadata": {},
   "outputs": [],
   "source": [
    "# def get_all_trades(folder):\n",
    "#     #Creates a list of all files in folder\n",
    "#     filelist = os.listdir(folder)\n",
    "#     #Creates a empty list to append all dataframes\n",
    "#     dataframe_list = []\n",
    "#     #Iterates through all files in filelist\n",
    "#     asset_categories_lst = ['Stocks','Equity and Index Options','Futures','Options On Futures', 'Forex']\n",
    "#     for a_file in filelist:\n",
    "#         #Checks if file is a .csv\n",
    "#         if a_file.lower().endswith('.csv'):\n",
    "#             data = convert_to_df(a_file)\n",
    "#             for i in asset_categories_lst:\n",
    "#                 df = process_data(data, i)\n",
    "#                 dataframe_list.append(df)\n",
    "#             dataframe_list.append(process_ca(data))\n",
    "#     new_trades = pd.concat(dataframe_list,sort=False )\n",
    "#     dataframe = pd.concat(dataframe_list,sort=False )\n",
    "#     dataframe['Proceeds'] = dataframe['Proceeds'].astype('float')\n",
    "#     dataframe['Quantity'] = dataframe['Quantity'].astype('float')\n",
    "#     dataframe['T. Price'] = dataframe['T. Price'].astype('float')\n",
    "#     dataframe['Comm/Fee'] = dataframe['Comm/Fee'].astype('float')\n",
    "#     dataframe['Date/Time'] = pd.to_datetime(dataframe['Date/Time'])\n",
    "#     dataframe['Quantity_Rsum'] =  dataframe.groupby(['Symbol'])['Quantity'].transform(lambda x : x.cumsum())\n",
    "#     return dataframe"
   ]
  },
  {
   "cell_type": "code",
   "execution_count": 34,
   "metadata": {},
   "outputs": [],
   "source": [
    "# def convert_to_df(a_file):\n",
    "#     data = pd.read_csv(folder/a_file, names=list('abcdefghijklmnopq'))\n",
    "#     #data.drop(data.loc[(data.a == 'Notes/Legal Notes') | (data.a == 'Codes') ].index, inplace= True)\n",
    "#     #data = (data.a != 'Codes') & (data.a != 'Notes/Legal Notes')\n",
    "#     data = data.loc[~data.a.isin(['Statement','Codes', 'Notes/Legal Notes','Account Information','Change in NAV','Mark-to-Market Performance Summary','Realized & Unrealized Performance Summary','Open Positions'])]\n",
    "#     return data"
   ]
  },
  {
   "cell_type": "code",
   "execution_count": 35,
   "metadata": {},
   "outputs": [],
   "source": [
    "# def calculatePL (df):\n",
    "#     newdf = df.loc[:,['Quantity','Quantity_Rsum','T. Price','Proceeds']]\n",
    "#     newdf['prev'] = newdf['Quantity_Rsum'].shift(1 , fill_value=0)\n",
    "#     #Make a new column OIDC\n",
    "#     oidc_options = [\n",
    "#         newdf['prev'] == 0,\n",
    "#         newdf['Quantity_Rsum'] == 0,\n",
    "#         newdf['prev']/newdf['Quantity_Rsum'] < 0,\n",
    "#         abs(newdf['Quantity_Rsum']) > abs(newdf['prev'])\n",
    "#     ]\n",
    "#     oidc_choices = [\n",
    "#         'Open','Close','Reversal', 'Increase'\n",
    "#     ]\n",
    "#     newdf['oidc'] = np.select(oidc_options, oidc_choices, default = 'Decrease')\n",
    "\n",
    "#     newdf['index'] = np.where((newdf['oidc']== 'Open')|(newdf['oidc']=='Reversal'),1,0)\n",
    "\n",
    "#     newdf['Increase'] = np.where((newdf['oidc'] == 'Open') | (newdf['oidc'] == 'Increase') | (newdf['oidc'] =='Reversal'),1,0)\n",
    "#     newdf['ProceedsIncrease'] = newdf['Proceeds']*newdf['Increase']\n",
    "#     newdf['QuantityIncrease'] = newdf['Quantity']*newdf['Increase']\n",
    "#     newdf['cumsum'] = newdf['index'].cumsum()\n",
    "#     newdf['TotProceedsIncrease']= newdf.groupby(['cumsum'])['ProceedsIncrease'].cumsum()\n",
    "#     newdf['TotQuantityIncrease']= newdf.groupby(['cumsum'])['QuantityIncrease'].cumsum()\n",
    "#     newdf['AvgOpenPrice'] = newdf['TotProceedsIncrease'] / newdf['TotQuantityIncrease'] * -1\n",
    "#     newdf['AvgOpenPriceBefore'] = newdf['AvgOpenPrice'].shift(1 , fill_value=0)\n",
    "\n",
    "#     plOptions = [\n",
    "#         newdf['oidc'] == 'Open',\n",
    "#         newdf['oidc'] == 'Increase',\n",
    "#         newdf['oidc'] == 'Decrease',\n",
    "#         newdf['oidc'] == 'Close',\n",
    "#         newdf['oidc'] == 'Reversal'\n",
    "#     ]\n",
    "#     plChoices = [\n",
    "#         # Open case P/L = 0\n",
    "#         0,\n",
    "#         #Increase case \n",
    "#         0,\n",
    "#         #Decrease case: Average Open Price - T. Price * Quantity (* Multiplier +coommfee)\n",
    "#         (newdf['AvgOpenPriceBefore'] - newdf['T. Price']) * newdf['Quantity'],\n",
    "#         #Close case \n",
    "#         (newdf['AvgOpenPriceBefore'] - newdf['T. Price']) * newdf['Quantity'],\n",
    "#         #Reverse case\n",
    "#         (newdf['AvgOpenPriceBefore'] - newdf['T. Price']) * newdf['Quantity']\n",
    "#     ]\n",
    "#     newdf['PL'] = np.select(plOptions, plChoices, default = 0)\n",
    "#     newdf['CumPL'] = newdf['PL'].cumsum()\n",
    "#     newdf.drop(['Quantity',\t'Quantity_Rsum', 'T. Price', 'Proceeds', 'prev', 'oidc', 'index','Increase','ProceedsIncrease', 'QuantityIncrease', 'cumsum', 'TotProceedsIncrease','TotQuantityIncrease','AvgOpenPriceBefore'], axis=1, inplace=True)\n",
    "#     #return newdf['PL'], newdf['AvgOpenPrice'], newdf['CumPL']\n",
    "#     return newdf\n",
    "\n",
    "# def updatePL (df):\n",
    "#     df.drop(['AvgOpenPrice','PL','CumPL'], axis=1, inplace = True, errors= 'ignore')\n",
    "#     dfgrouped = df.groupby('Symbol')\n",
    "#     dataframe_list = []\n",
    "#     for name, group in dfgrouped:\n",
    "#         symbol_group = dfgrouped.get_group(name)\n",
    "#         profLoss = calculatePL( symbol_group)\n",
    "#         symbol_group = symbol_group.join(profLoss)\n",
    "#         dataframe_list.append(symbol_group)\n",
    "#     new_trades = pd.concat(dataframe_list,sort=False ).sort_index()\n",
    "#     return new_trades\n",
    ""
   ]
  },
  {
   "cell_type": "code",
   "execution_count": null,
   "metadata": {},
   "outputs": [],
   "source": []
  }
 ]
}
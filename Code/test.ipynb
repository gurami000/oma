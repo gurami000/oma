{
 "nbformat": 4,
 "nbformat_minor": 2,
 "metadata": {
  "language_info": {
   "name": "python",
   "codemirror_mode": {
    "name": "ipython",
    "version": 3
   },
   "version": "3.7.4-final"
  },
  "orig_nbformat": 2,
  "file_extension": ".py",
  "mimetype": "text/x-python",
  "name": "python",
  "npconvert_exporter": "python",
  "pygments_lexer": "ipython3",
  "version": 3,
  "kernelspec": {
   "name": "python37464bitbaseconda1e43623b5feb4079bd18afd99ef417a0",
   "display_name": "Python 3.7.4 64-bit ('base': conda)"
  }
 },
 "cells": [
  {
   "cell_type": "code",
   "execution_count": 16,
   "metadata": {},
   "outputs": [],
   "source": [
    "import os\n",
    "import pandas as pd\n",
    "from pathlib import Path\n",
    "from get_all_trades import process_ca, process_data, updatePL\n",
    "from get_all_trades import calculate_PL\n",
    "#from get_all_trades import convert_to_df\n"
   ]
  },
  {
   "cell_type": "code",
   "execution_count": 5,
   "metadata": {},
   "outputs": [],
   "source": [
    "cwd =  Path.cwd()\n",
    "\n",
    "folder = cwd /'IBActivityNew'\n",
    "\n",
    "tables = cwd / 'Tables'"
   ]
  },
  {
   "cell_type": "code",
   "execution_count": 6,
   "metadata": {},
   "outputs": [
    {
     "name": "stdout",
     "output_type": "stream",
     "text": "True\n"
    }
   ],
   "source": [
    "if tables/'tables_Trades.csv':\n",
    "    print(True)\n",
    "else:\n",
    "    print(False)"
   ]
  },
  {
   "cell_type": "code",
   "execution_count": 7,
   "metadata": {},
   "outputs": [],
   "source": [
    "def get_all_trades(folder):\n",
    "    #Creates a list of all files in folder\n",
    "    filelist = os.listdir(folder)\n",
    "    #Creates a empty list to append all dataframes\n",
    "    dataframe_list = []\n",
    "    #Iterates through all files in filelist\n",
    "    asset_categories_lst = ['Stocks','Equity and Index Options','Futures','Options On Futures', 'Forex']\n",
    "    for a_file in filelist:\n",
    "        #Checks if file is a .csv\n",
    "        if a_file.lower().endswith('.csv'):\n",
    "            data = convert_to_df(a_file)\n",
    "            for i in asset_categories_lst:\n",
    "                df = process_data(data, i)\n",
    "                dataframe_list.append(df)\n",
    "            dataframe_list.append(process_ca(data))\n",
    "    new_trades = pd.concat(dataframe_list,sort=False )\n",
    "    dataframe = pd.concat(dataframe_list,sort=False )\n",
    "    dataframe['Proceeds'] = dataframe['Proceeds'].astype('float')\n",
    "    dataframe['Quantity'] = dataframe['Quantity'].astype('float')\n",
    "    dataframe['T. Price'] = dataframe['T. Price'].astype('float')\n",
    "    dataframe['Comm/Fee'] = dataframe['Comm/Fee'].astype('float')\n",
    "    dataframe['Date/Time'] = pd.to_datetime(dataframe['Date/Time'])\n",
    "    dataframe['Quantity_Rsum'] =  dataframe.groupby(['Symbol'])['Quantity'].transform(lambda x : x.cumsum())\n",
    "    return dataframe"
   ]
  },
  {
   "cell_type": "code",
   "execution_count": 8,
   "metadata": {},
   "outputs": [],
   "source": [
    "def convert_to_df(a_file):\n",
    "    data = pd.read_csv(folder/a_file, names=list('abcdefghijklmnopq'))\n",
    "    #data.drop(data.loc[(data.a == 'Notes/Legal Notes') | (data.a == 'Codes') ].index, inplace= True)\n",
    "    #data = (data.a != 'Codes') & (data.a != 'Notes/Legal Notes')\n",
    "    data = data.loc[~data.a.isin(['Statement','Codes', 'Notes/Legal Notes','Account Information','Change in NAV','Mark-to-Market Performance Summary','Realized & Unrealized Performance Summary','Open Positions'])]\n",
    "    return data"
   ]
  },
  {
   "cell_type": "code",
   "execution_count": 71,
   "metadata": {},
   "outputs": [],
   "source": [
    "def calculatePL (df):\n",
    "    newdf = df.loc[:,['Quantity','Quantity_Rsum','T. Price','Proceeds']]\n",
    "    newdf['prev'] = newdf['Quantity_Rsum'].shift(1 , fill_value=0)\n",
    "    #Make a new column OIDC\n",
    "    oidc_options = [\n",
    "        newdf['prev'] == 0,\n",
    "        newdf['Quantity_Rsum'] == 0,\n",
    "        newdf['prev']/newdf['Quantity_Rsum'] < 0,\n",
    "        abs(newdf['Quantity_Rsum']) > abs(newdf['prev'])\n",
    "    ]\n",
    "    oidc_choices = [\n",
    "        'Open','Close','Reversal', 'Increase'\n",
    "    ]\n",
    "    newdf['oidc'] = np.select(oidc_options, oidc_choices, default = 'Decrease')\n",
    "\n",
    "    newdf['index'] = np.where((newdf['oidc']== 'Open')|(newdf['oidc']=='Reversal'),1,0)\n",
    "\n",
    "    newdf['Increase'] = np.where((newdf['oidc'] == 'Open') | (newdf['oidc'] == 'Increase') | (newdf['oidc'] =='Reversal'),1,0)\n",
    "    newdf['ProceedsIncrease'] = newdf['Proceeds']*newdf['Increase']\n",
    "    newdf['QuantityIncrease'] = newdf['Quantity']*newdf['Increase']\n",
    "    newdf['cumsum'] = newdf['index'].cumsum()\n",
    "    newdf['TotProceedsIncrease']= newdf.groupby(['cumsum'])['ProceedsIncrease'].cumsum()\n",
    "    newdf['TotQuantityIncrease']= newdf.groupby(['cumsum'])['QuantityIncrease'].cumsum()\n",
    "    newdf['AvgOpenPrice'] = newdf['TotProceedsIncrease'] / newdf['TotQuantityIncrease'] * -1\n",
    "    newdf['AvgOpenPriceBefore'] = newdf['AvgOpenPrice'].shift(1 , fill_value=0)\n",
    "\n",
    "    plOptions = [\n",
    "        newdf['oidc'] == 'Open',\n",
    "        newdf['oidc'] == 'Increase',\n",
    "        newdf['oidc'] == 'Decrease',\n",
    "        newdf['oidc'] == 'Close',\n",
    "        newdf['oidc'] == 'Reversal'\n",
    "    ]\n",
    "    plChoices = [\n",
    "        # Open case P/L = 0\n",
    "        0,\n",
    "        #Increase case \n",
    "        0,\n",
    "        #Decrease case: Average Open Price - T. Price * Quantity (* Multiplier +coommfee)\n",
    "        (newdf['AvgOpenPriceBefore'] - newdf['T. Price']) * newdf['Quantity'],\n",
    "        #Close case \n",
    "        (newdf['AvgOpenPriceBefore'] - newdf['T. Price']) * newdf['Quantity'],\n",
    "        #Reverse case\n",
    "        (newdf['AvgOpenPriceBefore'] - newdf['T. Price']) * newdf['Quantity']\n",
    "    ]\n",
    "    newdf['PL'] = np.select(plOptions, plChoices, default = 0)\n",
    "    newdf['CumPL'] = newdf['PL'].cumsum()\n",
    "    newdf.drop(['Quantity',\t'Quantity_Rsum', 'T. Price', 'Proceeds', 'prev', 'oidc', 'index','Increase','ProceedsIncrease', 'QuantityIncrease', 'cumsum', 'TotProceedsIncrease','TotQuantityIncrease','AvgOpenPriceBefore'], axis=1, inplace=True)\n",
    "    #return newdf['PL'], newdf['AvgOpenPrice'], newdf['CumPL']\n",
    "    return newdf\n",
    "\n",
    "def updatePL (df):\n",
    "    df.drop(['AvgOpenPrice','PL','CumPL'], axis=1, inplace = True, errors= 'ignore')\n",
    "    dfgrouped = df.groupby('Symbol')\n",
    "    dataframe_list = []\n",
    "    for name, group in dfgrouped:\n",
    "        symbol_group = dfgrouped.get_group(name)\n",
    "        profLoss = calculatePL( symbol_group)\n",
    "        symbol_group = symbol_group.join(profLoss)\n",
    "        dataframe_list.append(symbol_group)\n",
    "    new_trades = pd.concat(dataframe_list,sort=False ).sort_index()\n",
    "    return new_trades\n"
   ]
  },
  {
   "cell_type": "code",
   "execution_count": 12,
   "metadata": {},
   "outputs": [
    {
     "name": "stdout",
     "output_type": "stream",
     "text": "<class 'pandas.core.frame.DataFrame'>\nRangeIndex: 1336 entries, 0 to 1335\nData columns (total 14 columns):\nUnnamed: 0        1336 non-null int64\nUnnamed: 0.1      324 non-null float64\nAsset Category    1336 non-null object\nCurrency          1336 non-null object\nSymbol            1336 non-null object\nDate/Time         1336 non-null object\nQuantity          1336 non-null float64\nT. Price          1336 non-null float64\nProceeds          1336 non-null float64\nComm/Fee          1336 non-null float64\nQuantity_Rsum     1336 non-null float64\nAvgOpenPrice      1336 non-null float64\nPL                1336 non-null float64\nCumPL             1336 non-null float64\ndtypes: float64(9), int64(1), object(4)\nmemory usage: 146.2+ KB\n"
    }
   ],
   "source": [
    "trades.info()"
   ]
  },
  {
   "cell_type": "code",
   "execution_count": 19,
   "metadata": {},
   "outputs": [
    {
     "name": "stdout",
     "output_type": "stream",
     "text": "<class 'pandas.core.frame.DataFrame'>\nInt64Index: 1012 entries, 220 to 1078\nData columns (total 12 columns):\nAsset Category    1012 non-null object\nCurrency          1012 non-null object\nSymbol            1012 non-null object\nDate/Time         1012 non-null datetime64[ns]\nQuantity          1012 non-null float64\nT. Price          1012 non-null float64\nProceeds          1012 non-null float64\nComm/Fee          1012 non-null float64\nQuantity_Rsum     1012 non-null float64\nAvgOpenPrice      1012 non-null float64\nPL                1012 non-null float64\nCumPL             1012 non-null float64\ndtypes: datetime64[ns](1), float64(8), object(3)\nmemory usage: 102.8+ KB\n"
    }
   ],
   "source": [
    "newtrades.info()"
   ]
  },
  {
   "cell_type": "code",
   "execution_count": 23,
   "metadata": {},
   "outputs": [],
   "source": [
    "#if tables/'tables_Trades.csv':\n",
    "trades = pd.read_csv(tables / 'tables_Trades.csv')\n",
    "\n"
   ]
  },
  {
   "cell_type": "code",
   "execution_count": 24,
   "metadata": {},
   "outputs": [],
   "source": [
    "newtrades = get_all_trades(folder)\n",
    "newtrades = updatePL(newtrades)\n"
   ]
  },
  {
   "cell_type": "code",
   "execution_count": 25,
   "metadata": {},
   "outputs": [],
   "source": [
    "trades = trades.append(newtrades, sort=False)"
   ]
  },
  {
   "cell_type": "code",
   "execution_count": 26,
   "metadata": {},
   "outputs": [],
   "source": [
    "trades.to_csv(tables/'tables_Trades.csv')"
   ]
  },
  {
   "cell_type": "code",
   "execution_count": null,
   "metadata": {},
   "outputs": [],
   "source": []
  }
 ]
}
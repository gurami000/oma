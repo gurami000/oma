{
 "nbformat": 4,
 "nbformat_minor": 2,
 "metadata": {
  "language_info": {
   "name": "python",
   "codemirror_mode": {
    "name": "ipython",
    "version": 3
   },
   "version": "3.7.4-final"
  },
  "orig_nbformat": 2,
  "file_extension": ".py",
  "mimetype": "text/x-python",
  "name": "python",
  "npconvert_exporter": "python",
  "pygments_lexer": "ipython3",
  "version": 3,
  "kernelspec": {
   "name": "python37464bitbasecondafc973df1ce424b17b41caafa44b5e9ca",
   "display_name": "Python 3.7.4 64-bit ('base': conda)"
  }
 },
 "cells": [
  {
   "cell_type": "code",
   "execution_count": 1,
   "metadata": {},
   "outputs": [],
   "source": [
    "import os\n",
    "import pandas as pd\n",
    "from pathlib import Path\n",
    "from functions import convert_to_df, process_depAndWith, process_DW_In_Base, get_all_depAndWith, get_all_DW_In_Base\n",
    "# from get_all_trades import process_ca, process_data, updatePL\n",
    "# from get_all_trades import calculate_PL\n",
    "#from get_all_trades import convert_to_df\n"
   ]
  },
  {
   "cell_type": "code",
   "execution_count": 2,
   "metadata": {},
   "outputs": [
    {
     "data": {
      "text/plain": "WindowsPath('d:/Javier/SynologyDrive/Portfolio Python 2/Data/IBActivity')"
     },
     "execution_count": 2,
     "metadata": {},
     "output_type": "execute_result"
    }
   ],
   "source": [
    "cwd =  Path.cwd()\n",
    "\n",
    "folder = cwd.parent /'Data'/'IBActivity'\n",
    "\n",
    "tables = cwd.parent /'Data'/ 'Tables'\n",
    "#cwd.parent / 'Data'\n",
    "folder"
   ]
  },
  {
   "cell_type": "code",
   "execution_count": 3,
   "metadata": {},
   "outputs": [],
   "source": [
    "report = 'U9233567_20190328_20190328.csv'"
   ]
  },
  {
   "cell_type": "code",
   "execution_count": 4,
   "metadata": {},
   "outputs": [],
   "source": [
    "def convert_to_df(folder,a_file):\n",
    "    data = pd.read_csv(folder/a_file, names=list('abcdefghijklmnopq'))\n",
    "    data = data.loc[~data.a.isin(['Codes', 'Notes/Legal Notes','Account Information','Change in NAV','Mark-to-Market Performance Summary','Realized & Unrealized Performance Summary','Open Positions'])]\n",
    "    return data"
   ]
  },
  {
   "cell_type": "code",
   "execution_count": 5,
   "metadata": {},
   "outputs": [],
   "source": [
    "# def get_all_depAndWith(folder):\n",
    "#     #Creates a list of all files in folder\n",
    "#     filelist = os.listdir(folder)\n",
    "#     #Creates a empty list to append all dataframes\n",
    "#     depAndWith_list = []\n",
    "#     #Iterates through all files in filelist\n",
    "#     for file_ in filelist:\n",
    "#         #Checks if file is a .csv\n",
    "#         if file_.lower().endswith('.csv'):\n",
    "#             data = convert_to_df(folder,file_)\n",
    "#             depAndWith = process_depAndWith(data)\n",
    "#             #if type(div) != 'NonType':\n",
    "#             if len(depAndWith) !=0:\n",
    "#                 depAndWith_list.append(depAndWith)\n",
    "#     deposits_and_withdrawals = pd.concat(depAndWith_list,sort=False )\n",
    "#     return deposits_and_withdrawals"
   ]
  },
  {
   "cell_type": "code",
   "execution_count": 6,
   "metadata": {},
   "outputs": [],
   "source": [
    "# def process_depAndWith(data):\n",
    "#     data_depAndWith = data.loc[data.a == 'Deposits & Withdrawals']\n",
    "#     if len(data_depAndWith) > 0:\n",
    "#         depAndWith = data_depAndWith.loc[data_depAndWith.b == 'Data']\n",
    "#         first_row = depAndWith.index.values[0]-1\n",
    "#         header_row = list(data_depAndWith.loc[first_row])\n",
    "#         depAndWith.columns = header_row\n",
    "#         depAndWith = depAndWith.dropna(subset=['Settle Date'])\n",
    "#         depAndWith = depAndWith.loc[:,depAndWith.columns.notna()]\n",
    "#         depAndWith.drop(columns=['Header','Deposits & Withdrawals'], inplace=True, errors='ignore')\n",
    "#         depAndWith['Date'] = pd.to_datetime(depAndWith['Settle Date'])\n",
    "#         depAndWith = depAndWith.groupby(['Date','Currency'], as_index=False).sum()\n",
    "\n",
    "#     else:\n",
    "#           depAndWith = pd.DataFrame()\n",
    "#     return depAndWith\n"
   ]
  },
  {
   "cell_type": "code",
   "execution_count": 7,
   "metadata": {},
   "outputs": [],
   "source": [
    "# def process_DW_In_Base(data):\n",
    "#     date = data.loc[data.a =='Statement']\n",
    "#     date = date.loc[date.c =='Period']\n",
    "#     date.dropna(axis=1,inplace=True)\n",
    "#     date.drop(columns=['a','b','c'], inplace=True, errors='ignore')\n",
    "#     date.reset_index(inplace=True,drop=True)\n",
    "#     date = date.iloc[0:1]\n",
    "#     date.columns = ['Date']\n",
    "#     date['Date'] = pd.to_datetime(date['Date'])\n",
    "\n",
    "#     data_check = data.loc[data.a == 'Deposits & Withdrawals']\n",
    "#     if len(data_check) > 0:\n",
    "#         depAndWith = data.loc[data.a == 'Cash Report']\n",
    "#         depAndWith = depAndWith.loc[depAndWith.d == 'Base Currency Summary']\n",
    "#         depAndWith = depAndWith.loc[(depAndWith.c == 'Deposits')| (depAndWith.c == 'Withdrawals')]\n",
    "#         depAndWith.e = depAndWith.e.astype(float)\n",
    "#         # # depAndWith.set_index('b', inplace =True)\n",
    "#         depAndWith = depAndWith.groupby('a').sum()\n",
    "        \n",
    "      \n",
    "        \n",
    "#         depAndWith = depAndWith.reset_index(drop=True)\n",
    "#         dw = pd.Series(depAndWith.e)\n",
    "#         date['DW_In_Base'] = dw\n",
    "#     else:\n",
    "#         date = pd.DataFrame()\n",
    "#     return date"
   ]
  },
  {
   "cell_type": "code",
   "execution_count": 8,
   "metadata": {},
   "outputs": [],
   "source": [
    "data = convert_to_df(folder,report)"
   ]
  },
  {
   "cell_type": "code",
   "execution_count": 9,
   "metadata": {},
   "outputs": [
    {
     "data": {
      "text/html": "<div>\n<style scoped>\n    .dataframe tbody tr th:only-of-type {\n        vertical-align: middle;\n    }\n\n    .dataframe tbody tr th {\n        vertical-align: top;\n    }\n\n    .dataframe thead th {\n        text-align: right;\n    }\n</style>\n<table border=\"1\" class=\"dataframe\">\n  <thead>\n    <tr style=\"text-align: right;\">\n      <th></th>\n      <th>Date</th>\n      <th>DW_In_Base</th>\n    </tr>\n  </thead>\n  <tbody>\n    <tr>\n      <td>0</td>\n      <td>2019-03-28</td>\n      <td>3480.2</td>\n    </tr>\n  </tbody>\n</table>\n</div>",
      "text/plain": "        Date  DW_In_Base\n0 2019-03-28      3480.2"
     },
     "execution_count": 9,
     "metadata": {},
     "output_type": "execute_result"
    }
   ],
   "source": [
    "dw = process_DW_In_Base(data)\n",
    "dw"
   ]
  },
  {
   "cell_type": "code",
   "execution_count": 10,
   "metadata": {},
   "outputs": [
    {
     "name": "stdout",
     "output_type": "stream",
     "text": "<class 'pandas.core.frame.DataFrame'>\nRangeIndex: 1 entries, 0 to 0\nData columns (total 2 columns):\nDate          1 non-null datetime64[ns]\nDW_In_Base    1 non-null float64\ndtypes: datetime64[ns](1), float64(1)\nmemory usage: 144.0 bytes\n"
    }
   ],
   "source": [
    "dw.info()"
   ]
  },
  {
   "cell_type": "code",
   "execution_count": 11,
   "metadata": {},
   "outputs": [],
   "source": [
    "# def get_all_DW_In_Base(folder):\n",
    "#     #Creates a list of all files in folder\n",
    "#     filelist = os.listdir(folder)\n",
    "#     #Creates a empty list to append all dataframes\n",
    "#     depAndWith_list = []\n",
    "#     #Iterates through all files in filelist\n",
    "#     for file_ in filelist:\n",
    "#         #Checks if file is a .csv\n",
    "#         if file_.lower().endswith('.csv'):\n",
    "#             data = convert_to_df(folder,file_)\n",
    "#             depAndWith = process_DW_In_Base(data)\n",
    "#             #if type(div) != 'NonType':\n",
    "#             if len(depAndWith) !=0:\n",
    "#                 depAndWith_list.append(depAndWith)\n",
    "#     deposits_and_withdrawals = pd.concat(depAndWith_list,sort=False )\n",
    "#     return deposits_and_withdrawals"
   ]
  },
  {
   "cell_type": "code",
   "execution_count": 12,
   "metadata": {},
   "outputs": [
    {
     "data": {
      "text/html": "<div>\n<style scoped>\n    .dataframe tbody tr th:only-of-type {\n        vertical-align: middle;\n    }\n\n    .dataframe tbody tr th {\n        vertical-align: top;\n    }\n\n    .dataframe thead th {\n        text-align: right;\n    }\n</style>\n<table border=\"1\" class=\"dataframe\">\n  <thead>\n    <tr style=\"text-align: right;\">\n      <th></th>\n      <th>Date</th>\n      <th>DW_In_Base</th>\n    </tr>\n  </thead>\n  <tbody>\n    <tr>\n      <td>0</td>\n      <td>2016-12-13</td>\n      <td>12000.0000</td>\n    </tr>\n    <tr>\n      <td>0</td>\n      <td>2017-03-20</td>\n      <td>9980.4500</td>\n    </tr>\n    <tr>\n      <td>0</td>\n      <td>2017-04-21</td>\n      <td>2145.4000</td>\n    </tr>\n    <tr>\n      <td>0</td>\n      <td>2017-05-04</td>\n      <td>4883.0000</td>\n    </tr>\n    <tr>\n      <td>0</td>\n      <td>2017-09-29</td>\n      <td>3840.6000</td>\n    </tr>\n    <tr>\n      <td>0</td>\n      <td>2017-12-22</td>\n      <td>3837.3000</td>\n    </tr>\n    <tr>\n      <td>0</td>\n      <td>2018-02-26</td>\n      <td>19173.0000</td>\n    </tr>\n    <tr>\n      <td>0</td>\n      <td>2018-08-31</td>\n      <td>27391.0000</td>\n    </tr>\n    <tr>\n      <td>0</td>\n      <td>2018-10-29</td>\n      <td>-1565.0625</td>\n    </tr>\n    <tr>\n      <td>0</td>\n      <td>2018-11-13</td>\n      <td>-101.9906</td>\n    </tr>\n    <tr>\n      <td>0</td>\n      <td>2018-12-19</td>\n      <td>15000.0000</td>\n    </tr>\n    <tr>\n      <td>0</td>\n      <td>2018-12-28</td>\n      <td>5000.0000</td>\n    </tr>\n    <tr>\n      <td>0</td>\n      <td>2019-02-19</td>\n      <td>-137.5800</td>\n    </tr>\n    <tr>\n      <td>0</td>\n      <td>2019-03-28</td>\n      <td>3480.2000</td>\n    </tr>\n    <tr>\n      <td>0</td>\n      <td>2019-04-29</td>\n      <td>-559.3500</td>\n    </tr>\n    <tr>\n      <td>0</td>\n      <td>2019-08-16</td>\n      <td>12747.0000</td>\n    </tr>\n    <tr>\n      <td>0</td>\n      <td>2019-09-30</td>\n      <td>4409.4000</td>\n    </tr>\n  </tbody>\n</table>\n</div>",
      "text/plain": "        Date  DW_In_Base\n0 2016-12-13  12000.0000\n0 2017-03-20   9980.4500\n0 2017-04-21   2145.4000\n0 2017-05-04   4883.0000\n0 2017-09-29   3840.6000\n0 2017-12-22   3837.3000\n0 2018-02-26  19173.0000\n0 2018-08-31  27391.0000\n0 2018-10-29  -1565.0625\n0 2018-11-13   -101.9906\n0 2018-12-19  15000.0000\n0 2018-12-28   5000.0000\n0 2019-02-19   -137.5800\n0 2019-03-28   3480.2000\n0 2019-04-29   -559.3500\n0 2019-08-16  12747.0000\n0 2019-09-30   4409.4000"
     },
     "execution_count": 12,
     "metadata": {},
     "output_type": "execute_result"
    }
   ],
   "source": [
    "base = get_all_DW_In_Base(folder)\n",
    "base"
   ]
  },
  {
   "cell_type": "code",
   "execution_count": 13,
   "metadata": {},
   "outputs": [
    {
     "data": {
      "text/html": "<div>\n<style scoped>\n    .dataframe tbody tr th:only-of-type {\n        vertical-align: middle;\n    }\n\n    .dataframe tbody tr th {\n        vertical-align: top;\n    }\n\n    .dataframe thead th {\n        text-align: right;\n    }\n</style>\n<table border=\"1\" class=\"dataframe\">\n  <thead>\n    <tr style=\"text-align: right;\">\n      <th></th>\n      <th>Date</th>\n      <th>Currency</th>\n      <th>Settle Date</th>\n      <th>Description</th>\n      <th>Amount</th>\n    </tr>\n  </thead>\n  <tbody>\n    <tr>\n      <td>0</td>\n      <td>2016-12-13</td>\n      <td>USD</td>\n      <td>2016-12-13</td>\n      <td>Electronic Fund Transfer</td>\n      <td>12000</td>\n    </tr>\n    <tr>\n      <td>0</td>\n      <td>2017-03-20</td>\n      <td>HKD</td>\n      <td>2017-03-20</td>\n      <td>Electronic Fund Transfer</td>\n      <td>77500</td>\n    </tr>\n    <tr>\n      <td>0</td>\n      <td>2017-04-21</td>\n      <td>EUR</td>\n      <td>2017-04-21</td>\n      <td>Electronic Fund Transfer</td>\n      <td>2000</td>\n    </tr>\n    <tr>\n      <td>0</td>\n      <td>2017-05-04</td>\n      <td>HKD</td>\n      <td>2017-05-04</td>\n      <td>Electronic Fund Transfer</td>\n      <td>38000</td>\n    </tr>\n    <tr>\n      <td>0</td>\n      <td>2017-09-29</td>\n      <td>HKD</td>\n      <td>2017-09-29</td>\n      <td>Electronic Fund Transfer</td>\n      <td>30000</td>\n    </tr>\n    <tr>\n      <td>0</td>\n      <td>2017-12-22</td>\n      <td>HKD</td>\n      <td>2017-12-22</td>\n      <td>Electronic Fund Transfer</td>\n      <td>30000</td>\n    </tr>\n    <tr>\n      <td>0</td>\n      <td>2018-02-26</td>\n      <td>HKD</td>\n      <td>2018-02-26</td>\n      <td>Personal Check</td>\n      <td>150000</td>\n    </tr>\n    <tr>\n      <td>0</td>\n      <td>2018-08-31</td>\n      <td>HKD</td>\n      <td>2018-08-31</td>\n      <td>Personal Check</td>\n      <td>215000</td>\n    </tr>\n    <tr>\n      <td>0</td>\n      <td>2018-10-29</td>\n      <td>EUR</td>\n      <td>2018-10-29</td>\n      <td>Disbursement Initiated by Francisco Javier Mor...</td>\n      <td>-20000</td>\n    </tr>\n    <tr>\n      <td>1</td>\n      <td>2018-10-29</td>\n      <td>HKD</td>\n      <td>2018-10-29</td>\n      <td>Electronic Fund Transfer</td>\n      <td>166125</td>\n    </tr>\n    <tr>\n      <td>0</td>\n      <td>2018-11-13</td>\n      <td>EUR</td>\n      <td>2018-11-13</td>\n      <td>Disbursement Initiated by Francisco Javier Mor...</td>\n      <td>-20000</td>\n    </tr>\n    <tr>\n      <td>1</td>\n      <td>2018-11-13</td>\n      <td>HKD</td>\n      <td>2018-11-13</td>\n      <td>Electronic Fund Transfer</td>\n      <td>176022</td>\n    </tr>\n    <tr>\n      <td>0</td>\n      <td>2018-12-19</td>\n      <td>USD</td>\n      <td>2018-12-19</td>\n      <td>Electronic Fund Transfer</td>\n      <td>15000</td>\n    </tr>\n    <tr>\n      <td>0</td>\n      <td>2018-12-28</td>\n      <td>USD</td>\n      <td>2018-12-28</td>\n      <td>Electronic Fund Transfer</td>\n      <td>5000</td>\n    </tr>\n    <tr>\n      <td>0</td>\n      <td>2019-02-19</td>\n      <td>EUR</td>\n      <td>2019-02-19</td>\n      <td>Disbursement Initiated by Francisco Javier Mor...</td>\n      <td>-28200</td>\n    </tr>\n    <tr>\n      <td>1</td>\n      <td>2019-02-19</td>\n      <td>HKD</td>\n      <td>2019-02-19</td>\n      <td>Electronic Fund Transfer</td>\n      <td>250000</td>\n    </tr>\n    <tr>\n      <td>0</td>\n      <td>2019-03-28</td>\n      <td>EUR</td>\n      <td>2019-03-28</td>\n      <td>Disbursement Initiated by Francisco Javier Mor...</td>\n      <td>-20000</td>\n    </tr>\n    <tr>\n      <td>1</td>\n      <td>2019-03-28</td>\n      <td>HKD</td>\n      <td>2019-03-28</td>\n      <td>Electronic Fund Transfer</td>\n      <td>180000</td>\n    </tr>\n    <tr>\n      <td>2</td>\n      <td>2019-03-28</td>\n      <td>USD</td>\n      <td>2019-03-28</td>\n      <td>Electronic Fund Transfer</td>\n      <td>3000</td>\n    </tr>\n    <tr>\n      <td>0</td>\n      <td>2019-04-29</td>\n      <td>EUR</td>\n      <td>2019-04-29</td>\n      <td>Disbursement Initiated by Francisco Javier Mor...</td>\n      <td>-500</td>\n    </tr>\n    <tr>\n      <td>0</td>\n      <td>2019-08-16</td>\n      <td>HKD</td>\n      <td>2019-08-16</td>\n      <td>Electronic Fund Transfer</td>\n      <td>100000</td>\n    </tr>\n    <tr>\n      <td>0</td>\n      <td>2019-09-30</td>\n      <td>EUR</td>\n      <td>2019-09-30</td>\n      <td>Disbursement Initiated by Francisco Javier Mor...</td>\n      <td>-10000</td>\n    </tr>\n    <tr>\n      <td>1</td>\n      <td>2019-09-30</td>\n      <td>HKD</td>\n      <td>2019-09-30</td>\n      <td>Electronic Fund Transfer</td>\n      <td>120000</td>\n    </tr>\n  </tbody>\n</table>\n</div>",
      "text/plain": "        Date Currency Settle Date  \\\n0 2016-12-13      USD  2016-12-13   \n0 2017-03-20      HKD  2017-03-20   \n0 2017-04-21      EUR  2017-04-21   \n0 2017-05-04      HKD  2017-05-04   \n0 2017-09-29      HKD  2017-09-29   \n0 2017-12-22      HKD  2017-12-22   \n0 2018-02-26      HKD  2018-02-26   \n0 2018-08-31      HKD  2018-08-31   \n0 2018-10-29      EUR  2018-10-29   \n1 2018-10-29      HKD  2018-10-29   \n0 2018-11-13      EUR  2018-11-13   \n1 2018-11-13      HKD  2018-11-13   \n0 2018-12-19      USD  2018-12-19   \n0 2018-12-28      USD  2018-12-28   \n0 2019-02-19      EUR  2019-02-19   \n1 2019-02-19      HKD  2019-02-19   \n0 2019-03-28      EUR  2019-03-28   \n1 2019-03-28      HKD  2019-03-28   \n2 2019-03-28      USD  2019-03-28   \n0 2019-04-29      EUR  2019-04-29   \n0 2019-08-16      HKD  2019-08-16   \n0 2019-09-30      EUR  2019-09-30   \n1 2019-09-30      HKD  2019-09-30   \n\n                                         Description  Amount  \n0                           Electronic Fund Transfer   12000  \n0                           Electronic Fund Transfer   77500  \n0                           Electronic Fund Transfer    2000  \n0                           Electronic Fund Transfer   38000  \n0                           Electronic Fund Transfer   30000  \n0                           Electronic Fund Transfer   30000  \n0                                     Personal Check  150000  \n0                                     Personal Check  215000  \n0  Disbursement Initiated by Francisco Javier Mor...  -20000  \n1                           Electronic Fund Transfer  166125  \n0  Disbursement Initiated by Francisco Javier Mor...  -20000  \n1                           Electronic Fund Transfer  176022  \n0                           Electronic Fund Transfer   15000  \n0                           Electronic Fund Transfer    5000  \n0  Disbursement Initiated by Francisco Javier Mor...  -28200  \n1                           Electronic Fund Transfer  250000  \n0  Disbursement Initiated by Francisco Javier Mor...  -20000  \n1                           Electronic Fund Transfer  180000  \n2                           Electronic Fund Transfer    3000  \n0  Disbursement Initiated by Francisco Javier Mor...    -500  \n0                           Electronic Fund Transfer  100000  \n0  Disbursement Initiated by Francisco Javier Mor...  -10000  \n1                           Electronic Fund Transfer  120000  "
     },
     "execution_count": 13,
     "metadata": {},
     "output_type": "execute_result"
    }
   ],
   "source": [
    "dw = get_all_depAndWith(folder)\n",
    "dw"
   ]
  },
  {
   "cell_type": "code",
   "execution_count": null,
   "metadata": {},
   "outputs": [],
   "source": []
  }
 ]
}
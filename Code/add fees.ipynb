{
 "nbformat": 4,
 "nbformat_minor": 2,
 "metadata": {
  "language_info": {
   "name": "python",
   "codemirror_mode": {
    "name": "ipython",
    "version": 3
   },
   "version": "3.7.4-final"
  },
  "orig_nbformat": 2,
  "file_extension": ".py",
  "mimetype": "text/x-python",
  "name": "python",
  "npconvert_exporter": "python",
  "pygments_lexer": "ipython3",
  "version": 3,
  "kernelspec": {
   "name": "python37464bitbaseconda1e43623b5feb4079bd18afd99ef417a0",
   "display_name": "Python 3.7.4 64-bit ('base': conda)"
  }
 },
 "cells": [
  {
   "cell_type": "code",
   "execution_count": 1,
   "metadata": {},
   "outputs": [],
   "source": [
    "import os\n",
    "import pandas as pd\n",
    "import numpy as np\n",
    "from pathlib import Path\n",
    "\n"
   ]
  },
  {
   "cell_type": "code",
   "execution_count": 8,
   "metadata": {},
   "outputs": [
    {
     "data": {
      "text/plain": "WindowsPath('d:/Javier/SynologyDrive/Portfolio Python/test/Tables')"
     },
     "execution_count": 8,
     "metadata": {},
     "output_type": "execute_result"
    }
   ],
   "source": [
    "cwd =  Path.cwd()\n",
    "cwd = cwd.parents[1]\n",
    "folder = cwd /'test'/'IBActivityNew'\n",
    "\n",
    "tables = cwd /'test'/ 'Tables'\n",
    "tables"
   ]
  },
  {
   "cell_type": "code",
   "execution_count": 21,
   "metadata": {},
   "outputs": [],
   "source": [
    "def process_fees(data):\n",
    "    data_ca = data.loc[data.a =='Fees']\n",
    "    if len(data_ca) > 0:\n",
    "        ca = data_ca.loc[data_ca.b == 'Data']\n",
    "        if len(ca) > 0:\n",
    "            first_row = ca.index.values[0]-1\n",
    "            header_row = list(data_ca.loc[first_row])\n",
    "            ca.columns = header_row\n",
    "            ca = ca.loc[:,ca.columns.notna()] \n",
    "            ca.drop(columns=['Fees','Header'], inplace=True, errors='ignore')\n",
    "            ca.dropna(axis=0,inplace=True)\n",
    "            return ca"
   ]
  },
  {
   "cell_type": "code",
   "execution_count": 4,
   "metadata": {},
   "outputs": [],
   "source": [
    "def convert_to_df(a_file):\n",
    "    data = pd.read_csv(folder/a_file, names=list('abcdefghijklmnopq'))\n",
    "    #data.drop(data.loc[(data.a == 'Notes/Legal Notes') | (data.a == 'Codes') ].index, inplace= True)\n",
    "    #data = (data.a != 'Codes') & (data.a != 'Notes/Legal Notes')\n",
    "    data = data.loc[~data.a.isin(['Statement','Codes', 'Notes/Legal Notes','Account Information','Change in NAV','Mark-to-Market Performance Summary','Realized & Unrealized Performance Summary','Open Positions'])]\n",
    "    return data"
   ]
  },
  {
   "cell_type": "code",
   "execution_count": 17,
   "metadata": {},
   "outputs": [],
   "source": [
    "def get_all_fees(folder):\n",
    "    #Creates a list of all files in folder\n",
    "    filelist = os.listdir(folder)\n",
    "    #Creates a empty list to append all dataframes\n",
    "    fees_list = []\n",
    "    #Iterates through all files in filelist\n",
    "    for file_ in filelist:\n",
    "        #Checks if file is a .csv\n",
    "        if file_.lower().endswith('.csv'):\n",
    "            data = convert_to_df(file_)\n",
    "            fee = process_fees(data)\n",
    "            if type(fee) != 'NonType':\n",
    "                fees_list.append(fee)\n",
    "    fees = pd.concat(fees_list,sort=False )\n",
    "    return fees"
   ]
  },
  {
   "cell_type": "code",
   "execution_count": 22,
   "metadata": {},
   "outputs": [
    {
     "name": "stdout",
     "output_type": "stream",
     "text": "Wall time: 4.43 s\n"
    },
    {
     "data": {
      "text/html": "<div>\n<style scoped>\n    .dataframe tbody tr th:only-of-type {\n        vertical-align: middle;\n    }\n\n    .dataframe tbody tr th {\n        vertical-align: top;\n    }\n\n    .dataframe thead th {\n        text-align: right;\n    }\n</style>\n<table border=\"1\" class=\"dataframe\">\n  <thead>\n    <tr style=\"text-align: right;\">\n      <th></th>\n      <th>Subtitle</th>\n      <th>Currency</th>\n      <th>Date</th>\n      <th>Description</th>\n      <th>Amount</th>\n    </tr>\n  </thead>\n  <tbody>\n    <tr>\n      <td>114</td>\n      <td>Other Fees</td>\n      <td>USD</td>\n      <td>2017-04-04</td>\n      <td>AMEX Level I for Mar 2017</td>\n      <td>-1.5</td>\n    </tr>\n    <tr>\n      <td>115</td>\n      <td>Other Fees</td>\n      <td>USD</td>\n      <td>2017-04-04</td>\n      <td>OPRA (US Options Exchanges) Non-Professional L...</td>\n      <td>-1.5</td>\n    </tr>\n    <tr>\n      <td>129</td>\n      <td>Other Fees</td>\n      <td>USD</td>\n      <td>2017-05-03</td>\n      <td>AMEX Level I for Apr 2017</td>\n      <td>-1.5</td>\n    </tr>\n    <tr>\n      <td>130</td>\n      <td>Other Fees</td>\n      <td>USD</td>\n      <td>2017-05-03</td>\n      <td>BME (MEFF) Non-Professional Level I for Apr 2017</td>\n      <td>-2.45</td>\n    </tr>\n    <tr>\n      <td>131</td>\n      <td>Other Fees</td>\n      <td>USD</td>\n      <td>2017-05-03</td>\n      <td>NYSE Level I for Apr 2017</td>\n      <td>-1.5</td>\n    </tr>\n    <tr>\n      <td>...</td>\n      <td>...</td>\n      <td>...</td>\n      <td>...</td>\n      <td>...</td>\n      <td>...</td>\n    </tr>\n    <tr>\n      <td>1017</td>\n      <td>Other Fees</td>\n      <td>USD</td>\n      <td>2019-10-02</td>\n      <td>j******17:US Equity and Options Add-On Streami...</td>\n      <td>-4.5</td>\n    </tr>\n    <tr>\n      <td>1018</td>\n      <td>Other Fees</td>\n      <td>USD</td>\n      <td>2019-10-02</td>\n      <td>J******17:EURVALUENP FOR OCT 2019</td>\n      <td>-13.62</td>\n    </tr>\n    <tr>\n      <td>1019</td>\n      <td>Other Fees</td>\n      <td>USD</td>\n      <td>2019-10-02</td>\n      <td>J******17:HKFE L1 FOR OCT 2019</td>\n      <td>-3.19</td>\n    </tr>\n    <tr>\n      <td>1020</td>\n      <td>Other Fees</td>\n      <td>USD</td>\n      <td>2019-10-02</td>\n      <td>j******17:US Securities Snapshot and Futures V...</td>\n      <td>-10</td>\n    </tr>\n    <tr>\n      <td>1021</td>\n      <td>Other Fees</td>\n      <td>USD</td>\n      <td>2019-10-02</td>\n      <td>J******17:STUTTGART NP L1 FOR OCT 2019</td>\n      <td>-5.99</td>\n    </tr>\n  </tbody>\n</table>\n<p>260 rows × 5 columns</p>\n</div>",
      "text/plain": "        Subtitle Currency        Date  \\\n114   Other Fees      USD  2017-04-04   \n115   Other Fees      USD  2017-04-04   \n129   Other Fees      USD  2017-05-03   \n130   Other Fees      USD  2017-05-03   \n131   Other Fees      USD  2017-05-03   \n...          ...      ...         ...   \n1017  Other Fees      USD  2019-10-02   \n1018  Other Fees      USD  2019-10-02   \n1019  Other Fees      USD  2019-10-02   \n1020  Other Fees      USD  2019-10-02   \n1021  Other Fees      USD  2019-10-02   \n\n                                            Description  Amount  \n114                           AMEX Level I for Mar 2017    -1.5  \n115   OPRA (US Options Exchanges) Non-Professional L...    -1.5  \n129                           AMEX Level I for Apr 2017    -1.5  \n130    BME (MEFF) Non-Professional Level I for Apr 2017   -2.45  \n131                           NYSE Level I for Apr 2017    -1.5  \n...                                                 ...     ...  \n1017  j******17:US Equity and Options Add-On Streami...    -4.5  \n1018                  J******17:EURVALUENP FOR OCT 2019  -13.62  \n1019                     J******17:HKFE L1 FOR OCT 2019   -3.19  \n1020  j******17:US Securities Snapshot and Futures V...     -10  \n1021             J******17:STUTTGART NP L1 FOR OCT 2019   -5.99  \n\n[260 rows x 5 columns]"
     },
     "execution_count": 22,
     "metadata": {},
     "output_type": "execute_result"
    }
   ],
   "source": [
    "%%time\n",
    "fees = get_all_fees(folder)\n",
    "fees"
   ]
  },
  {
   "cell_type": "code",
   "execution_count": null,
   "metadata": {},
   "outputs": [],
   "source": []
  }
 ]
}
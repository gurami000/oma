{
 "cells": [
  {
   "cell_type": "code",
   "execution_count": 1,
   "metadata": {},
   "outputs": [],
   "source": [
    "import pandas as pd\n",
    "import os\n",
    "import sys"
   ]
  },
  {
   "cell_type": "code",
   "execution_count": 2,
   "metadata": {},
   "outputs": [
    {
     "data": {
      "text/plain": "'0.25.1'"
     },
     "execution_count": 2,
     "metadata": {},
     "output_type": "execute_result"
    }
   ],
   "source": [
    "pd.__version__"
   ]
  },
  {
   "cell_type": "code",
   "execution_count": 33,
   "metadata": {},
   "outputs": [],
   "source": [
    "#os.chdir('D:\\Javier\\SynologyDrive\\Portfolio Python\\Test')"
   ]
  },
  {
   "cell_type": "code",
   "execution_count": 37,
   "metadata": {},
   "outputs": [],
   "source": [
    "folder = 'D:\\Javier\\SynologyDrive\\Portfolio Python\\Test\\IBActivityNew'\n",
    "\n"
   ]
  },
  {
   "cell_type": "code",
   "execution_count": 5,
   "metadata": {},
   "outputs": [],
   "source": [
    "tables = 'D:\\Javier\\SynologyDrive\\Portfolio Python\\Test\\Tables'"
   ]
  },
  {
   "cell_type": "markdown",
   "metadata": {},
   "source": [
    "## Functions"
   ]
  },
  {
   "cell_type": "code",
   "execution_count": 19,
   "metadata": {},
   "outputs": [],
   "source": [
    "#Get all Forex\n",
    "def get_all_forex(folder):\n",
    "    #Creates a list of all files in folder.\n",
    "    filelist = os.listdir(folder)\n",
    "    #Creates a empty list to append all dataframes\n",
    "    dataframe_list = []\n",
    "    #Iterates through all files in filelist\n",
    "    for file in filelist:\n",
    "        #Checks if file is a .csv\n",
    "        if file.lower().endswith('.csv'):\n",
    "            # Creates a relative path from working directory to the current element of filelist\n",
    "            file_path = os.path.join('IbActivityNew', file)\n",
    "            # reads file and creates a dataframe forcing 17 columns\n",
    "            data = pd.read_csv(file_path, names=list('abcdefghijklmnopq'))\n",
    "            # Filters first column 'Trades' values\n",
    "            data_trades = data[data.a == 'Trades']\n",
    "            #Checks if any trades on file\n",
    "            if len(data_trades) > 0:\n",
    "                # Dataframe from the first row\n",
    "                data_headers = data_trades.iloc[0]\n",
    "                #Uncoment this line and related if necessary to make collumns single word. Comment out equivalent lines\n",
    "                #data_headers = data_headers.str.replace(' ', '_')\n",
    "                # Convert dataframe to list\n",
    "                data_headers = list(data_headers)\n",
    "                # Assigns values to Coumns           \n",
    "                data_trades.columns = data_headers\n",
    "                # Removes first row that now is duplicated\n",
    "                trades = data_trades.drop(data_trades.index[0])\n",
    "                #Filters data\n",
    "                trades = trades[trades.Header == 'Data']\n",
    "                trades = trades[trades['Asset Category'] == 'Forex']\n",
    "                #trades = trades[data_trades['Asset_Category'] != 'Forex']\n",
    "                #Check if any trades after filtering\n",
    "                if len(trades) > 0:\n",
    "                    # Remove columns with NaN values\n",
    "                    trades = trades.dropna(axis=1)\n",
    "                    #trades = trades.drop(columns=['Trades','Header','DataDiscriminator')\n",
    "                    # Removes columns\n",
    "                    delete_columns = ['Trades','Header','DataDiscriminator','Basis','Realized P/L','C. Price','MTM P/L','MTM in USD','Code']\n",
    "                    for  i in  delete_columns:\n",
    "                        if i in trades.columns:\n",
    "                            trades = trades.drop(columns=i)             \n",
    "                \n",
    "                    #trades = trades.drop(columns=['Trades','Header','DataDiscriminator'])\n",
    "                    # Fix some incorrect values on Quantity eg 2,000 -> 2000\n",
    "                    trades['Quantity'] = trades['Quantity'].str.replace(',', '')\n",
    "                    trades.rename(columns={'Comm in USD': 'Comm/Fee'}, inplace=True)\n",
    "                    # Appends to dataframe list\n",
    "                    dataframe_list.append(trades)\n",
    "                # Checks if dataframe list is empty    \n",
    "                if len(dataframe_list) > 0:\n",
    "                # Concatenates all dataframes\n",
    "                # Creates a dataframe with all new trades\n",
    "                    dataframe = pd.concat(dataframe_list,sort=False ).reset_index(drop=True)\n",
    "                    dataframe['Proceeds'] = dataframe['Proceeds'].astype('float')\n",
    "                    dataframe['Quantity'] = dataframe['Quantity'].astype('float')\n",
    "                    dataframe['T. Price'] = dataframe['T. Price'].astype('float')\n",
    "                    dataframe['Comm/Fee'] = dataframe['Comm/Fee'].astype('float')\n",
    "                    dataframe['Date/Time'] = pd.to_datetime(dataframe['Date/Time'])\n",
    "                    dataframe['Quantity_Rsum'] =  dataframe.groupby(['Symbol'])['Quantity'].transform(lambda x : x.cumsum())\n",
    "\n",
    "    return dataframe"
   ]
  },
  {
   "cell_type": "code",
   "execution_count": 38,
   "metadata": {},
   "outputs": [],
   "source": [
    "all_forex = get_all_forex(folder)"
   ]
  },
  {
   "cell_type": "code",
   "execution_count": 21,
   "metadata": {},
   "outputs": [],
   "source": [
    "#Save .csv\n",
    "#all_forex.to_csv((os.path.join(tables,r'tables_forex.csv')))"
   ]
  },
  {
   "cell_type": "code",
   "execution_count": 39,
   "metadata": {},
   "outputs": [
    {
     "data": {
      "text/html": "<div>\n<style scoped>\n    .dataframe tbody tr th:only-of-type {\n        vertical-align: middle;\n    }\n\n    .dataframe tbody tr th {\n        vertical-align: top;\n    }\n\n    .dataframe thead th {\n        text-align: right;\n    }\n</style>\n<table border=\"1\" class=\"dataframe\">\n  <thead>\n    <tr style=\"text-align: right;\">\n      <th></th>\n      <th>Asset Category</th>\n      <th>Currency</th>\n      <th>Symbol</th>\n      <th>Date/Time</th>\n      <th>Quantity</th>\n      <th>T. Price</th>\n      <th>Proceeds</th>\n      <th>Comm/Fee</th>\n      <th>Quantity_Rsum</th>\n    </tr>\n  </thead>\n  <tbody>\n    <tr>\n      <td>0</td>\n      <td>Forex</td>\n      <td>HKD</td>\n      <td>USD.HKD</td>\n      <td>2017-03-20 10:51:15</td>\n      <td>9000.0000</td>\n      <td>7.76574</td>\n      <td>-69891.660000</td>\n      <td>-2.00000</td>\n      <td>9000.0000</td>\n    </tr>\n    <tr>\n      <td>1</td>\n      <td>Forex</td>\n      <td>HKD</td>\n      <td>USD.HKD</td>\n      <td>2017-05-25 10:00:03</td>\n      <td>2000.0000</td>\n      <td>7.79131</td>\n      <td>-15582.620000</td>\n      <td>-2.00000</td>\n      <td>11000.0000</td>\n    </tr>\n    <tr>\n      <td>2</td>\n      <td>Forex</td>\n      <td>HKD</td>\n      <td>USD.HKD</td>\n      <td>2017-07-04 09:43:20</td>\n      <td>3845.0000</td>\n      <td>7.80751</td>\n      <td>-30019.875950</td>\n      <td>-2.00000</td>\n      <td>14845.0000</td>\n    </tr>\n    <tr>\n      <td>3</td>\n      <td>Forex</td>\n      <td>HKD</td>\n      <td>USD.HKD</td>\n      <td>2017-07-06 18:08:50</td>\n      <td>0.7482</td>\n      <td>7.81055</td>\n      <td>-5.843854</td>\n      <td>0.00000</td>\n      <td>14845.7482</td>\n    </tr>\n    <tr>\n      <td>4</td>\n      <td>Forex</td>\n      <td>HKD</td>\n      <td>USD.HKD</td>\n      <td>2017-11-21 09:55:29</td>\n      <td>3840.0000</td>\n      <td>7.81137</td>\n      <td>-29995.660800</td>\n      <td>-2.00000</td>\n      <td>18685.7482</td>\n    </tr>\n    <tr>\n      <td>5</td>\n      <td>Forex</td>\n      <td>HKD</td>\n      <td>USD.HKD</td>\n      <td>2017-11-23 18:47:55</td>\n      <td>0.5555</td>\n      <td>7.81135</td>\n      <td>-4.339205</td>\n      <td>0.00000</td>\n      <td>18686.3037</td>\n    </tr>\n    <tr>\n      <td>6</td>\n      <td>Forex</td>\n      <td>USD</td>\n      <td>EUR.USD</td>\n      <td>2017-11-28 22:09:23</td>\n      <td>20000.0000</td>\n      <td>1.18520</td>\n      <td>-23704.000000</td>\n      <td>-2.00000</td>\n      <td>20000.0000</td>\n    </tr>\n    <tr>\n      <td>7</td>\n      <td>Forex</td>\n      <td>USD</td>\n      <td>EUR.USD</td>\n      <td>2017-11-29 01:30:35</td>\n      <td>-20000.0000</td>\n      <td>1.18595</td>\n      <td>23719.000000</td>\n      <td>-2.00000</td>\n      <td>0.0000</td>\n    </tr>\n    <tr>\n      <td>8</td>\n      <td>Forex</td>\n      <td>USD</td>\n      <td>EUR.USD</td>\n      <td>2017-12-20 03:32:12</td>\n      <td>20000.0000</td>\n      <td>1.18482</td>\n      <td>-23696.400000</td>\n      <td>-2.00000</td>\n      <td>20000.0000</td>\n    </tr>\n    <tr>\n      <td>9</td>\n      <td>Forex</td>\n      <td>USD</td>\n      <td>EUR.USD</td>\n      <td>2017-12-20 10:19:13</td>\n      <td>-20000.0000</td>\n      <td>1.18780</td>\n      <td>23756.000000</td>\n      <td>-2.00000</td>\n      <td>0.0000</td>\n    </tr>\n    <tr>\n      <td>10</td>\n      <td>Forex</td>\n      <td>USD</td>\n      <td>EUR.USD</td>\n      <td>2017-12-21 04:35:24</td>\n      <td>50000.0000</td>\n      <td>1.18800</td>\n      <td>-59400.000000</td>\n      <td>-2.00000</td>\n      <td>50000.0000</td>\n    </tr>\n    <tr>\n      <td>11</td>\n      <td>Forex</td>\n      <td>USD</td>\n      <td>EUR.USD</td>\n      <td>2017-12-27 23:22:08</td>\n      <td>-50000.0000</td>\n      <td>1.19153</td>\n      <td>59576.500000</td>\n      <td>-2.00000</td>\n      <td>0.0000</td>\n    </tr>\n    <tr>\n      <td>12</td>\n      <td>Forex</td>\n      <td>HKD</td>\n      <td>USD.HKD</td>\n      <td>2018-01-08 03:56:02</td>\n      <td>3835.0000</td>\n      <td>7.82179</td>\n      <td>-29996.564650</td>\n      <td>-2.00000</td>\n      <td>22521.3037</td>\n    </tr>\n    <tr>\n      <td>13</td>\n      <td>Forex</td>\n      <td>HKD</td>\n      <td>USD.HKD</td>\n      <td>2018-01-10 18:01:20</td>\n      <td>0.4392</td>\n      <td>7.82265</td>\n      <td>-3.435708</td>\n      <td>0.00000</td>\n      <td>22521.7429</td>\n    </tr>\n    <tr>\n      <td>14</td>\n      <td>Forex</td>\n      <td>USD</td>\n      <td>EUR.USD</td>\n      <td>2018-02-06 10:04:07</td>\n      <td>50000.0000</td>\n      <td>1.23355</td>\n      <td>-61677.500000</td>\n      <td>-2.00000</td>\n      <td>50000.0000</td>\n    </tr>\n    <tr>\n      <td>15</td>\n      <td>Forex</td>\n      <td>USD</td>\n      <td>EUR.USD</td>\n      <td>2018-02-06 10:18:23</td>\n      <td>-100000.0000</td>\n      <td>1.23314</td>\n      <td>123314.000000</td>\n      <td>-2.46628</td>\n      <td>-50000.0000</td>\n    </tr>\n    <tr>\n      <td>16</td>\n      <td>Forex</td>\n      <td>USD</td>\n      <td>EUR.USD</td>\n      <td>2018-02-06 10:37:02</td>\n      <td>50000.0000</td>\n      <td>1.23212</td>\n      <td>-61606.000000</td>\n      <td>-2.00000</td>\n      <td>0.0000</td>\n    </tr>\n    <tr>\n      <td>17</td>\n      <td>Forex</td>\n      <td>HKD</td>\n      <td>USD.HKD</td>\n      <td>2018-03-19 11:46:31</td>\n      <td>7000.0000</td>\n      <td>7.84270</td>\n      <td>-54898.900000</td>\n      <td>-2.00000</td>\n      <td>29521.7429</td>\n    </tr>\n    <tr>\n      <td>18</td>\n      <td>Forex</td>\n      <td>HKD</td>\n      <td>USD.HKD</td>\n      <td>2018-05-17 05:30:34</td>\n      <td>-25000.0000</td>\n      <td>7.84988</td>\n      <td>196247.000000</td>\n      <td>-2.00000</td>\n      <td>4521.7429</td>\n    </tr>\n    <tr>\n      <td>19</td>\n      <td>Forex</td>\n      <td>HKD</td>\n      <td>USD.HKD</td>\n      <td>2018-05-17 07:57:04</td>\n      <td>50000.0000</td>\n      <td>7.84970</td>\n      <td>-392485.000000</td>\n      <td>-2.00000</td>\n      <td>54521.7429</td>\n    </tr>\n    <tr>\n      <td>20</td>\n      <td>Forex</td>\n      <td>USD</td>\n      <td>EUR.USD</td>\n      <td>2018-05-28 12:30:48</td>\n      <td>6000.0000</td>\n      <td>1.16254</td>\n      <td>-6975.240000</td>\n      <td>-2.00000</td>\n      <td>6000.0000</td>\n    </tr>\n    <tr>\n      <td>21</td>\n      <td>Forex</td>\n      <td>USD</td>\n      <td>EUR.USD</td>\n      <td>2018-05-28 12:32:06</td>\n      <td>6000.0000</td>\n      <td>1.16254</td>\n      <td>-6975.240000</td>\n      <td>-2.00000</td>\n      <td>12000.0000</td>\n    </tr>\n    <tr>\n      <td>22</td>\n      <td>Forex</td>\n      <td>HKD</td>\n      <td>EUR.HKD</td>\n      <td>2018-10-25 09:11:37</td>\n      <td>20000.0000</td>\n      <td>8.95358</td>\n      <td>-179071.600000</td>\n      <td>-2.00000</td>\n      <td>20000.0000</td>\n    </tr>\n    <tr>\n      <td>23</td>\n      <td>Forex</td>\n      <td>HKD</td>\n      <td>USD.HKD</td>\n      <td>2018-10-30 18:07:36</td>\n      <td>-0.0570</td>\n      <td>7.84355</td>\n      <td>0.447082</td>\n      <td>0.00000</td>\n      <td>54521.6859</td>\n    </tr>\n    <tr>\n      <td>24</td>\n      <td>Forex</td>\n      <td>HKD</td>\n      <td>EUR.HKD</td>\n      <td>2018-11-12 22:07:48</td>\n      <td>20000.0000</td>\n      <td>8.80109</td>\n      <td>-176021.800000</td>\n      <td>-2.00000</td>\n      <td>40000.0000</td>\n    </tr>\n    <tr>\n      <td>25</td>\n      <td>Forex</td>\n      <td>HKD</td>\n      <td>USD.HKD</td>\n      <td>2018-11-14 18:07:48</td>\n      <td>0.0256</td>\n      <td>7.83135</td>\n      <td>-0.200483</td>\n      <td>0.00000</td>\n      <td>54521.7115</td>\n    </tr>\n    <tr>\n      <td>26</td>\n      <td>Forex</td>\n      <td>HKD</td>\n      <td>EUR.HKD</td>\n      <td>2019-02-19 01:38:00</td>\n      <td>28200.0000</td>\n      <td>8.86507</td>\n      <td>-249994.974000</td>\n      <td>-2.00000</td>\n      <td>68200.0000</td>\n    </tr>\n    <tr>\n      <td>27</td>\n      <td>Forex</td>\n      <td>HKD</td>\n      <td>USD.HKD</td>\n      <td>2019-02-22 18:01:24</td>\n      <td>1.3004</td>\n      <td>7.84825</td>\n      <td>-10.205864</td>\n      <td>0.00000</td>\n      <td>54523.0119</td>\n    </tr>\n    <tr>\n      <td>28</td>\n      <td>Forex</td>\n      <td>HKD</td>\n      <td>USD.HKD</td>\n      <td>2019-03-06 18:01:48</td>\n      <td>0.0216</td>\n      <td>7.84995</td>\n      <td>-0.169559</td>\n      <td>0.00000</td>\n      <td>54523.0335</td>\n    </tr>\n    <tr>\n      <td>29</td>\n      <td>Forex</td>\n      <td>HKD</td>\n      <td>EUR.HKD</td>\n      <td>2019-03-27 21:33:49</td>\n      <td>20376.0000</td>\n      <td>8.83362</td>\n      <td>-179993.841120</td>\n      <td>-2.00000</td>\n      <td>88576.0000</td>\n    </tr>\n    <tr>\n      <td>30</td>\n      <td>Forex</td>\n      <td>HKD</td>\n      <td>USD.HKD</td>\n      <td>2019-03-29 18:01:02</td>\n      <td>0.7846</td>\n      <td>7.84995</td>\n      <td>-6.159071</td>\n      <td>0.00000</td>\n      <td>54523.8181</td>\n    </tr>\n    <tr>\n      <td>31</td>\n      <td>Forex</td>\n      <td>HKD</td>\n      <td>USD.HKD</td>\n      <td>2019-04-04 18:01:19</td>\n      <td>2.6921</td>\n      <td>7.84905</td>\n      <td>-21.130428</td>\n      <td>0.00000</td>\n      <td>54526.5102</td>\n    </tr>\n    <tr>\n      <td>32</td>\n      <td>Forex</td>\n      <td>HKD</td>\n      <td>EUR.HKD</td>\n      <td>2019-08-16 01:30:26</td>\n      <td>5765.0000</td>\n      <td>8.70600</td>\n      <td>-50190.090000</td>\n      <td>-2.00000</td>\n      <td>94341.0000</td>\n    </tr>\n    <tr>\n      <td>33</td>\n      <td>Forex</td>\n      <td>HKD</td>\n      <td>USD.HKD</td>\n      <td>2019-08-16 01:44:55</td>\n      <td>6377.0000</td>\n      <td>7.84188</td>\n      <td>-50007.668760</td>\n      <td>-2.00000</td>\n      <td>60903.5102</td>\n    </tr>\n    <tr>\n      <td>34</td>\n      <td>Forex</td>\n      <td>HKD</td>\n      <td>USD.HKD</td>\n      <td>2019-08-20 18:00:49</td>\n      <td>0.2857</td>\n      <td>7.84255</td>\n      <td>-2.240617</td>\n      <td>0.00000</td>\n      <td>60903.7959</td>\n    </tr>\n  </tbody>\n</table>\n</div>",
      "text/plain": "   Asset Category Currency   Symbol           Date/Time     Quantity  \\\n0           Forex      HKD  USD.HKD 2017-03-20 10:51:15    9000.0000   \n1           Forex      HKD  USD.HKD 2017-05-25 10:00:03    2000.0000   \n2           Forex      HKD  USD.HKD 2017-07-04 09:43:20    3845.0000   \n3           Forex      HKD  USD.HKD 2017-07-06 18:08:50       0.7482   \n4           Forex      HKD  USD.HKD 2017-11-21 09:55:29    3840.0000   \n5           Forex      HKD  USD.HKD 2017-11-23 18:47:55       0.5555   \n6           Forex      USD  EUR.USD 2017-11-28 22:09:23   20000.0000   \n7           Forex      USD  EUR.USD 2017-11-29 01:30:35  -20000.0000   \n8           Forex      USD  EUR.USD 2017-12-20 03:32:12   20000.0000   \n9           Forex      USD  EUR.USD 2017-12-20 10:19:13  -20000.0000   \n10          Forex      USD  EUR.USD 2017-12-21 04:35:24   50000.0000   \n11          Forex      USD  EUR.USD 2017-12-27 23:22:08  -50000.0000   \n12          Forex      HKD  USD.HKD 2018-01-08 03:56:02    3835.0000   \n13          Forex      HKD  USD.HKD 2018-01-10 18:01:20       0.4392   \n14          Forex      USD  EUR.USD 2018-02-06 10:04:07   50000.0000   \n15          Forex      USD  EUR.USD 2018-02-06 10:18:23 -100000.0000   \n16          Forex      USD  EUR.USD 2018-02-06 10:37:02   50000.0000   \n17          Forex      HKD  USD.HKD 2018-03-19 11:46:31    7000.0000   \n18          Forex      HKD  USD.HKD 2018-05-17 05:30:34  -25000.0000   \n19          Forex      HKD  USD.HKD 2018-05-17 07:57:04   50000.0000   \n20          Forex      USD  EUR.USD 2018-05-28 12:30:48    6000.0000   \n21          Forex      USD  EUR.USD 2018-05-28 12:32:06    6000.0000   \n22          Forex      HKD  EUR.HKD 2018-10-25 09:11:37   20000.0000   \n23          Forex      HKD  USD.HKD 2018-10-30 18:07:36      -0.0570   \n24          Forex      HKD  EUR.HKD 2018-11-12 22:07:48   20000.0000   \n25          Forex      HKD  USD.HKD 2018-11-14 18:07:48       0.0256   \n26          Forex      HKD  EUR.HKD 2019-02-19 01:38:00   28200.0000   \n27          Forex      HKD  USD.HKD 2019-02-22 18:01:24       1.3004   \n28          Forex      HKD  USD.HKD 2019-03-06 18:01:48       0.0216   \n29          Forex      HKD  EUR.HKD 2019-03-27 21:33:49   20376.0000   \n30          Forex      HKD  USD.HKD 2019-03-29 18:01:02       0.7846   \n31          Forex      HKD  USD.HKD 2019-04-04 18:01:19       2.6921   \n32          Forex      HKD  EUR.HKD 2019-08-16 01:30:26    5765.0000   \n33          Forex      HKD  USD.HKD 2019-08-16 01:44:55    6377.0000   \n34          Forex      HKD  USD.HKD 2019-08-20 18:00:49       0.2857   \n\n    T. Price       Proceeds  Comm/Fee  Quantity_Rsum  \n0    7.76574  -69891.660000  -2.00000      9000.0000  \n1    7.79131  -15582.620000  -2.00000     11000.0000  \n2    7.80751  -30019.875950  -2.00000     14845.0000  \n3    7.81055      -5.843854   0.00000     14845.7482  \n4    7.81137  -29995.660800  -2.00000     18685.7482  \n5    7.81135      -4.339205   0.00000     18686.3037  \n6    1.18520  -23704.000000  -2.00000     20000.0000  \n7    1.18595   23719.000000  -2.00000         0.0000  \n8    1.18482  -23696.400000  -2.00000     20000.0000  \n9    1.18780   23756.000000  -2.00000         0.0000  \n10   1.18800  -59400.000000  -2.00000     50000.0000  \n11   1.19153   59576.500000  -2.00000         0.0000  \n12   7.82179  -29996.564650  -2.00000     22521.3037  \n13   7.82265      -3.435708   0.00000     22521.7429  \n14   1.23355  -61677.500000  -2.00000     50000.0000  \n15   1.23314  123314.000000  -2.46628    -50000.0000  \n16   1.23212  -61606.000000  -2.00000         0.0000  \n17   7.84270  -54898.900000  -2.00000     29521.7429  \n18   7.84988  196247.000000  -2.00000      4521.7429  \n19   7.84970 -392485.000000  -2.00000     54521.7429  \n20   1.16254   -6975.240000  -2.00000      6000.0000  \n21   1.16254   -6975.240000  -2.00000     12000.0000  \n22   8.95358 -179071.600000  -2.00000     20000.0000  \n23   7.84355       0.447082   0.00000     54521.6859  \n24   8.80109 -176021.800000  -2.00000     40000.0000  \n25   7.83135      -0.200483   0.00000     54521.7115  \n26   8.86507 -249994.974000  -2.00000     68200.0000  \n27   7.84825     -10.205864   0.00000     54523.0119  \n28   7.84995      -0.169559   0.00000     54523.0335  \n29   8.83362 -179993.841120  -2.00000     88576.0000  \n30   7.84995      -6.159071   0.00000     54523.8181  \n31   7.84905     -21.130428   0.00000     54526.5102  \n32   8.70600  -50190.090000  -2.00000     94341.0000  \n33   7.84188  -50007.668760  -2.00000     60903.5102  \n34   7.84255      -2.240617   0.00000     60903.7959  "
     },
     "execution_count": 39,
     "metadata": {},
     "output_type": "execute_result"
    }
   ],
   "source": [
    "all_forex"
   ]
  },
  {
   "cell_type": "code",
   "execution_count": null,
   "metadata": {},
   "outputs": [],
   "source": []
  },
  {
   "cell_type": "code",
   "execution_count": 25,
   "metadata": {},
   "outputs": [],
   "source": [
    "#Get all dividends from all activity statements in folder\n",
    "def get_all_dividends(folder):\n",
    "    #Creates a list of all files in folder\n",
    "    filelist = os.listdir(folder)\n",
    "    #Creates a empty list to append all dataframes\n",
    "    dataframe_list = []\n",
    "        #Iterates through all files in filelist\n",
    "    for file in filelist:\n",
    "        #Checks if file is a .csv\n",
    "        if file.lower().endswith('.csv'):\n",
    "            # Creates a relative path from working directory to the current element of filelist\n",
    "            file_path = os.path.join('IbActivityNew', file)\n",
    "            # reads file and creates a dataframe forcing 17 columns\n",
    "            data = pd.read_csv(file_path, names=list('abcdefghijklmnopq'))\n",
    "            # Dividend accruals happen more than once and cancel each other, so not very useful to get data, but fees\n",
    "            # only appear there, and taxes aand dividends are on the same row, the dividend accrual line with the actual dividend \n",
    "            # payment will ocurr when a 'Dividens' row exists, so both dataframes are created, data cleaned and merged to get the\n",
    "            # the correct dividend\n",
    "            # # BUG ## Fees still not appear\n",
    "            # Filters first column 'Dividends' values\n",
    "            data_dividends = data[data.a == \"Dividends\"]\n",
    "            # Filters first column 'Change in Dividend Accruals' values\n",
    "            data_dividend_accruals = data[data.a == \"Change in Dividend Accruals\"]\n",
    "            #Checks if any Dividends on file\n",
    "            if len(data_dividends) > 0:\n",
    "                # Removes extra rows\n",
    "                data_dividends = data_dividends.dropna(subset=['e'])\n",
    "                # Removes extra columns\n",
    "                data_dividends = data_dividends.drop(columns=['a','b','g','h','i','j','k','l','m','n','o','p','q'])\n",
    "                # Copies first rows values to columns names\n",
    "                data_dividends.columns = data_dividends.iloc[0]\n",
    "                # Remove first row\n",
    "                data_dividends = data_dividends.drop(data_dividends.index[0])\n",
    "                # Splits 'Description' column to get symbol\n",
    "                data_dividends['Description'] = data_dividends['Description'].str.split('(', expand=True)\n",
    "                data_dividends['Description'] = data_dividends['Description'].str.strip()\n",
    "                # Same data cleaning as with 'Dividends' \n",
    "                data_dividend_accruals = data_dividend_accruals.dropna(subset=['h'])\n",
    "                data_dividend_accruals = data_dividend_accruals.drop(columns=['a','b','c','f','g','i','l','o','p','q'])\n",
    "                data_dividend_accruals.columns = data_dividend_accruals.iloc[0]\n",
    "                data_dividend_accruals = data_dividend_accruals.drop(data_dividend_accruals.index[0])\n",
    "                # Merge to get rows from Dividend Accruals matching 'Dividens' (Real payments)\n",
    "                dividends = data_dividend_accruals.merge(data_dividends, left_on=['Currency','Symbol','Pay Date'],right_on=['Currency','Description','Date'], how='left')\n",
    "                # Remove extra rows\n",
    "                dividends = dividends.dropna(subset=['Amount'])\n",
    "                # Remove extra columns\n",
    "                dividends = dividends.drop(columns=['Date','Gross Amount','Description','Amount'])\n",
    "                # Make Net Amount positive for credits and negative for debits\n",
    "                dividends['Net Amount'] = dividends['Net Amount'].astype('float64') * -1\n",
    "                # Append the dataframe to list of dataframes\n",
    "                dataframe_list.append(dividends)\n",
    "    # Concattenates all dataframes         \n",
    "    dataframe = pd.concat(dataframe_list,sort=False ).reset_index(drop=True)\n",
    "    dataframe['Tax'] = dataframe['Tax'].astype('float')\n",
    "    dataframe['Fee'] = dataframe['Fee'].astype('float')\n",
    "    dataframe['Net Amount'] = dataframe['Net Amount'].astype('float')\n",
    "    dataframe['Pay Date'] = pd.to_datetime(dataframe['Pay Date'])\n",
    "    \n",
    "    return dataframe\n"
   ]
  },
  {
   "cell_type": "code",
   "execution_count": null,
   "metadata": {},
   "outputs": [],
   "source": []
  },
  {
   "cell_type": "code",
   "execution_count": 26,
   "metadata": {},
   "outputs": [],
   "source": [
    "dividends_df = get_all_dividends(folder)"
   ]
  },
  {
   "cell_type": "code",
   "execution_count": 27,
   "metadata": {},
   "outputs": [
    {
     "data": {
      "text/html": "<div>\n<style scoped>\n    .dataframe tbody tr th:only-of-type {\n        vertical-align: middle;\n    }\n\n    .dataframe tbody tr th {\n        vertical-align: top;\n    }\n\n    .dataframe thead th {\n        text-align: right;\n    }\n</style>\n<table border=\"1\" class=\"dataframe\">\n  <thead>\n    <tr style=\"text-align: right;\">\n      <th></th>\n      <th>Currency</th>\n      <th>Symbol</th>\n      <th>Pay Date</th>\n      <th>Tax</th>\n      <th>Fee</th>\n      <th>Net Amount</th>\n    </tr>\n  </thead>\n  <tbody>\n    <tr>\n      <td>0</td>\n      <td>USD</td>\n      <td>VZ</td>\n      <td>2017-05-01</td>\n      <td>-17.33</td>\n      <td>0.0</td>\n      <td>40.43</td>\n    </tr>\n    <tr>\n      <td>1</td>\n      <td>USD</td>\n      <td>SBUX</td>\n      <td>2017-05-26</td>\n      <td>-0.75</td>\n      <td>0.0</td>\n      <td>1.75</td>\n    </tr>\n    <tr>\n      <td>2</td>\n      <td>USD</td>\n      <td>IBKR</td>\n      <td>2017-06-14</td>\n      <td>-3.00</td>\n      <td>0.0</td>\n      <td>7.00</td>\n    </tr>\n    <tr>\n      <td>3</td>\n      <td>USD</td>\n      <td>VZ</td>\n      <td>2017-08-01</td>\n      <td>-17.33</td>\n      <td>0.0</td>\n      <td>40.43</td>\n    </tr>\n    <tr>\n      <td>4</td>\n      <td>USD</td>\n      <td>SBUX</td>\n      <td>2017-08-25</td>\n      <td>-0.75</td>\n      <td>0.0</td>\n      <td>1.75</td>\n    </tr>\n    <tr>\n      <td>...</td>\n      <td>...</td>\n      <td>...</td>\n      <td>...</td>\n      <td>...</td>\n      <td>...</td>\n      <td>...</td>\n    </tr>\n    <tr>\n      <td>108</td>\n      <td>USD</td>\n      <td>AAPL</td>\n      <td>2019-08-15</td>\n      <td>-3.70</td>\n      <td>0.0</td>\n      <td>8.62</td>\n    </tr>\n    <tr>\n      <td>109</td>\n      <td>USD</td>\n      <td>CEFL</td>\n      <td>2019-08-20</td>\n      <td>0.00</td>\n      <td>0.0</td>\n      <td>22.77</td>\n    </tr>\n    <tr>\n      <td>110</td>\n      <td>USD</td>\n      <td>MORL</td>\n      <td>2019-08-20</td>\n      <td>0.00</td>\n      <td>0.0</td>\n      <td>10.42</td>\n    </tr>\n    <tr>\n      <td>111</td>\n      <td>EUR</td>\n      <td>VEON</td>\n      <td>2019-08-23</td>\n      <td>-4.13</td>\n      <td>0.0</td>\n      <td>23.40</td>\n    </tr>\n    <tr>\n      <td>112</td>\n      <td>USD</td>\n      <td>SBUX</td>\n      <td>2019-08-23</td>\n      <td>-3.02</td>\n      <td>0.0</td>\n      <td>7.06</td>\n    </tr>\n  </tbody>\n</table>\n<p>113 rows × 6 columns</p>\n</div>",
      "text/plain": "    Currency Symbol   Pay Date    Tax  Fee  Net Amount\n0        USD     VZ 2017-05-01 -17.33  0.0       40.43\n1        USD   SBUX 2017-05-26  -0.75  0.0        1.75\n2        USD   IBKR 2017-06-14  -3.00  0.0        7.00\n3        USD     VZ 2017-08-01 -17.33  0.0       40.43\n4        USD   SBUX 2017-08-25  -0.75  0.0        1.75\n..       ...    ...        ...    ...  ...         ...\n108      USD   AAPL 2019-08-15  -3.70  0.0        8.62\n109      USD   CEFL 2019-08-20   0.00  0.0       22.77\n110      USD   MORL 2019-08-20   0.00  0.0       10.42\n111      EUR   VEON 2019-08-23  -4.13  0.0       23.40\n112      USD   SBUX 2019-08-23  -3.02  0.0        7.06\n\n[113 rows x 6 columns]"
     },
     "execution_count": 27,
     "metadata": {},
     "output_type": "execute_result"
    }
   ],
   "source": [
    "dividends_df"
   ]
  },
  {
   "cell_type": "code",
   "execution_count": 0,
   "metadata": {},
   "outputs": [],
   "source": [
    "#Save .csv\n",
    "#dividends_df.to_csv((os.path.join(tables,r'tables_dividends.csv')))"
   ]
  },
  {
   "cell_type": "code",
   "execution_count": 30,
   "metadata": {},
   "outputs": [],
   "source": [
    "def get_all_fees(folder):\n",
    "    #Creates a list of all files in folder\n",
    "    filelist = os.listdir(folder)\n",
    "    #Creates a empty list to append all dataframes\n",
    "    dataframe_list = []\n",
    "        #Iterates through all files in filelist\n",
    "    for file in filelist:\n",
    "        #Checks if file is a .csv\n",
    "        if file.lower().endswith('.csv'):\n",
    "            # Creates a relative path from working directory to the current element of filelist\n",
    "            file_path = os.path.join('IbActivityNew', file)\n",
    "            # reads file and creates a dataframe forcing 17 columns\n",
    "            data = pd.read_csv(file_path, names=list('abcdefghijklmnopq'))\n",
    "            # # BUG ## Fees still not appear\n",
    "            # Filters first column 'Dividends' values\n",
    "            data_fees = data[data.a == \"Fees\"]\n",
    "            if len(data_fees) > 0:\n",
    "                data_fees = data_fees.dropna(subset=['e'])\n",
    "                data_fees = data_fees.drop(columns=['a','b','c','h','i','j','k','l','m','n','o','p','q'])\n",
    "                data_fees.columns = data_fees.iloc[0]\n",
    "                data_fees = data_fees.drop(data_fees.index[0])\n",
    "                dataframe_list.append(data_fees)\n",
    "    dataframe = pd.concat(dataframe_list,sort=False )\n",
    "    return dataframe"
   ]
  },
  {
   "cell_type": "code",
   "execution_count": 31,
   "metadata": {},
   "outputs": [],
   "source": [
    "fees_df = get_all_fees(folder)"
   ]
  },
  {
   "cell_type": "code",
   "execution_count": 32,
   "metadata": {},
   "outputs": [
    {
     "data": {
      "text/html": "<div>\n<style scoped>\n    .dataframe tbody tr th:only-of-type {\n        vertical-align: middle;\n    }\n\n    .dataframe tbody tr th {\n        vertical-align: top;\n    }\n\n    .dataframe thead th {\n        text-align: right;\n    }\n</style>\n<table border=\"1\" class=\"dataframe\">\n  <thead>\n    <tr style=\"text-align: right;\">\n      <th></th>\n      <th>Currency</th>\n      <th>Date</th>\n      <th>Description</th>\n      <th>Amount</th>\n    </tr>\n  </thead>\n  <tbody>\n    <tr>\n      <td>114</td>\n      <td>USD</td>\n      <td>2017-04-04</td>\n      <td>AMEX Level I for Mar 2017</td>\n      <td>-1.5</td>\n    </tr>\n    <tr>\n      <td>115</td>\n      <td>USD</td>\n      <td>2017-04-04</td>\n      <td>OPRA (US Options Exchanges) Non-Professional L...</td>\n      <td>-1.5</td>\n    </tr>\n    <tr>\n      <td>129</td>\n      <td>USD</td>\n      <td>2017-05-03</td>\n      <td>AMEX Level I for Apr 2017</td>\n      <td>-1.5</td>\n    </tr>\n    <tr>\n      <td>130</td>\n      <td>USD</td>\n      <td>2017-05-03</td>\n      <td>BME (MEFF) Non-Professional Level I for Apr 2017</td>\n      <td>-2.45</td>\n    </tr>\n    <tr>\n      <td>131</td>\n      <td>USD</td>\n      <td>2017-05-03</td>\n      <td>NYSE Level I for Apr 2017</td>\n      <td>-1.5</td>\n    </tr>\n    <tr>\n      <td>...</td>\n      <td>...</td>\n      <td>...</td>\n      <td>...</td>\n      <td>...</td>\n    </tr>\n    <tr>\n      <td>572</td>\n      <td>USD</td>\n      <td>2019-08-05</td>\n      <td>J******17:HKFE L1 FOR AUG 2019</td>\n      <td>-3.19</td>\n    </tr>\n    <tr>\n      <td>573</td>\n      <td>USD</td>\n      <td>2019-08-05</td>\n      <td>j******17:US Securities Snapshot and Futures V...</td>\n      <td>10</td>\n    </tr>\n    <tr>\n      <td>574</td>\n      <td>USD</td>\n      <td>2019-08-05</td>\n      <td>j******17:US Securities Snapshot and Futures V...</td>\n      <td>-10</td>\n    </tr>\n    <tr>\n      <td>575</td>\n      <td>USD</td>\n      <td>2019-08-05</td>\n      <td>J******17:STUTTGART NP L1 FOR AUG 2019</td>\n      <td>-6.09</td>\n    </tr>\n    <tr>\n      <td>576</td>\n      <td>USD</td>\n      <td>2019-08-09</td>\n      <td>BIDU(US0567521085) ADR Fee USD 0.02 per Share</td>\n      <td>-0.2</td>\n    </tr>\n  </tbody>\n</table>\n<p>248 rows × 4 columns</p>\n</div>",
      "text/plain": "    Currency        Date                                        Description  \\\n114      USD  2017-04-04                          AMEX Level I for Mar 2017   \n115      USD  2017-04-04  OPRA (US Options Exchanges) Non-Professional L...   \n129      USD  2017-05-03                          AMEX Level I for Apr 2017   \n130      USD  2017-05-03   BME (MEFF) Non-Professional Level I for Apr 2017   \n131      USD  2017-05-03                          NYSE Level I for Apr 2017   \n..       ...         ...                                                ...   \n572      USD  2019-08-05                     J******17:HKFE L1 FOR AUG 2019   \n573      USD  2019-08-05  j******17:US Securities Snapshot and Futures V...   \n574      USD  2019-08-05  j******17:US Securities Snapshot and Futures V...   \n575      USD  2019-08-05             J******17:STUTTGART NP L1 FOR AUG 2019   \n576      USD  2019-08-09      BIDU(US0567521085) ADR Fee USD 0.02 per Share   \n\n    Amount  \n114   -1.5  \n115   -1.5  \n129   -1.5  \n130  -2.45  \n131   -1.5  \n..     ...  \n572  -3.19  \n573     10  \n574    -10  \n575  -6.09  \n576   -0.2  \n\n[248 rows x 4 columns]"
     },
     "execution_count": 32,
     "metadata": {},
     "output_type": "execute_result"
    }
   ],
   "source": [
    "fees_df"
   ]
  },
  {
   "cell_type": "code",
   "execution_count": 0,
   "metadata": {},
   "outputs": [],
   "source": [
    "fees_df.to_csv((os.path.join(tables,r'tables_fees.csv')))"
   ]
  },
  {
   "cell_type": "markdown",
   "metadata": {},
   "source": [
    "## Notes\n",
    "- ADR fees on dividend accruals on file are also are on fee. Included here in tables_fees \n"
   ]
  },
  {
   "cell_type": "markdown",
   "metadata": {},
   "source": [
    "## Work in Progress\n",
    "+ Make a dictionary of hash files \n",
    "- check if new files in dictionary and process \n",
    "- save to a file\n",
    "- ADR fee https://ibkr.info/article/1185"
   ]
  },
  {
   "cell_type": "markdown",
   "metadata": {},
   "source": [
    "### Relative paths with os.path.join"
   ]
  },
  {
   "cell_type": "code",
   "execution_count": 8,
   "metadata": {},
   "outputs": [
    {
     "data": {
      "text/plain": "'d:\\\\Javier\\\\SynologyDrive\\\\Portfolio Python\\\\test'"
     },
     "execution_count": 8,
     "metadata": {},
     "output_type": "execute_result"
    }
   ],
   "source": [
    "os.getcwd()"
   ]
  },
  {
   "cell_type": "code",
   "execution_count": null,
   "metadata": {},
   "outputs": [],
   "source": []
  }
 ],
 "metadata": {
  "file_extension": ".py",
  "kernelspec": {
   "display_name": "Python 3.7.4 64-bit ('base': conda)",
   "language": "python",
   "name": "python37464bitbaseconda1e43623b5feb4079bd18afd99ef417a0"
  },
  "language_info": {
   "codemirror_mode": {
    "name": "ipython",
    "version": 3
   },
   "file_extension": ".py",
   "mimetype": "text/x-python",
   "name": "python",
   "nbconvert_exporter": "python",
   "pygments_lexer": "ipython3",
   "version": "3.7.4-final"
  },
  "mimetype": "text/x-python",
  "name": "python",
  "npconvert_exporter": "python",
  "pygments_lexer": "ipython3",
  "version": 3
 },
 "nbformat": 4,
 "nbformat_minor": 2
}
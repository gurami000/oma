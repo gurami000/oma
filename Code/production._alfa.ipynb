{
 "nbformat": 4,
 "nbformat_minor": 2,
 "metadata": {
  "language_info": {
   "name": "python",
   "codemirror_mode": {
    "name": "ipython",
    "version": 3
   },
   "version": "3.7.4-final"
  },
  "orig_nbformat": 2,
  "file_extension": ".py",
  "mimetype": "text/x-python",
  "name": "python",
  "npconvert_exporter": "python",
  "pygments_lexer": "ipython3",
  "version": 3,
  "kernelspec": {
   "name": "python37464bitbasecondafc973df1ce424b17b41caafa44b5e9ca",
   "display_name": "Python 3.7.4 64-bit ('base': conda)"
  }
 },
 "cells": [
  {
   "cell_type": "code",
   "execution_count": 1,
   "metadata": {},
   "outputs": [],
   "source": [
    "import pandas as pd\n",
    "import os\n",
    "import shutil\n",
    "from pathlib import Path\n",
    "import numpy as np\n",
    "\n",
    "from helpers.functions import convert_to_df, process_ca,  process_data, process_depAndWith, process_div, process_tax, process_fees, process_pv ,process_DW_In_Base,process_option_prices,process_option_prices ,get_all_trades,get_all_corporate_actions ,get_all_depAndWith, get_all_dividends, get_all_fees, get_all_portfolio_value, get_all_DW_In_Base,get_all_option_prices ,calculate_PL, updatePL, update_symbol_names\n",
    "\n"
   ]
  },
  {
   "cell_type": "code",
   "execution_count": 51,
   "metadata": {},
   "outputs": [],
   "source": [
    "cwd =  Path.cwd()\n",
    "\n",
    "folder = cwd /'data'\n",
    "ibactivity = folder/'ibactivity'\n",
    "tables = cwd / 'data'/'tables'\n"
   ]
  },
  {
   "cell_type": "code",
   "execution_count": 54,
   "metadata": {},
   "outputs": [
    {
     "name": "stdout",
     "output_type": "stream",
     "text": "True\n"
    }
   ],
   "source": [
    "#get all trades\n",
    "# check if tables files exist and not empty\n",
    "if (tables/'tables_trades.csv').is_file() == True:\n",
    "    if os.stat(tables / 'tables_trades.csv').st_size > 2:\n",
    "        trades = pd.read_csv(tables/'tables_trades.csv')\n",
    "        new_trades = get_all_trades(ibactivity)\n",
    "        trades = trades.append(new_trades)\n",
    "else:\n",
    "    trades = get_all_trades(ibactivity)\n",
    "trades = updatePL(trades)"
   ]
  },
  {
   "cell_type": "code",
   "execution_count": 57,
   "metadata": {},
   "outputs": [],
   "source": [
    "#get all deposit and withdrawals\n",
    "if (tables/'tables_deposits_and_withdrawals.csv').is_file() == True:\n",
    "    if os.stat(tables / 'tables_deposits_and_withdrawals.csv').st_size >2:\n",
    "        depWith = pd.read_csv(tables/'tables_deposits_and_withdrawals.csv')\n",
    "        new_depWith = get_all_depAndWith(ibactivity)\n",
    "        depWith = depWith.append(new_depWith)\n",
    "else:\n",
    "    depWith = get_all_depAndWith(ibactivity)"
   ]
  },
  {
   "cell_type": "code",
   "execution_count": 59,
   "metadata": {},
   "outputs": [],
   "source": [
    "#get all Dividends\n",
    "if (tables/'tables_dividends.csv').is_file() == True:\n",
    "    if os.stat(tables / 'tables_dividends.csv').st_size >2:\n",
    "        divs = pd.read_csv(tables/'tables_dividends.csv')\n",
    "        new_divs = get_all_dividends(ibactivity)\n",
    "        divs = divs.append(new_divs)\n",
    "else:\n",
    "    divs = get_all_dividends(ibactivity)"
   ]
  },
  {
   "cell_type": "code",
   "execution_count": 61,
   "metadata": {},
   "outputs": [],
   "source": [
    "# get all Forex\n",
    "# forex is in trades"
   ]
  },
  {
   "cell_type": "code",
   "execution_count": 62,
   "metadata": {},
   "outputs": [],
   "source": [
    "#Get all Fees\n",
    "if (tables/'tables_fees.csv').is_file() == True:\n",
    "    if os.stat(tables / 'tables_fees.csv').st_size >2:\n",
    "        fees = pd.read_csv(tables/'tables_fees.csv')\n",
    "        new_fees = get_all_fees(ibactivity)\n",
    "        fees = fees.append(new_fees)\n",
    "else:\n",
    "    fees = get_all_fees(ibactivity)"
   ]
  },
  {
   "cell_type": "code",
   "execution_count": 64,
   "metadata": {},
   "outputs": [],
   "source": [
    "#get all dw in base\n",
    "if (tables/'tables_dw_in_base.csv').is_file() == True:\n",
    "    if os.stat(tables / 'tables_dw_in_base.csv').st_size >2:\n",
    "        dwb = pd.read_csv(tables/'tables_dw_in_base.csv')\n",
    "        new_dw= get_all_DW_In_Base(ibactivity)\n",
    "        dwb = fees.append(new_fees)\n",
    "else:\n",
    "    dwb = get_all_DW_In_Base(ibactivity)"
   ]
  },
  {
   "cell_type": "code",
   "execution_count": 66,
   "metadata": {},
   "outputs": [],
   "source": [
    "#portfolio_value\n",
    "if (tables/'tables_portfolio_value.csv').is_file() == True:\n",
    "    if os.stat(tables / 'tables_portfolio_value.csv').st_size >2:\n",
    "        pv = pd.read_csv(tables/'tables_portfolio_value.csv')\n",
    "        new_pv =  get_all_portfolio_value(ibactivity)\n",
    "        pv = fees.append(new_fees, sort=False)\n",
    "else:\n",
    "    pv =  get_all_portfolio_value(ibactivity)"
   ]
  },
  {
   "cell_type": "code",
   "execution_count": 68,
   "metadata": {},
   "outputs": [],
   "source": [
    "#get all corporate actions\n",
    "if (tables/'tables_corporate_actions.csv').is_file() == True:\n",
    "    if os.stat(tables / 'tables_corporate_actions.csv').st_size >2:\n",
    "        ca = pd.read_csv(tables/'tables_corporate_actions.csv')\n",
    "        new_ca = get_all_corporate_actions(ibactivity)\n",
    "        ca = fees.append(new_ca)\n",
    "else:\n",
    "    ca = get_all_corporate_actions(ibactivity)"
   ]
  },
  {
   "cell_type": "code",
   "execution_count": null,
   "metadata": {},
   "outputs": [],
   "source": [
    "#Option Prices\n",
    "if (tables/'tables_close_prices.csv').is_file() == True:\n",
    "    if os.stat(tables / 'tables_close_prices.csv').st_size >2:\n",
    "        ca = pd.read_csv(tables/'tables_close_prices.csv')\n",
    "        new_ca = get_all_option_prices(ibactivity)\n",
    "        ca = fees.append(new_ca)\n",
    "else:\n",
    "    ca = get_all_get_all_option_prices(ibactivity)"
   ]
  },
  {
   "cell_type": "code",
   "execution_count": null,
   "metadata": {},
   "outputs": [],
   "source": []
  },
  {
   "cell_type": "code",
   "execution_count": 69,
   "metadata": {},
   "outputs": [],
   "source": [
    "#Save tables\n",
    "trades.to_csv(tables/'tables_trades.csv', index=False)\n",
    "depWith.to_csv(tables/'tables_deposits_and_withdrawals.csv', index=False)\n",
    "divs.to_csv(tables/'tables_dividends.csv', index=False)\n",
    "#forex.to_csv(tables/'tables_forex.csv', index=False)\n",
    "fees.to_csv(tables/'tables_fees.csv', index=False)\n",
    "pv.to_csv(tables/'tables_portfolio_value.csv', index=False)\n",
    "dwb.to_csv(tables/'tables_dw_in_base.csv', index=False)"
   ]
  },
  {
   "cell_type": "code",
   "execution_count": 70,
   "metadata": {},
   "outputs": [],
   "source": [
    "# symbol_names\n",
    "symbol_names = update_symbol_names(tables)"
   ]
  },
  {
   "cell_type": "code",
   "execution_count": 71,
   "metadata": {},
   "outputs": [],
   "source": [
    "symbol_names.to_csv(tables/'tables_symbol_names.csv', index=False)"
   ]
  },
  {
   "cell_type": "code",
   "execution_count": 72,
   "metadata": {},
   "outputs": [],
   "source": [
    "#Move .csv files\n",
    "from_dir = folder/'ibactivity'\n",
    "to_dir = folder/'ibactivity_processed'\n",
    "# files = list(from_dir.glob('*.csv'))\n",
    "# for f in files:\n",
    "#     f.rename(to_dir/f)\n",
    "for path in from_dir.iterdir():\n",
    "    if path.is_file():\n",
    "        old_name = path.stem\n",
    "        old_extension = path.suffix\n",
    "        directory = to_dir\n",
    "        new_name = old_name + old_extension\n",
    "        path.rename(Path(directory, new_name))\n",
    "#TODO integrity eg download all files to IBActivity as a repository/backup, if file not in processed move to new then process then move to processed\n",
    "\n",
    "\n"
   ]
  },
  {
   "cell_type": "code",
   "execution_count": null,
   "metadata": {},
   "outputs": [],
   "source": []
  }
 ]
}
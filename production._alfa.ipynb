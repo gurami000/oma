{
 "nbformat": 4,
 "nbformat_minor": 2,
 "metadata": {
  "language_info": {
   "name": "python",
   "codemirror_mode": {
    "name": "ipython",
    "version": 3
   },
   "version": "3.7.4-final"
  },
  "orig_nbformat": 2,
  "file_extension": ".py",
  "mimetype": "text/x-python",
  "name": "python",
  "npconvert_exporter": "python",
  "pygments_lexer": "ipython3",
  "version": 3,
  "kernelspec": {
   "name": "python37464bitbaseconda1e43623b5feb4079bd18afd99ef417a0",
   "display_name": "Python 3.7.4 64-bit ('base': conda)"
  }
 },
 "cells": [
  {
   "cell_type": "code",
   "execution_count": 1,
   "metadata": {},
   "outputs": [],
   "source": [
    "import pandas as pd\n",
    "import os\n",
    "from pathlib import Path "
   ]
  },
  {
   "cell_type": "code",
   "execution_count": 2,
   "metadata": {},
   "outputs": [],
   "source": [
    "#create fees function"
   ]
  },
  {
   "cell_type": "code",
   "execution_count": 3,
   "metadata": {},
   "outputs": [],
   "source": [
    "# Put all functions in one file and import all functions\n",
    "#TODO make all functions Path"
   ]
  },
  {
   "cell_type": "code",
   "execution_count": 5,
   "metadata": {},
   "outputs": [],
   "source": [
    "cwd =  Path.cwd()\n",
    "\n",
    "folder = cwd /'Data'/'IBActivityNew'\n",
    "\n",
    "tables = cwd / 'Data'/'Tables'"
   ]
  },
  {
   "cell_type": "code",
   "execution_count": 34,
   "metadata": {},
   "outputs": [
    {
     "data": {
      "text/plain": "2"
     },
     "execution_count": 34,
     "metadata": {},
     "output_type": "execute_result"
    }
   ],
   "source": [
    "#get all trades\n",
    "# check if tables files exist and not empty\n",
    "if tables/'tables_Trades.csv':\n",
    "    if os.stat(tables / 'tables_Trades - Copy.csv').st_size > 2:\n",
    "        trades = pd.read_csv(tables/'tables_Trades.csv')\n",
    "        new_trades = get_all_trades(folder)\n",
    "        trades = trades.append(new_trades)\n",
    "else:\n",
    "    trades = get_all_trades(folder)\n"
   ]
  },
  {
   "cell_type": "code",
   "execution_count": null,
   "metadata": {},
   "outputs": [],
   "source": [
    "#get all deposit and withdrawals\n",
    "\n",
    "if tables/'tables_deposits_and_withdrawals.csv':\n",
    "    if os.stat(tables / 'tables_deposits_and_withdrawals.csv').st_size >2:\n",
    "        depWith = pd.read_csv(tables/'tables_deposits_and_withdrawals.csv')\n",
    "        new_depWith = getAllDepAndWith(folder)\n",
    "        depWith = depWith.append(new_depWith)\n",
    "else:\n",
    "    depWith = getAllDepAndWith(folder)"
   ]
  },
  {
   "cell_type": "code",
   "execution_count": null,
   "metadata": {},
   "outputs": [],
   "source": [
    "#get all Dividends\n",
    "if tables/'tables_dividends.csv':\n",
    "    if os.stat(tables / 'tables_dividends.csv').st_size >2:\n",
    "        divs = pd.read_csv(tables/'tables_dividends.csv')\n",
    "        new_divs = getAllDividends(folder)\n",
    "        divs = divs.append(new_divs)\n",
    "else:\n",
    "    divs = getAllDividends(folder)"
   ]
  },
  {
   "cell_type": "code",
   "execution_count": null,
   "metadata": {},
   "outputs": [],
   "source": [
    "# get all Forex\n",
    "# forex is in trades"
   ]
  },
  {
   "cell_type": "code",
   "execution_count": null,
   "metadata": {},
   "outputs": [],
   "source": [
    "#Get all Fees\n",
    "if tables/'tables_fees.csv':\n",
    "    if os.stat(tables / 'tables_fees.csv').st_size >2:\n",
    "        fees = pd.read_csv(tables/'tables_fees.csv')\n",
    "        new_fees = get_all_fees(folder)\n",
    "        fees = fees.append(new_fees)\n",
    "else:\n",
    "    fees = get_all_fees(folder)"
   ]
  },
  {
   "cell_type": "code",
   "execution_count": null,
   "metadata": {},
   "outputs": [],
   "source": [
    "#TODO Symbol names (Unique.ipynb)"
   ]
  },
  {
   "cell_type": "code",
   "execution_count": null,
   "metadata": {},
   "outputs": [],
   "source": [
    "#Save tables\n",
    "trades.to_csv(tables/'tables_Trades.csv')\n",
    "depWith.to_csv(tables/'tables_deposits_and_withdrawals.csv.csv')\n",
    "divs.to_csv(tables/'tables_dividends.csv')\n",
    "forex.to_csv(tables/'tables_forex.csv')\n",
    "#fees.to_csv(tables/'tables_fees.csv')"
   ]
  },
  {
   "cell_type": "code",
   "execution_count": null,
   "metadata": {},
   "outputs": [],
   "source": [
    "#TODO Move .csv files"
   ]
  }
 ]
}
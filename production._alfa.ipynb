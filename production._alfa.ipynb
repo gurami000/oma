{
 "nbformat": 4,
 "nbformat_minor": 2,
 "metadata": {
  "language_info": {
   "name": "python",
   "codemirror_mode": {
    "name": "ipython",
    "version": 3
   },
   "version": "3.7.4-final"
  },
  "orig_nbformat": 2,
  "file_extension": ".py",
  "mimetype": "text/x-python",
  "name": "python",
  "npconvert_exporter": "python",
  "pygments_lexer": "ipython3",
  "version": 3,
  "kernelspec": {
   "name": "python37464bitbasecondafc973df1ce424b17b41caafa44b5e9ca",
   "display_name": "Python 3.7.4 64-bit ('base': conda)"
  }
 },
 "cells": [
  {
   "cell_type": "code",
   "execution_count": 2,
   "metadata": {},
   "outputs": [],
   "source": [
    "import pandas as pd\n",
    "import os\n",
    "import shutil\n",
    "from pathlib import Path \n",
    "\n",
    "from Code.functions import convert_to_df, process_ca,  process_data, process_depAndWith, process_div, process_tax, process_fees, process_pv, get_all_trades, get_all_depAndWith, get_all_dividends, get_all_fees, get_all_portfolio_value, calculate_PL, updatePL"
   ]
  },
  {
   "cell_type": "code",
   "execution_count": 3,
   "metadata": {},
   "outputs": [],
   "source": [
    "# Put all functions in one file and import all functions\n",
    "# make all functions Path"
   ]
  },
  {
   "cell_type": "code",
   "execution_count": 4,
   "metadata": {},
   "outputs": [],
   "source": [
    "cwd =  Path.cwd()\n",
    "\n",
    "folder = cwd /'Data'/'IBActivity'\n",
    "\n",
    "tables = cwd / 'Data'/'Tables'"
   ]
  },
  {
   "cell_type": "code",
   "execution_count": 5,
   "metadata": {},
   "outputs": [
    {
     "data": {
      "text/plain": "True"
     },
     "execution_count": 5,
     "metadata": {},
     "output_type": "execute_result"
    }
   ],
   "source": [
    "afile = tables/'tables_Trades.csv'\n",
    "#afile.is_file()\n",
    "(tables/'tables_Trades.csv').is_file()"
   ]
  },
  {
   "cell_type": "code",
   "execution_count": 13,
   "metadata": {},
   "outputs": [],
   "source": [
    "#get all trades\n",
    "# check if tables files exist and not empty\n",
    "if (tables/'tables_Trades.csv').is_file == True:\n",
    "    if os.stat(tables / 'tables_Trades.csv').st_size > 2:\n",
    "        trades = pd.read_csv(tables/'tables_Trades.csv')\n",
    "        new_trades = get_all_trades(folder)\n",
    "        trades = trades.append(new_trades)\n",
    "else:\n",
    "    trades = get_all_trades(folder)\n"
   ]
  },
  {
   "cell_type": "code",
   "execution_count": 14,
   "metadata": {},
   "outputs": [],
   "source": [
    "#get all deposit and withdrawals\n",
    "\n",
    "if (tables/'tables_deposits_and_withdrawals.csv').is_file == True:\n",
    "    if os.stat(tables / 'tables_deposits_and_withdrawals.csv').st_size >2:\n",
    "        depWith = pd.read_csv(tables/'tables_deposits_and_withdrawals.csv')\n",
    "        new_depWith = get_all_depAndWith(folder)\n",
    "        depWith = depWith.append(new_depWith)\n",
    "else:\n",
    "    depWith = get_all_depAndWith(folder)"
   ]
  },
  {
   "cell_type": "code",
   "execution_count": 15,
   "metadata": {},
   "outputs": [],
   "source": [
    "#get all Dividends\n",
    "if (tables/'tables_dividends.csv').is_file == True:\n",
    "    if os.stat(tables / 'tables_dividends.csv').st_size >2:\n",
    "        divs = pd.read_csv(tables/'tables_dividends.csv')\n",
    "        new_divs = get_all_dividends(folder)\n",
    "        divs = divs.append(new_divs)\n",
    "else:\n",
    "    divs = get_all_dividends(folder)"
   ]
  },
  {
   "cell_type": "code",
   "execution_count": null,
   "metadata": {},
   "outputs": [],
   "source": [
    "# get all Forex\n",
    "# forex is in trades"
   ]
  },
  {
   "cell_type": "code",
   "execution_count": 16,
   "metadata": {},
   "outputs": [],
   "source": [
    "#Get all Fees\n",
    "if (tables/'tables_fees.csv').is_file == True:\n",
    "    if os.stat(tables / 'tables_fees.csv').st_size >2:\n",
    "        fees = pd.read_csv(tables/'tables_fees.csv')\n",
    "        new_fees = get_all_fees(folder)\n",
    "        fees = fees.append(new_fees)\n",
    "else:\n",
    "    fees = get_all_fees(folder)"
   ]
  },
  {
   "cell_type": "code",
   "execution_count": null,
   "metadata": {},
   "outputs": [],
   "source": [
    "#TODO symbol_names (Unique.ipynb)"
   ]
  },
  {
   "cell_type": "code",
   "execution_count": 17,
   "metadata": {},
   "outputs": [],
   "source": [
    "#TODO portfolio_value\n",
    "if (tables/'tables_pertfolio_value.csv').is_file == True:\n",
    "    if os.stat(tables / 'tables_pertfolio_value.csv').st_size >2:\n",
    "        pv = pd.read_csv(tables/'tables_pertfolio_value.csv')\n",
    "        new_pv =  get_all_portfolio_value(folder)\n",
    "        pv = fees.append(new_fees)\n",
    "else:\n",
    "    pv =  get_all_portfolio_value(folder)"
   ]
  },
  {
   "cell_type": "code",
   "execution_count": 18,
   "metadata": {},
   "outputs": [],
   "source": [
    "#Save tables\n",
    "trades.to_csv(tables/'tables_Trades.csv')\n",
    "depWith.to_csv(tables/'tables_deposits_and_withdrawals.csv.csv')\n",
    "divs.to_csv(tables/'tables_dividends.csv')\n",
    "#forex.to_csv(tables/'tables_forex.csv')\n",
    "fees.to_csv(tables/'tables_fees.csv')\n",
    "pv.to_csv(tables/'tables_pertfolio_value.csv')\n",
    "# symbol_names.to_csv(tables/'tables_symbol_names.csv')"
   ]
  },
  {
   "cell_type": "code",
   "execution_count": 42,
   "metadata": {},
   "outputs": [],
   "source": [
    "#Move .csv files\n",
    "from_dir = cwd /'Data' / 'IBActivity'\n",
    "to_dir = cwd/ 'Data' / 'IBActivity_processed'\n",
    "# files = list(from_dir.glob('*.csv'))\n",
    "# for f in files:\n",
    "#     f.rename(to_dir/f)\n",
    "for path in from_dir.iterdir():\n",
    "    if path.is_file():\n",
    "        old_name = path.stem\n",
    "        old_extension = path.suffix\n",
    "        directory = to_dir\n",
    "        new_name = old_name + old_extension\n",
    "        path.rename(Path(directory, new_name))\n",
    "#TODO integrity eg download all files to IBActivity as a repository/backup, if file not in processed move to new then process then move to processed\n",
    "\n",
    "\n"
   ]
  },
  {
   "cell_type": "code",
   "execution_count": null,
   "metadata": {},
   "outputs": [],
   "source": []
  }
 ]
}